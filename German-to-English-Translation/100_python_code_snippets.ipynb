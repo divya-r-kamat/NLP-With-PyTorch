{
  "nbformat": 4,
  "nbformat_minor": 0,
  "metadata": {
    "colab": {
      "name": "100_python_code_snippets.ipynb",
      "provenance": [],
      "collapsed_sections": [],
      "mount_file_id": "14_QrWDyHJq91UUIkQGvINuKw-6Kf39pc",
      "authorship_tag": "ABX9TyMgDFe7uaqriu7pd2pVz7Fa",
      "include_colab_link": true
    },
    "kernelspec": {
      "name": "python3",
      "display_name": "Python 3"
    }
  },
  "cells": [
    {
      "cell_type": "markdown",
      "metadata": {
        "id": "view-in-github",
        "colab_type": "text"
      },
      "source": [
        "<a href=\"https://colab.research.google.com/github/divya-r-kamat/END/blob/main/Session8/100_python_code_snippets.ipynb\" target=\"_parent\"><img src=\"https://colab.research.google.com/assets/colab-badge.svg\" alt=\"Open In Colab\"/></a>"
      ]
    },
    {
      "cell_type": "code",
      "metadata": {
        "id": "vLcCW0lwCu0W"
      },
      "source": [
        "# write a python function to check if the user provided string is palindrome or not a palindrome\r\n",
        "\r\n",
        "def ifPalindrome(inVar):\r\n",
        "    revInvar = []\r\n",
        "    for _ in range((len(inVar)-1), -1, -1):\r\n",
        "        revInvar.append(inVar[_])\r\n",
        "    if revInvar == inVar:\r\n",
        "        return \"Palindrome\"\r\n",
        "    else:\r\n",
        "        return \"Not a palindrome\""
      ],
      "execution_count": 1,
      "outputs": []
    },
    {
      "cell_type": "code",
      "metadata": {
        "id": "4Iy8XVMHH2Gr"
      },
      "source": [
        "# write a python function to Calculate the date of n days from the given date.\r\n",
        "\r\n",
        "from datetime import datetime, timedelta\r\n",
        "def add_days(n, d = datetime.today()):\r\n",
        "  return d + timedelta(n)"
      ],
      "execution_count": 2,
      "outputs": []
    },
    {
      "cell_type": "code",
      "metadata": {
        "id": "XM6nPQ9XICVs"
      },
      "source": [
        "# write a python function to check if all elements in a list are equal.\r\n",
        "\r\n",
        "def all_equal(lst):\r\n",
        "  return len(set(lst)) == 1"
      ],
      "execution_count": 3,
      "outputs": []
    },
    {
      "cell_type": "code",
      "metadata": {
        "id": "YT636HA-Ji6Q"
      },
      "source": [
        "# write a python function to check if all elements in a list are unique.\r\n",
        "\r\n",
        "def all_unique(lst):\r\n",
        "  return len(lst) == len(set(lst))"
      ],
      "execution_count": 4,
      "outputs": []
    },
    {
      "cell_type": "code",
      "metadata": {
        "id": "ou2ZtFZZJz2-"
      },
      "source": [
        "# write a python function to find the average of two or more numbers and return the average\r\n",
        "\r\n",
        "def average(*args):\r\n",
        "  return sum(args, 0.0) / len(args)"
      ],
      "execution_count": 5,
      "outputs": []
    },
    {
      "cell_type": "code",
      "metadata": {
        "id": "LjJN4K_1KHao"
      },
      "source": [
        "# write a python function to convert a string to camelcase\r\n",
        "\r\n",
        "from re import sub\r\n",
        "def camel(s):\r\n",
        "  s = sub(r\"(_|-)+\", \" \", s).title().replace(\" \", \"\")\r\n",
        "  return ''.join([s[0].lower(), s[1:]])"
      ],
      "execution_count": 6,
      "outputs": []
    },
    {
      "cell_type": "code",
      "metadata": {
        "id": "qbddCPS1KjXR"
      },
      "source": [
        "# write a python function to capitalize the first letter of a string\r\n",
        "\r\n",
        "def capitalize(s, lower_rest = False):\r\n",
        "  return ''.join([s[:1].upper(), (s[1:].lower() if lower_rest else s[1:])])"
      ],
      "execution_count": 7,
      "outputs": []
    },
    {
      "cell_type": "code",
      "metadata": {
        "id": "EXlDs_XCK_Ly"
      },
      "source": [
        "# write a python function to convert Celsius to Fahrenheit.\r\n",
        "\r\n",
        "def celsius_to_fahrenheit(degrees):\r\n",
        "  return ((degrees * 1.8) + 32)"
      ],
      "execution_count": 8,
      "outputs": []
    },
    {
      "cell_type": "code",
      "metadata": {
        "id": "wmfgzdIZLR3Y"
      },
      "source": [
        "# write a python function to convert a given string into a list of words.\r\n",
        "\r\n",
        "import re\r\n",
        "def words(s, pattern = '[a-zA-Z-]+'):\r\n",
        "  return re.findall(pattern, s)"
      ],
      "execution_count": 9,
      "outputs": []
    },
    {
      "cell_type": "code",
      "metadata": {
        "id": "Jvf8r679lCnt"
      },
      "source": [
        "# write a python function thats returns a flat list of all the values in a flat dictionary\r\n",
        "\r\n",
        "def values_only(flat_dict):\r\n",
        "  return list(flat_dict.values())"
      ],
      "execution_count": 10,
      "outputs": []
    },
    {
      "cell_type": "code",
      "metadata": {
        "id": "MHUl3q2VlmKp"
      },
      "source": [
        "# write a python function thats accepts a list and returns most frequent element that appears in a list\r\n",
        "\r\n",
        "def most_frequent(list):\r\n",
        "    return max(set(list), key = list.count)"
      ],
      "execution_count": 11,
      "outputs": []
    },
    {
      "cell_type": "code",
      "metadata": {
        "colab": {
          "base_uri": "https://localhost:8080/"
        },
        "id": "o__Bprn_mT-c",
        "outputId": "352341c2-8ae6-44c7-f1fd-2dd9785b39ec"
      },
      "source": [
        "# write a python program to create multiplication table of 5\r\n",
        "\r\n",
        "n=5\r\n",
        "for i in range(1,11):\r\n",
        "   print(n,'x',i,'=',n*i)"
      ],
      "execution_count": 12,
      "outputs": [
        {
          "output_type": "stream",
          "text": [
            "5 x 1 = 5\n",
            "5 x 2 = 10\n",
            "5 x 3 = 15\n",
            "5 x 4 = 20\n",
            "5 x 5 = 25\n",
            "5 x 6 = 30\n",
            "5 x 7 = 35\n",
            "5 x 8 = 40\n",
            "5 x 9 = 45\n",
            "5 x 10 = 50\n"
          ],
          "name": "stdout"
        }
      ]
    },
    {
      "cell_type": "code",
      "metadata": {
        "id": "GAWZMH1mqSTJ"
      },
      "source": [
        "# write a python function to create multiplication table from the user provided number \r\n",
        "\r\n",
        "def multiplication_table(n):\r\n",
        "  for i in range(1,11):\r\n",
        "    print(n,'x',i,'=',n*i)\r\n"
      ],
      "execution_count": 13,
      "outputs": []
    },
    {
      "cell_type": "code",
      "metadata": {
        "colab": {
          "base_uri": "https://localhost:8080/"
        },
        "id": "qnzJbszVtBML",
        "outputId": "8e76510f-1f0f-4a0c-9c3e-a222cfe28a29"
      },
      "source": [
        "# write a python program to print a dictionary where the keys are numbers between 1 and 10 (both included) and the values are square of keys.\r\n",
        "\r\n",
        "d=dict()\r\n",
        "for x in range(1,11):\r\n",
        "    d[x]=x**2\r\n",
        "print(d)  "
      ],
      "execution_count": 14,
      "outputs": [
        {
          "output_type": "stream",
          "text": [
            "{1: 1, 2: 4, 3: 9, 4: 16, 5: 25, 6: 36, 7: 49, 8: 64, 9: 81, 10: 100}\n"
          ],
          "name": "stdout"
        }
      ]
    },
    {
      "cell_type": "code",
      "metadata": {
        "colab": {
          "base_uri": "https://localhost:8080/"
        },
        "id": "0cyFAp6pt9yO",
        "outputId": "57c593ab-d336-4481-c98c-c46a0da4d88f"
      },
      "source": [
        "# write a python program to sort a list of tuples using Lambda.\r\n",
        "\r\n",
        "marks = [('Computer Science', 88), ('Physics', 90), ('Maths', 97), ('Chemistry', 82)]\r\n",
        "print(\"Original list of tuples:\")\r\n",
        "print(marks)\r\n",
        "marks.sort(key = lambda x: x[1])\r\n",
        "print(\"\\nSorting the List of Tuples:\")\r\n",
        "print(marks)"
      ],
      "execution_count": 15,
      "outputs": [
        {
          "output_type": "stream",
          "text": [
            "Original list of tuples:\n",
            "[('Computer Science', 88), ('Physics', 90), ('Maths', 97), ('Chemistry', 82)]\n",
            "\n",
            "Sorting the List of Tuples:\n",
            "[('Chemistry', 82), ('Computer Science', 88), ('Physics', 90), ('Maths', 97)]\n"
          ],
          "name": "stdout"
        }
      ]
    },
    {
      "cell_type": "code",
      "metadata": {
        "id": "Vs0DhTwmwEm4"
      },
      "source": [
        "# write a python function to calculate the median of user provided list of numbers\r\n",
        "\r\n",
        "def median(list):\r\n",
        "  list.sort()\r\n",
        "  list_length = len(list)\r\n",
        "  if list_length % 2 == 0:\r\n",
        "    return (list[int(list_length / 2) - 1] + list[int(list_length / 2)]) / 2\r\n",
        "  return float(list[int(list_length / 2)])"
      ],
      "execution_count": 16,
      "outputs": []
    },
    {
      "cell_type": "code",
      "metadata": {
        "colab": {
          "base_uri": "https://localhost:8080/"
        },
        "id": "YWAUiNhIyLmu",
        "outputId": "18b42f89-a5aa-421a-b7cd-853ecd354031"
      },
      "source": [
        "# write a Python program to calculate simple interest\r\n",
        "\r\n",
        "p = 10000\r\n",
        "t = 6\r\n",
        "r = 8\r\n",
        "si = (p * t * r)/100\r\n",
        "print(f'Simple interest is {si}')"
      ],
      "execution_count": 17,
      "outputs": [
        {
          "output_type": "stream",
          "text": [
            "Simple interest is 4800.0\n"
          ],
          "name": "stdout"
        }
      ]
    },
    {
      "cell_type": "code",
      "metadata": {
        "colab": {
          "base_uri": "https://localhost:8080/"
        },
        "id": "kw4LOsub1U9H",
        "outputId": "693b8b23-1b31-4f9c-b72a-fd7894c86fff"
      },
      "source": [
        "# write a python program to check if year is a leap year or not\r\n",
        "\r\n",
        "year = 2004\r\n",
        "if (year % 4) == 0:\r\n",
        "   if (year % 100) == 0:\r\n",
        "       if (year % 400) == 0:\r\n",
        "           print(f\"{year} is a leap year\")\r\n",
        "       else:\r\n",
        "           print(f\"{year} is not a leap year\")\r\n",
        "   else:\r\n",
        "      print(f\"{year} is a leap year\")\r\n",
        "else:\r\n",
        "   print(f\"{year} is not a leap year\")"
      ],
      "execution_count": 18,
      "outputs": [
        {
          "output_type": "stream",
          "text": [
            "2004 is a leap year\n"
          ],
          "name": "stdout"
        }
      ]
    },
    {
      "cell_type": "code",
      "metadata": {
        "id": "n50yqR4w3faN"
      },
      "source": [
        "# Write a python function to check if user provided year is a leap year or not\r\n",
        "\r\n",
        "def is_leap(year):\r\n",
        "  if (year % 4) == 0:\r\n",
        "    if (year % 100) == 0:\r\n",
        "        if (year % 400) == 0:\r\n",
        "            print(f\"{year} is a leap year\")\r\n",
        "        else:\r\n",
        "            print(f\"{year} is not a leap year\")\r\n",
        "    else:\r\n",
        "        print(f\"{year} is a leap year\")\r\n",
        "  else:\r\n",
        "    print(f\"{year} is not a leap year\")\r\n"
      ],
      "execution_count": 19,
      "outputs": []
    },
    {
      "cell_type": "code",
      "metadata": {
        "id": "ubTunXUq4juP"
      },
      "source": [
        "# Write a python function to check the strength of user provided password\r\n",
        "\r\n",
        "def check_password_strength(password):\r\n",
        "  import re \r\n",
        "  flag = 0\r\n",
        "  while True:   \r\n",
        "      if (len(password)<8): \r\n",
        "          flag = -1\r\n",
        "          break\r\n",
        "      elif not re.search(\"[a-z]\", password): \r\n",
        "          flag = -1\r\n",
        "          break\r\n",
        "      elif not re.search(\"[A-Z]\", password): \r\n",
        "          flag = -1\r\n",
        "          break\r\n",
        "      elif not re.search(\"[0-9]\", password): \r\n",
        "          flag = -1\r\n",
        "          break\r\n",
        "      elif not re.search(\"[_@$]\", password): \r\n",
        "          flag = -1\r\n",
        "          break\r\n",
        "      elif re.search(\"\\s\", password): \r\n",
        "          flag = -1\r\n",
        "          break\r\n",
        "      else: \r\n",
        "          flag = 0\r\n",
        "          print(\"Strong Password\") \r\n",
        "          break  \r\n",
        "  if flag ==-1: \r\n",
        "      print(\"Weak Password\") "
      ],
      "execution_count": 20,
      "outputs": []
    },
    {
      "cell_type": "code",
      "metadata": {
        "colab": {
          "base_uri": "https://localhost:8080/"
        },
        "id": "VbfebG6i6KhN",
        "outputId": "21d62904-0fb9-465b-e19e-dbebc967fb2d"
      },
      "source": [
        "# write a python Program to find area of circle \r\n",
        "\r\n",
        "PI = 3.14\r\n",
        "radius = float(6)\r\n",
        "area = PI * radius * radius\r\n",
        "circumference = 2 * PI * radius\r\n",
        "print(f'Area Of a Circle {area}')\r\n",
        "print(f'Circumference Of a Circle {circumference}')"
      ],
      "execution_count": 21,
      "outputs": [
        {
          "output_type": "stream",
          "text": [
            "Area Of a Circle 113.03999999999999\n",
            "Circumference Of a Circle 37.68\n"
          ],
          "name": "stdout"
        }
      ]
    },
    {
      "cell_type": "code",
      "metadata": {
        "id": "vqtCeXPg6Orn"
      },
      "source": [
        "# write a python function to find the area of a circle using the user provided radius\r\n",
        "\r\n",
        "def area_of_circle(radius):\r\n",
        "  PI = 3.14\r\n",
        "  radius = float(radius)\r\n",
        "  area = PI * radius * radius\r\n",
        "  circumference = 2 * PI * radius\r\n",
        "  print(f'Area Of a Circle {area}')\r\n",
        "  print(f'Circumference Of a Circle {circumference}')"
      ],
      "execution_count": 22,
      "outputs": []
    },
    {
      "cell_type": "code",
      "metadata": {
        "id": "utr4mci-7-wQ"
      },
      "source": [
        "# write a python function to find the area of a circle using the user provided circumference\r\n",
        "\r\n",
        "def area_of_circle(circumference):\r\n",
        "  circumference = float(circumference)\r\n",
        "  PI = 3.14\r\n",
        "  area = (circumference * circumference)/(4 * PI)\r\n",
        "  print(f'Area Of a Circle {area}')\r\n"
      ],
      "execution_count": 23,
      "outputs": []
    },
    {
      "cell_type": "code",
      "metadata": {
        "id": "8gvyArya8bmo"
      },
      "source": [
        "# write a python function to find the area of a circle using the user provided diameter\r\n",
        "\r\n",
        "def area_of_circle(diameter):\r\n",
        "  PI = 3.14\r\n",
        "  area = (PI/4) * (diameter * diameter)\r\n",
        "  print(f'Area Of a Circle {area}')"
      ],
      "execution_count": 24,
      "outputs": []
    },
    {
      "cell_type": "code",
      "metadata": {
        "id": "qR0dtUtz88p3"
      },
      "source": [
        "# write a python function to generate 4 digit OTP\r\n",
        "\r\n",
        "import math, random \r\n",
        "def generateOTP() : \r\n",
        "    digits = \"0123456789\"\r\n",
        "    OTP = \"\" \r\n",
        "    for i in range(4) : \r\n",
        "        OTP += digits[math.floor(random.random() * 10)] \r\n",
        "    return OTP \r\n"
      ],
      "execution_count": 25,
      "outputs": []
    },
    {
      "cell_type": "code",
      "metadata": {
        "id": "XYT6hB3j927B"
      },
      "source": [
        "# write a python function to generate 6 digit OTP\r\n",
        "\r\n",
        "import math, random \r\n",
        "def generateOTP() :  \r\n",
        "    digits = \"0123456789\"\r\n",
        "    OTP = \"\" \r\n",
        "    for i in range(6) : \r\n",
        "        OTP += digits[math.floor(random.random() * 10)]  \r\n",
        "    return OTP  "
      ],
      "execution_count": 26,
      "outputs": []
    },
    {
      "cell_type": "code",
      "metadata": {
        "colab": {
          "base_uri": "https://localhost:8080/"
        },
        "id": "1FjXOHxZ984o",
        "outputId": "243965cc-2602-4128-a0ee-228618bf0498"
      },
      "source": [
        "# write a python program to calculate distance between tao points\r\n",
        "\r\n",
        "import math\r\n",
        "p1 = [4, 0]\r\n",
        "p2 = [6, 6]\r\n",
        "distance = math.sqrt( ((p1[0]-p2[0])**2)+((p1[1]-p2[1])**2) )\r\n",
        "print(f\"The distance between {p1} and {p2} is {distance}\")"
      ],
      "execution_count": 27,
      "outputs": [
        {
          "output_type": "stream",
          "text": [
            "The distance between [4, 0] and [6, 6] is 6.324555320336759\n"
          ],
          "name": "stdout"
        }
      ]
    },
    {
      "cell_type": "code",
      "metadata": {
        "id": "llRclYdkf5h4"
      },
      "source": [
        "# write a python function to calculate compound interest\r\n",
        "\r\n",
        "def compound_interest(principle, rate, time): \r\n",
        "    Amount = principle * (pow((1 + rate / 100), time)) \r\n",
        "    CI = Amount - principle \r\n",
        "    print(f\"Compound interest is {CI}\") "
      ],
      "execution_count": 28,
      "outputs": []
    },
    {
      "cell_type": "code",
      "metadata": {
        "id": "Te35cYbxg2Zp"
      },
      "source": [
        "# write a python function to convert hours to minutes\r\n",
        "\r\n",
        "def convert_to_minutes(num_hours):\r\n",
        "    minutes = num_hours * 60\r\n",
        "    return minutes"
      ],
      "execution_count": 29,
      "outputs": []
    },
    {
      "cell_type": "code",
      "metadata": {
        "id": "fwsi2A4bhRrE"
      },
      "source": [
        "# write a python function to convert hours to seconds\r\n",
        "\r\n",
        "def convert_to_seconds(num_hours):\r\n",
        "    minutes = num_hours * 60\r\n",
        "    seconds = minutes * 60\r\n",
        "    return seconds\r\n"
      ],
      "execution_count": 30,
      "outputs": []
    },
    {
      "cell_type": "code",
      "metadata": {
        "id": "FgSB8nvajjUX"
      },
      "source": [
        "# write a python function to remove vowels from a string\r\n",
        "def vowel_remover(text):\r\n",
        "    string = \"\"\r\n",
        "    for l in text:\r\n",
        "        if l.lower() != \"a\" and l.lower() != \"e\" and l.lower() != \"i\" and l.lower() != \"o\" and l.lower() != \"u\":\r\n",
        "            string += l\r\n",
        "    return string\r\n"
      ],
      "execution_count": 31,
      "outputs": []
    },
    {
      "cell_type": "code",
      "metadata": {
        "colab": {
          "base_uri": "https://localhost:8080/"
        },
        "id": "EvZxFzEXj5TJ",
        "outputId": "f6250d17-9c89-40c7-c5cd-ed09f38784b1"
      },
      "source": [
        "# write a python program to print all integers that aren’t divisible by either 2 or 3 and lies between 1 and 50.\r\n",
        "for i in range(0,50):\r\n",
        "  if((i%2!=0) & (i%3!=0)):\r\n",
        "      print(i) "
      ],
      "execution_count": 32,
      "outputs": [
        {
          "output_type": "stream",
          "text": [
            "1\n",
            "5\n",
            "7\n",
            "11\n",
            "13\n",
            "17\n",
            "19\n",
            "23\n",
            "25\n",
            "29\n",
            "31\n",
            "35\n",
            "37\n",
            "41\n",
            "43\n",
            "47\n",
            "49\n"
          ],
          "name": "stdout"
        }
      ]
    },
    {
      "cell_type": "code",
      "metadata": {
        "id": "31Tg-mGtkTgx"
      },
      "source": [
        "# write a python function to print odd numbers between user provided ranges\r\n",
        "\r\n",
        "def odd_numbers(lower,upper):\r\n",
        "  for i in range(lower,upper+1):\r\n",
        "    if(i%2!=0):\r\n",
        "        print(i)"
      ],
      "execution_count": 33,
      "outputs": []
    },
    {
      "cell_type": "code",
      "metadata": {
        "colab": {
          "base_uri": "https://localhost:8080/"
        },
        "id": "SiKnEkFllgzG",
        "outputId": "486ef46a-c902-4288-ff15-5e4bc487e2a4"
      },
      "source": [
        "# write a python program to find sum of natural numbers up to a 16\r\n",
        "\r\n",
        "num = 16\r\n",
        "if num < 0:\r\n",
        "   print(\"Enter a positive number\")\r\n",
        "else:\r\n",
        "   sum = 0\r\n",
        "   # use while loop to iterate until zero\r\n",
        "   while(num > 0):\r\n",
        "       sum += num\r\n",
        "       num -= 1\r\n",
        "   print(\"The sum is\", sum)"
      ],
      "execution_count": 34,
      "outputs": [
        {
          "output_type": "stream",
          "text": [
            "The sum is 136\n"
          ],
          "name": "stdout"
        }
      ]
    },
    {
      "cell_type": "code",
      "metadata": {
        "id": "M424LsvumUDU"
      },
      "source": [
        "# write a python program to remove punctuations from a string\r\n",
        "\r\n",
        "punctuations = '''!()-[]{};:'\"\\,<>./?@#$%^&*_~'''\r\n",
        "my_str = \"Hello!!!, she said ---and went.\"\r\n",
        "no_punct = \"\"\r\n",
        "for char in my_str:\r\n",
        "   if char not in punctuations:\r\n",
        "       no_punct = no_punct + char"
      ],
      "execution_count": 35,
      "outputs": []
    },
    {
      "cell_type": "code",
      "metadata": {
        "id": "TB0gOpAVmonc"
      },
      "source": [
        "# write a python function to find the resolution on the user provided image\r\n",
        "\r\n",
        "def jpeg_res(filename):\r\n",
        "   with open(filename,'rb') as img_file:\r\n",
        "       img_file.seek(163)\r\n",
        "       a = img_file.read(2)\r\n",
        "       height = (a[0] << 8) + a[1]\r\n",
        "       a = img_file.read(2)\r\n",
        "       width = (a[0] << 8) + a[1]\r\n",
        "   print(f\"The resolution of the image is {width}x{height}\")"
      ],
      "execution_count": 36,
      "outputs": []
    },
    {
      "cell_type": "code",
      "metadata": {
        "colab": {
          "base_uri": "https://localhost:8080/"
        },
        "id": "0GRFOOJ0nl_k",
        "outputId": "f4161a43-0c28-47b8-8780-a71d5f39c043"
      },
      "source": [
        "# write a python program to count the number of each vowels in a given text\r\n",
        "\r\n",
        "\r\n",
        "vowels = 'aeiou'\r\n",
        "text = 'Hello, have you tried our tutorial section yet?'\r\n",
        "text = text.casefold()\r\n",
        "count = {}.fromkeys(vowels,0)\r\n",
        "for char in text:\r\n",
        "   if char in count:\r\n",
        "       count[char] += 1\r\n",
        "print(count)"
      ],
      "execution_count": 37,
      "outputs": [
        {
          "output_type": "stream",
          "text": [
            "{'a': 2, 'e': 5, 'i': 3, 'o': 5, 'u': 3}\n"
          ],
          "name": "stdout"
        }
      ]
    },
    {
      "cell_type": "code",
      "metadata": {
        "id": "dE6QMPlGocxm"
      },
      "source": [
        "# write a python function to check if a key exists in a dictionary\r\n",
        "\r\n",
        "d = {'key1': 'value1', 'key2': 'value2', 'key3': 'value3', 'key4': 'value4'}\r\n",
        "def is_key_present(x):\r\n",
        "  if x in d:\r\n",
        "      print('Key is present in the dictionary')\r\n",
        "  else:\r\n",
        "      print('Key is not present in the dictionary')"
      ],
      "execution_count": 38,
      "outputs": []
    },
    {
      "cell_type": "code",
      "metadata": {
        "colab": {
          "base_uri": "https://localhost:8080/"
        },
        "id": "ImyYVk2rb-Iz",
        "outputId": "89ba46bc-5267-4194-cb6e-d26bb7956f14"
      },
      "source": [
        "# write a python program to check if the list is empty\r\n",
        "\r\n",
        "l = []\r\n",
        "if not l:\r\n",
        "  print(\"List is empty\")\r\n",
        "else:\r\n",
        "  print(\"List is not empty\")"
      ],
      "execution_count": 39,
      "outputs": [
        {
          "output_type": "stream",
          "text": [
            "List is empty\n"
          ],
          "name": "stdout"
        }
      ]
    },
    {
      "cell_type": "code",
      "metadata": {
        "colab": {
          "base_uri": "https://localhost:8080/"
        },
        "id": "l4Ft-Ba8cCsa",
        "outputId": "f54c95e3-1def-4573-cd7b-d026639020e4"
      },
      "source": [
        "# write a python program to convert two lists into dictionary\r\n",
        "\r\n",
        "column_names = ['id', 'color', 'style']\r\n",
        "column_values = [1, 'red', 'bold']\r\n",
        "name_to_value_dict = dict(zip(column_names, column_values))\r\n",
        "name_to_value_dict = {key:value for key, value in zip(column_names, column_values)}\r\n",
        "name_value_tuples = zip(column_names, column_values) \r\n",
        "name_to_value_dict = {} \r\n",
        "for key, value in name_value_tuples: \r\n",
        "    if key in name_to_value_dict: \r\n",
        "        pass  \r\n",
        "    else: \r\n",
        "        name_to_value_dict[key] = value\r\n",
        "print(name_to_value_dict)"
      ],
      "execution_count": 40,
      "outputs": [
        {
          "output_type": "stream",
          "text": [
            "{'id': 1, 'color': 'red', 'style': 'bold'}\n"
          ],
          "name": "stdout"
        }
      ]
    },
    {
      "cell_type": "code",
      "metadata": {
        "colab": {
          "base_uri": "https://localhost:8080/"
        },
        "id": "bFf4nZwAzXGK",
        "outputId": "35d4aa97-1d87-46df-ee18-58115614d103"
      },
      "source": [
        "# write a python program to get index values for a list in the form of key:value pair using enumerate\r\n",
        "\r\n",
        "my_list = ['a', 'b', 'c', 'd', 'e']\r\n",
        "for index, value in enumerate(my_list):\r\n",
        "    print('{0}: {1}'.format(index, value))\r\n"
      ],
      "execution_count": 41,
      "outputs": [
        {
          "output_type": "stream",
          "text": [
            "0: a\n",
            "1: b\n",
            "2: c\n",
            "3: d\n",
            "4: e\n"
          ],
          "name": "stdout"
        }
      ]
    },
    {
      "cell_type": "code",
      "metadata": {
        "colab": {
          "base_uri": "https://localhost:8080/"
        },
        "id": "pU2za9OR1a4a",
        "outputId": "91e9fc30-50c7-4673-fa9a-6b78b904e8b7"
      },
      "source": [
        "# write a python program to merge two dictionaries\r\n",
        "\r\n",
        "dict_1 = {'apple': 9, 'banana': 6}\r\n",
        "dict_2 = {'banana': 4, 'orange': 8}\r\n",
        "combined_dict = {**dict_1, **dict_2}\r\n",
        "print(combined_dict)"
      ],
      "execution_count": 42,
      "outputs": [
        {
          "output_type": "stream",
          "text": [
            "{'apple': 9, 'banana': 4, 'orange': 8}\n"
          ],
          "name": "stdout"
        }
      ]
    },
    {
      "cell_type": "code",
      "metadata": {
        "id": "IxJj0d4A1zVN"
      },
      "source": [
        "# write a python function to check if all elements in a list are unique or not\r\n",
        "\r\n",
        "def unique(l):\r\n",
        "    if len(l)==len(set(l)):\r\n",
        "        print(\"All elements are unique\")\r\n",
        "    else:\r\n",
        "        print(\"List has duplicates\")"
      ],
      "execution_count": 43,
      "outputs": []
    },
    {
      "cell_type": "code",
      "metadata": {
        "id": "ImwkKvHZ2HTb"
      },
      "source": [
        "# write a python function to validate the email \r\n",
        "\r\n",
        "import re \r\n",
        "regex = '^[a-z0-9]+[\\._]?[a-z0-9]+[@]\\w+[.]\\w{2,3}$'      \r\n",
        "def check(email):  \r\n",
        "    if(re.search(regex,email)):  \r\n",
        "        print(\"Valid Email\")         \r\n",
        "    else:  \r\n",
        "        print(\"Invalid Email\") "
      ],
      "execution_count": 44,
      "outputs": []
    },
    {
      "cell_type": "code",
      "metadata": {
        "id": "32gf8opt4ciP"
      },
      "source": [
        "# write a python function to calculate the age with the user provided date of birth\r\n",
        "\r\n",
        "from datetime import date\r\n",
        "def calculate_age(dtob):\r\n",
        "    today = date.today()\r\n",
        "    return today.year - dtob.year - ((today.month, today.day) < (dtob.month, dtob.day))\r\n",
        "\r\n"
      ],
      "execution_count": 45,
      "outputs": []
    },
    {
      "cell_type": "code",
      "metadata": {
        "id": "StLCW6UpIZF-"
      },
      "source": [
        "# write a python function to check if a user provided number is a perfect square.\r\n",
        "\r\n",
        "def is_perfect_square(n):\r\n",
        "    x = n // 2\r\n",
        "    y = set([x])\r\n",
        "    while x * x != n:\r\n",
        "        x = (x + (n // x)) // 2\r\n",
        "        if x in y: return False\r\n",
        "        y.add(x)\r\n",
        "    return True"
      ],
      "execution_count": 46,
      "outputs": []
    },
    {
      "cell_type": "code",
      "metadata": {
        "id": "Bqi2eLT-JSex"
      },
      "source": [
        "# write a python function that removes element from a list using a user provided number\r\n",
        "\r\n",
        "def drop(a, n = 1):\r\n",
        "  return a[n:] "
      ],
      "execution_count": 47,
      "outputs": []
    },
    {
      "cell_type": "code",
      "metadata": {
        "id": "D--wnv2QJ6Xh"
      },
      "source": [
        "# write a program function to check if given words appear together in a list of sentence\r\n",
        "\r\n",
        "def check(sentence, words): \r\n",
        "    res = [all([k in s for k in words]) for s in sentence] \r\n",
        "    return [sentence[i] for i in range(0, len(res)) if res[i]] "
      ],
      "execution_count": 48,
      "outputs": []
    },
    {
      "cell_type": "code",
      "metadata": {
        "colab": {
          "base_uri": "https://localhost:8080/"
        },
        "id": "8Qc6akdHLW5G",
        "outputId": "97e203ac-23cf-46d8-95de-5b9e6d2f4f67"
      },
      "source": [
        "# write a python program  to convert list of tuples into list \r\n",
        "\r\n",
        "lt = [('English', 2), ('Maths', 4), ('Science', '6')] \r\n",
        "out = [item for t in lt for item in t]  \r\n",
        "print(out) "
      ],
      "execution_count": 49,
      "outputs": [
        {
          "output_type": "stream",
          "text": [
            "['English', 2, 'Maths', 4, 'Science', '6']\n"
          ],
          "name": "stdout"
        }
      ]
    },
    {
      "cell_type": "code",
      "metadata": {
        "colab": {
          "base_uri": "https://localhost:8080/"
        },
        "id": "P9qhsQfXLn9s",
        "outputId": "15cc5fd9-71c0-40b0-e342-2122f4d1b68b"
      },
      "source": [
        "# write a python program to count the number of words in a sentence\r\n",
        "\r\n",
        "test_string = \"This is a good book\"\r\n",
        "res = len(test_string.split()) \r\n",
        "print (f\"The number of words in string are :{str(res)}\") "
      ],
      "execution_count": 50,
      "outputs": [
        {
          "output_type": "stream",
          "text": [
            "The number of words in string are :5\n"
          ],
          "name": "stdout"
        }
      ]
    },
    {
      "cell_type": "code",
      "metadata": {
        "id": "XheP12fwMKyJ"
      },
      "source": [
        "# write a python function to count the occurrences of a value in a list.\r\n",
        "\r\n",
        "def count_occurrences(lst, val):\r\n",
        "  return lst.count(val)"
      ],
      "execution_count": 51,
      "outputs": []
    },
    {
      "cell_type": "code",
      "metadata": {
        "id": "tlfj5uOdOTkk"
      },
      "source": [
        "# write a python function to return the length of user provided string in bytes\r\n",
        "\r\n",
        "def byte_size(s):\r\n",
        "  return len(s.encode('utf-8'))\r\n"
      ],
      "execution_count": 52,
      "outputs": []
    },
    {
      "cell_type": "code",
      "metadata": {
        "id": "W9YicckfOxs0"
      },
      "source": [
        "# write a python function to calculate the greatest common divisor (GCD) of two user provided positive integers. \r\n",
        "\r\n",
        "def gcd(num1, num2):\r\n",
        "    gcd = 1  \r\n",
        "    if num1 % num2 == 0:\r\n",
        "        return num2\r\n",
        "    for k in range(int(num2 / 2), 0, -1):\r\n",
        "        if num1 % k == 0 and num2 % k == 0:\r\n",
        "            gcd = k\r\n",
        "            break  \r\n",
        "    return gcd"
      ],
      "execution_count": 53,
      "outputs": []
    },
    {
      "cell_type": "code",
      "metadata": {
        "id": "nNqfqDVzPww_"
      },
      "source": [
        "# write a python function to calculate the least common multiple (LCM) of two user provided positive integers.\r\n",
        "\r\n",
        "def lcm(num1, num2):\r\n",
        "   if num1 > num2:\r\n",
        "       z = num1\r\n",
        "   else:\r\n",
        "       z = num2\r\n",
        "   while(True):\r\n",
        "       if((z % num1 == 0) and (z % num2 == 0)):\r\n",
        "           lcm = z\r\n",
        "           break\r\n",
        "       z += 1\r\n",
        "   return lcm"
      ],
      "execution_count": 54,
      "outputs": []
    },
    {
      "cell_type": "code",
      "metadata": {
        "id": "kE0kZEA9QDLO",
        "colab": {
          "base_uri": "https://localhost:8080/"
        },
        "outputId": "5f27da1f-1478-49db-bb0f-9d567bac61fb"
      },
      "source": [
        "# write a python program to split the string into chunks of size 3\r\n",
        "\r\n",
        "str = 'CarBadBoxNumKeyValRayCppSan'\r\n",
        "n = 3\r\n",
        "chunks = [str[i:i+n] for i in range(0, len(str), n)]\r\n",
        "print(chunks)"
      ],
      "execution_count": 55,
      "outputs": [
        {
          "output_type": "stream",
          "text": [
            "['Car', 'Bad', 'Box', 'Num', 'Key', 'Val', 'Ray', 'Cpp', 'San']\n"
          ],
          "name": "stdout"
        }
      ]
    },
    {
      "cell_type": "code",
      "metadata": {
        "id": "_xE9oSm6zPnz"
      },
      "source": [
        "# write a python function to read first n lines from a file\r\n",
        "\r\n",
        "def file_read_from_head(fname, nlines):\r\n",
        "    from itertools import islice\r\n",
        "    with open(fname) as f:\r\n",
        "      for line in islice(f, nlines):\r\n",
        "        print(line)"
      ],
      "execution_count": 56,
      "outputs": []
    },
    {
      "cell_type": "code",
      "metadata": {
        "colab": {
          "base_uri": "https://localhost:8080/"
        },
        "id": "4MoTUwAK7kmd",
        "outputId": "9aa53e0b-1713-47f0-9a65-8f4abf043f4a"
      },
      "source": [
        "# write a python program to check whether a person is eligible to vote or not\r\n",
        "\r\n",
        "age=23\r\n",
        "if age>=18:\r\n",
        "        status=\"Eligible\"\r\n",
        "else:\r\n",
        "    status=\"Not Eligible\"\r\n",
        "print(\"You are \",status,\" for Vote.\")\r\n",
        "\r\n"
      ],
      "execution_count": 57,
      "outputs": [
        {
          "output_type": "stream",
          "text": [
            "You are  Eligible  for Vote.\n"
          ],
          "name": "stdout"
        }
      ]
    },
    {
      "cell_type": "code",
      "metadata": {
        "colab": {
          "base_uri": "https://localhost:8080/"
        },
        "id": "M3kyB61Y96OS",
        "outputId": "09bdcc09-2722-4073-cef7-4abbe4ebd56f"
      },
      "source": [
        "# write a python program to check if a number is positive, negative or zero.\r\n",
        "\r\n",
        "num = 5\r\n",
        "if num > 0:\r\n",
        "   print(\"It is positive number\")\r\n",
        "elif num == 0:\r\n",
        "   print(\"It is Zero\")\r\n",
        "else:\r\n",
        "   print(\"It is a negative number\")"
      ],
      "execution_count": 58,
      "outputs": [
        {
          "output_type": "stream",
          "text": [
            "It is positive number\n"
          ],
          "name": "stdout"
        }
      ]
    },
    {
      "cell_type": "code",
      "metadata": {
        "colab": {
          "base_uri": "https://localhost:8080/"
        },
        "id": "jIPyrroF_JkD",
        "outputId": "3d5bef0b-0aae-43ff-fcda-80f6f378d602"
      },
      "source": [
        "# write a python program to get numbers divisible by fifteen from a list\r\n",
        "\r\n",
        "num_list = [45, 55, 60, 37, 100, 105, 220]\r\n",
        "result = list(filter(lambda x: (x % 15 == 0), num_list))\r\n",
        "print(f\"Numbers divisible by 15 are {result}\")"
      ],
      "execution_count": 59,
      "outputs": [
        {
          "output_type": "stream",
          "text": [
            "Numbers divisible by 15 are [45, 60, 105]\n"
          ],
          "name": "stdout"
        }
      ]
    },
    {
      "cell_type": "code",
      "metadata": {
        "id": "6tgUiLPtBYpI"
      },
      "source": [
        "# write a python function to append text to a user provided file\r\n",
        "\r\n",
        "def file_read(fname):\r\n",
        "    with open(fname, \"w\") as myfile:\r\n",
        "      myfile.write(\"Appending line one\\n\")\r\n",
        "      myfile.write(\"Appending line two\")\r\n",
        "      txt = open(fname)\r\n",
        "      print(txt.read())"
      ],
      "execution_count": 60,
      "outputs": []
    },
    {
      "cell_type": "code",
      "metadata": {
        "id": "KF7BOP7IFaqO"
      },
      "source": [
        "# write a python function to pad a user provided number to specified length\r\n",
        "\r\n",
        "def pad_number(n, l):\r\n",
        "  return str(n).zfill(l)"
      ],
      "execution_count": 61,
      "outputs": []
    },
    {
      "cell_type": "code",
      "metadata": {
        "id": "YikLm8uD_nJQ"
      },
      "source": [
        "# write a python function to convert a user provided list of dictionaries into a list of values corresponding to the user specified key\r\n",
        "\r\n",
        "def pluck(lst, key):\r\n",
        "  return [x.get(key) for x in lst]"
      ],
      "execution_count": 62,
      "outputs": []
    },
    {
      "cell_type": "code",
      "metadata": {
        "id": "U4PlFbse_5qz"
      },
      "source": [
        "# write a python function to convert the values of RGB components to a hexadecimal color code.\r\n",
        "\r\n",
        "def rgb_to_hex(r, g, b):\r\n",
        "  return ('{:02X}' * 3).format(r, g, b)"
      ],
      "execution_count": 63,
      "outputs": []
    },
    {
      "cell_type": "code",
      "metadata": {
        "id": "fVMydrrOAeFw"
      },
      "source": [
        "# write a python function to reverse a user provided list or string\r\n",
        "\r\n",
        "def reverse(itr):\r\n",
        "  return itr[::-1]"
      ],
      "execution_count": 64,
      "outputs": []
    },
    {
      "cell_type": "code",
      "metadata": {
        "id": "9m2ESxPPApKL"
      },
      "source": [
        "# write a python function to convert an angle from radians to degrees.\r\n",
        "\r\n",
        "def rads_to_degrees(rad):\r\n",
        "  return (rad * 180.0) / 3.14"
      ],
      "execution_count": 65,
      "outputs": []
    },
    {
      "cell_type": "code",
      "metadata": {
        "id": "kAU1hCjgBBKj"
      },
      "source": [
        "# write a python function that returns a list of elements that exist in both user provided lists.\r\n",
        "\r\n",
        "def similarity(a, b):\r\n",
        "  return [item for item in a if item in b]"
      ],
      "execution_count": 66,
      "outputs": []
    },
    {
      "cell_type": "code",
      "metadata": {
        "id": "uaTBIds2Bn3X"
      },
      "source": [
        "# write a python function that converts a user provided string to snake case\r\n",
        "\r\n",
        "from re import sub\r\n",
        "def snake(s):\r\n",
        "  return '_'.join(\r\n",
        "    sub('([A-Z][a-z]+)', r' \\1',\r\n",
        "    sub('([A-Z]+)', r' \\1',\r\n",
        "    s.replace('-', ' '))).split()).lower()"
      ],
      "execution_count": 67,
      "outputs": []
    },
    {
      "cell_type": "code",
      "metadata": {
        "id": "96roAJ9hCChm"
      },
      "source": [
        "# write a python function that sorts a list based on the user provided list of indexes.\r\n",
        "\r\n",
        "def sort_by_indexes(lst, indexes, reverse=False):\r\n",
        "  return [val for (_, val) in sorted(zip(indexes, lst), key=lambda x: \\\r\n",
        "          x[0], reverse=reverse)]"
      ],
      "execution_count": 68,
      "outputs": []
    },
    {
      "cell_type": "code",
      "metadata": {
        "id": "BF5a5XSECfuc"
      },
      "source": [
        "# write a python function to sort the dictionary by key\r\n",
        "\r\n",
        "def sort_dict_by_key(d, reverse = False):\r\n",
        "  return dict(sorted(d.items(), reverse = reverse))"
      ],
      "execution_count": 69,
      "outputs": []
    },
    {
      "cell_type": "code",
      "metadata": {
        "id": "xMl1WQ7WDVRw"
      },
      "source": [
        "# write a python function to sort the dictionary by values\r\n",
        "\r\n",
        "def sort_dict_by_value(d, reverse = False):\r\n",
        "  return dict(sorted(d.items(), key = lambda x: x[1], reverse = reverse))"
      ],
      "execution_count": 70,
      "outputs": []
    },
    {
      "cell_type": "code",
      "metadata": {
        "id": "TW40OjviDIwe"
      },
      "source": [
        "# write a python function to capitalize first letter of a string\r\n",
        "\r\n",
        "def capitalize(s, lower_rest = False):\r\n",
        "  return ''.join([s[:1].upper(), (s[1:].lower() if lower_rest else s[1:])])"
      ],
      "execution_count": 71,
      "outputs": []
    },
    {
      "cell_type": "code",
      "metadata": {
        "id": "0qVjxdZ7EKOa"
      },
      "source": [
        "# write a python function that chunks a list into smaller lists of a specified size\r\n",
        "\r\n",
        "from math import ceil\r\n",
        "def chunk(lst, size):\r\n",
        "  return list(\r\n",
        "    map(lambda x: lst[x * size:x * size + size],\r\n",
        "      list(range(ceil(len(lst) / size)))))"
      ],
      "execution_count": 72,
      "outputs": []
    },
    {
      "cell_type": "code",
      "metadata": {
        "id": "WQbVtZbrEyaX"
      },
      "source": [
        "# write a python function to calculate a sigmoid value for any user provided real numbers\r\n",
        "\r\n",
        "def sigmoid(x):\r\n",
        "  return 1 / (1 + math.exp(-x))"
      ],
      "execution_count": 73,
      "outputs": []
    },
    {
      "cell_type": "code",
      "metadata": {
        "colab": {
          "base_uri": "https://localhost:8080/"
        },
        "id": "b0D98PxsFqN1",
        "outputId": "2a5d89b7-de5b-4427-e157-907e06eb0954"
      },
      "source": [
        "# write a python program to count the number of lines in a text file\r\n",
        "\r\n",
        "!touch abc.txt\r\n",
        "file = open(\"abc.txt\",\"r\") \r\n",
        "Counter = 0\r\n",
        "Content = file.read() \r\n",
        "CoList = Content.split(\"\\n\")  \r\n",
        "for i in CoList: \r\n",
        "    if i: \r\n",
        "        Counter += 1          \r\n",
        "print(f\"There are {Counter} number of lines in the file\") \r\n"
      ],
      "execution_count": 74,
      "outputs": [
        {
          "output_type": "stream",
          "text": [
            "There are 0 number of lines in the file\n"
          ],
          "name": "stdout"
        }
      ]
    },
    {
      "cell_type": "code",
      "metadata": {
        "colab": {
          "base_uri": "https://localhost:8080/"
        },
        "id": "xPOCjoqgGbzs",
        "outputId": "81a3e0ed-a305-4a5c-a773-891dfe280228"
      },
      "source": [
        "# write a python program to count the number of lower case in a string\r\n",
        "\r\n",
        "string=\"This is a very good place to Visit\"\r\n",
        "count=0\r\n",
        "for i in string:\r\n",
        "      if(i.islower()):\r\n",
        "            count=count+1\r\n",
        "print(f\"The number of lowercase characters is:{count}\")"
      ],
      "execution_count": 75,
      "outputs": [
        {
          "output_type": "stream",
          "text": [
            "The number of lowercase characters is:25\n"
          ],
          "name": "stdout"
        }
      ]
    },
    {
      "cell_type": "code",
      "metadata": {
        "colab": {
          "base_uri": "https://localhost:8080/"
        },
        "id": "4HMe5eBHHPmw",
        "outputId": "3f2eecf7-5cc6-45f9-ef57-ca6314451c28"
      },
      "source": [
        "# write a python program to find the sequences of one upper case letter followed by lower case letters.\r\n",
        "\r\n",
        "\r\n",
        "import re\r\n",
        "text=\"Albert\"\r\n",
        "patterns = '[A-Z]+[a-z]+$'\r\n",
        "if re.search(patterns, text):\r\n",
        "  print('Found a match!')\r\n",
        "else:\r\n",
        "  print('Not matched!')"
      ],
      "execution_count": 76,
      "outputs": [
        {
          "output_type": "stream",
          "text": [
            "Found a match!\n"
          ],
          "name": "stdout"
        }
      ]
    },
    {
      "cell_type": "code",
      "metadata": {
        "colab": {
          "base_uri": "https://localhost:8080/"
        },
        "id": "IIcDmRkfHzLX",
        "outputId": "a7b9b0e7-bcd8-40c7-85d1-1d92ca77f68f"
      },
      "source": [
        "# write a python program to find the number of files in a directory\r\n",
        "\r\n",
        "import os\r\n",
        "dir='.'\r\n",
        "list = os.listdir(dir) \r\n",
        "number_files = len(list)\r\n",
        "print(f'There are {number_files} file in the directory')"
      ],
      "execution_count": 77,
      "outputs": [
        {
          "output_type": "stream",
          "text": [
            "There are 4 file in the directory\n"
          ],
          "name": "stdout"
        }
      ]
    },
    {
      "cell_type": "code",
      "metadata": {
        "id": "2eTmylY6IuQ_"
      },
      "source": [
        "# write a python function to clamp a number within a user specified range\r\n",
        "\r\n",
        "def clamp_number(num, a, b):\r\n",
        "  return max(min(num, max(a, b)), min(a, b))"
      ],
      "execution_count": 78,
      "outputs": []
    },
    {
      "cell_type": "code",
      "metadata": {
        "id": "fQA8ZaigJ7XG"
      },
      "source": [
        "# write a python function that returns every nth element in a list\r\n",
        "\r\n",
        "def every_nth(lst, nth):\r\n",
        "  return lst[nth - 1::nth]"
      ],
      "execution_count": 79,
      "outputs": []
    },
    {
      "cell_type": "code",
      "metadata": {
        "id": "-eT8JT1WKDnb"
      },
      "source": [
        "# write a python function that returns first element of a list\r\n",
        "\r\n",
        "def head(lst):\r\n",
        "  return lst[0]"
      ],
      "execution_count": 80,
      "outputs": []
    },
    {
      "cell_type": "code",
      "metadata": {
        "id": "T82lYQM8KhWm"
      },
      "source": [
        "# write a python function to check if two lists contains same elements regardless of order\r\n",
        "\r\n",
        "def have_same_contents(a, b):\r\n",
        "  for v in set(a + b):\r\n",
        "    if a.count(v) != b.count(v):\r\n",
        "      return False\r\n",
        "  return True"
      ],
      "execution_count": 81,
      "outputs": []
    },
    {
      "cell_type": "code",
      "metadata": {
        "id": "207laUlyK2UT"
      },
      "source": [
        "# write a python function to rotate the given list by n times toward left \r\n",
        "\r\n",
        "def rotate(lst, offset):\r\n",
        "  return lst[offset:] + lst[:offset]"
      ],
      "execution_count": 82,
      "outputs": []
    },
    {
      "cell_type": "code",
      "metadata": {
        "id": "u3NnQ505NNwW"
      },
      "source": [
        "# write a python function to transpose a user provided two dimensional list\r\n",
        "\r\n",
        "def transpose(lst):\r\n",
        "  return list(zip(*lst))"
      ],
      "execution_count": 83,
      "outputs": []
    },
    {
      "cell_type": "code",
      "metadata": {
        "id": "sAULvqnvNzRY"
      },
      "source": [
        "# write a python function to convert a user provided date to iso representation\r\n",
        "\r\n",
        "from datetime import datetime\r\n",
        "def to_iso_date(d):\r\n",
        "  return d.isoformat()\r\n"
      ],
      "execution_count": 84,
      "outputs": []
    },
    {
      "cell_type": "code",
      "metadata": {
        "id": "Kf6zlMyTOLwW"
      },
      "source": [
        "# write a python function to convert an integer to its roman numeral representation\r\n",
        "\r\n",
        "def to_roman_numeral(num):\r\n",
        "  lookup = [\r\n",
        "    (1000, 'M'),\r\n",
        "    (900, 'CM'),\r\n",
        "    (500, 'D'),\r\n",
        "    (400, 'CD'),\r\n",
        "    (100, 'C'),\r\n",
        "    (90, 'XC'),\r\n",
        "    (50, 'L'),\r\n",
        "    (40, 'XL'),\r\n",
        "    (10, 'X'),\r\n",
        "    (9, 'IX'),\r\n",
        "    (5, 'V'),\r\n",
        "    (4, 'IV'),\r\n",
        "    (1, 'I'),\r\n",
        "  ]\r\n",
        "  res = ''\r\n",
        "  for (n, roman) in lookup:\r\n",
        "    (d, num) = divmod(num, n)\r\n",
        "    res += roman * d\r\n",
        "  return res"
      ],
      "execution_count": 85,
      "outputs": []
    },
    {
      "cell_type": "code",
      "metadata": {
        "id": "X7AxJZG9OcLG"
      },
      "source": [
        "# write a python function that returns binary representation of given number\r\n",
        "\r\n",
        "def to_binary(n):\r\n",
        "  return bin(n)"
      ],
      "execution_count": 86,
      "outputs": []
    },
    {
      "cell_type": "code",
      "metadata": {
        "id": "xuG5cQLlOyIF"
      },
      "source": [
        "# write a python function to calculate weighted average of two or more numbers\r\n",
        "\r\n",
        "def weighted_average(nums, weights):\r\n",
        "  return sum(x * y for x, y in zip(nums, weights)) / sum(weights)"
      ],
      "execution_count": 87,
      "outputs": []
    },
    {
      "cell_type": "code",
      "metadata": {
        "colab": {
          "base_uri": "https://localhost:8080/"
        },
        "id": "6o-fXPgGPP_D",
        "outputId": "c00fc422-c812-4fe3-ef4f-4001232faf86"
      },
      "source": [
        "# write a python program to filter out non-empty rows of a matrix\r\n",
        "\r\n",
        "\r\n",
        "test_list = [[4, 5, 6, 7], [], [], [9, 8, 1], []] \r\n",
        "print(f\"The original list is :{test_list} \") \r\n",
        "res = [row for row in test_list if len(row) > 0]\r\n",
        "print(f\"Filtered Matrix {res}\") \r\n"
      ],
      "execution_count": 88,
      "outputs": [
        {
          "output_type": "stream",
          "text": [
            "The original list is :[[4, 5, 6, 7], [], [], [9, 8, 1], []] \n",
            "Filtered Matrix [[4, 5, 6, 7], [9, 8, 1]]\n"
          ],
          "name": "stdout"
        }
      ]
    },
    {
      "cell_type": "code",
      "metadata": {
        "id": "x-GpXqjDRS6N"
      },
      "source": [
        "# write a python program to print prime factors of user provided number\r\n",
        "\r\n",
        "import math \r\n",
        "def primeFactors(n): \r\n",
        "\twhile n % 2 == 0: \r\n",
        "\t\tprint(2), \r\n",
        "\t\tn = n / 2\r\n",
        "\tfor i in range(3,int(math.sqrt(n))+1,2): \r\n",
        "\t\twhile n % i== 0: \r\n",
        "\t\t\tprint(i), \r\n",
        "\t\t\tn = n / i \r\n",
        "\tif n > 2: \r\n",
        "\t\tprint(n) \r\n"
      ],
      "execution_count": 89,
      "outputs": []
    },
    {
      "cell_type": "code",
      "metadata": {
        "id": "7eKqBkh1TAK3"
      },
      "source": [
        "# write a python function to return sum of the powers between two numbers\r\n",
        "\r\n",
        "def sum_of_powers(end, power = 2, start = 1):\r\n",
        "  return sum([(i) ** power for i in range(start, end + 1)])"
      ],
      "execution_count": 90,
      "outputs": []
    },
    {
      "cell_type": "code",
      "metadata": {
        "id": "04IIPsseUSF0"
      },
      "source": [
        "# write a python function to implement odd-even sort\r\n",
        "\r\n",
        "def oddEvenSort(arr, n): \r\n",
        "\tisSorted = 0\r\n",
        "\twhile isSorted == 0: \r\n",
        "\t\tisSorted = 1\r\n",
        "\t\ttemp = 0\r\n",
        "\t\tfor i in range(1, n-1, 2): \r\n",
        "\t\t\tif arr[i] > arr[i+1]: \r\n",
        "\t\t\t\tarr[i], arr[i+1] = arr[i+1], arr[i] \r\n",
        "\t\t\t\tisSorted = 0\r\n",
        "\t\tfor i in range(0, n-1, 2): \r\n",
        "\t\t\tif arr[i] > arr[i+1]: \r\n",
        "\t\t\t\tarr[i], arr[i+1] = arr[i+1], arr[i] \r\n",
        "\t\t\t\tisSorted = 0\t\r\n",
        "\treturn"
      ],
      "execution_count": 91,
      "outputs": []
    },
    {
      "cell_type": "code",
      "metadata": {
        "id": "uSpYUS1B7HXQ"
      },
      "source": [
        "# write a python program to find the smallest multiple of the first n numbers. \r\n",
        "\r\n",
        "def smallest_multiple(n):\r\n",
        "    if (n<=2):\r\n",
        "      return n\r\n",
        "    i = n * 2\r\n",
        "    factors = [number  for number in range(n, 1, -1) if number * 2 > n]\r\n",
        "    print(factors)\r\n",
        "    while True:\r\n",
        "        for a in factors:\r\n",
        "            if i % a != 0:\r\n",
        "                i += n\r\n",
        "                break\r\n",
        "            if (a == factors[-1] and i % a == 0):\r\n",
        "                return i"
      ],
      "execution_count": 92,
      "outputs": []
    },
    {
      "cell_type": "code",
      "metadata": {
        "colab": {
          "base_uri": "https://localhost:8080/"
        },
        "id": "UoA0ZUPh7YxX",
        "outputId": "2871bbea-1a84-4fac-cb38-0f9763e4cd6b"
      },
      "source": [
        "# write a python program to generate random float numbers in a specific numerical range.\r\n",
        "\r\n",
        "import random\r\n",
        "for x in range(6):\r\n",
        "    print('{:04.3f}'.format(random.uniform(x, 100)), end=' ')"
      ],
      "execution_count": 93,
      "outputs": [
        {
          "output_type": "stream",
          "text": [
            "8.083 15.026 93.716 56.812 8.555 28.084 "
          ],
          "name": "stdout"
        }
      ]
    },
    {
      "cell_type": "code",
      "metadata": {
        "colab": {
          "base_uri": "https://localhost:8080/"
        },
        "id": "oYPaxe6_OA_R",
        "outputId": "3b6c4dc2-197f-4834-e6d1-e45eae11d2da"
      },
      "source": [
        "# write a python program to drop microseconds from datetime.\r\n",
        "\r\n",
        "import datetime\r\n",
        "dt = datetime.datetime.today().replace(microsecond=0)\r\n",
        "dt"
      ],
      "execution_count": 94,
      "outputs": [
        {
          "output_type": "execute_result",
          "data": {
            "text/plain": [
              "datetime.datetime(2020, 12, 17, 11, 25, 7)"
            ]
          },
          "metadata": {
            "tags": []
          },
          "execution_count": 94
        }
      ]
    },
    {
      "cell_type": "code",
      "metadata": {
        "colab": {
          "base_uri": "https://localhost:8080/"
        },
        "id": "Hi2OduCPOIvn",
        "outputId": "c5aeef45-32ec-4612-874b-aeae402f291c"
      },
      "source": [
        "# write a python program to convert unix timestamp string to readable date.\r\n",
        "\r\n",
        "import datetime\r\n",
        "unix_timestamp=\"1284105682\"\r\n",
        "print(\r\n",
        "    datetime.datetime.fromtimestamp(\r\n",
        "        int(unix_timestamp)\r\n",
        "    ).strftime('%Y-%m-%d %H:%M:%S')\r\n",
        ")"
      ],
      "execution_count": 95,
      "outputs": [
        {
          "output_type": "stream",
          "text": [
            "2010-09-10 08:01:22\n"
          ],
          "name": "stdout"
        }
      ]
    },
    {
      "cell_type": "code",
      "metadata": {
        "id": "1GHcJmu1Olur",
        "colab": {
          "base_uri": "https://localhost:8080/"
        },
        "outputId": "7ff731c1-309c-487f-a230-6a88025d6bca"
      },
      "source": [
        "# write a python program to add two matrices\r\n",
        "\r\n",
        "\r\n",
        "X = [[12,7,3],\r\n",
        "    [4 ,5,6],\r\n",
        "    [7 ,8,9]]\r\n",
        "Y = [[5,8,1],\r\n",
        "    [6,7,3],\r\n",
        "    [4,5,9]]\r\n",
        "result = [[0,0,0],\r\n",
        "         [0,0,0],\r\n",
        "         [0,0,0]]\r\n",
        "for i in range(len(X)):\r\n",
        "   # iterate through columns\r\n",
        "   for j in range(len(X[0])):\r\n",
        "       result[i][j] = X[i][j] + Y[i][j]\r\n",
        "for r in result:\r\n",
        "   print(r)"
      ],
      "execution_count": 96,
      "outputs": [
        {
          "output_type": "stream",
          "text": [
            "[17, 15, 4]\n",
            "[10, 12, 9]\n",
            "[11, 13, 18]\n"
          ],
          "name": "stdout"
        }
      ]
    },
    {
      "cell_type": "code",
      "metadata": {
        "colab": {
          "base_uri": "https://localhost:8080/"
        },
        "id": "vS493gtTVtLW",
        "outputId": "f1360b13-b5ef-437f-b5d1-51027245087c"
      },
      "source": [
        "# write a python program to multiply two matrices\r\n",
        "\r\n",
        "\r\n",
        "X = [[12,7,3],\r\n",
        "    [4 ,5,6],\r\n",
        "    [7 ,8,9]]\r\n",
        "Y = [[5,8,1,2],\r\n",
        "    [6,7,3,0],\r\n",
        "    [4,5,9,1]]\r\n",
        "result = [[0,0,0,0],\r\n",
        "         [0,0,0,0],\r\n",
        "         [0,0,0,0]]\r\n",
        "for i in range(len(X)):\r\n",
        "   for j in range(len(Y[0])):\r\n",
        "       for k in range(len(Y)):\r\n",
        "           result[i][j] += X[i][k] * Y[k][j]\r\n",
        "for r in result:\r\n",
        "   print(r)"
      ],
      "execution_count": 97,
      "outputs": [
        {
          "output_type": "stream",
          "text": [
            "[114, 160, 60, 27]\n",
            "[74, 97, 73, 14]\n",
            "[119, 157, 112, 23]\n"
          ],
          "name": "stdout"
        }
      ]
    },
    {
      "cell_type": "code",
      "metadata": {
        "id": "evpaOTnDWFGG"
      },
      "source": [
        "# write a python function to calculate the day difference between two user provided dates\r\n",
        "\r\n",
        "def days_diff(start, end):\r\n",
        "  return (end - start).days"
      ],
      "execution_count": 98,
      "outputs": []
    },
    {
      "cell_type": "code",
      "metadata": {
        "id": "29HIztQ8Zvkj"
      },
      "source": [
        "# write a python function to decapitalize the first letter of user provided string.\r\n",
        "\r\n",
        "def decapitalize(s, upper_rest = False):\r\n",
        "  return ''.join([s[:1].lower(), (s[1:].upper() if upper_rest else s[1:])])"
      ],
      "execution_count": 99,
      "outputs": []
    },
    {
      "cell_type": "code",
      "metadata": {
        "colab": {
          "base_uri": "https://localhost:8080/"
        },
        "id": "K3ib_2BxZ8Kg",
        "outputId": "11baaa52-50e2-4d67-9f4c-334ee79c83a9"
      },
      "source": [
        "# write a python program to reverse user provided number \r\n",
        "\r\n",
        "n = 4562; \r\n",
        "rev = 0\r\n",
        "while(n > 0): \r\n",
        "    a = n % 10\r\n",
        "    rev = rev * 10 + a \r\n",
        "    n = n // 10   \r\n",
        "print(rev) "
      ],
      "execution_count": 100,
      "outputs": [
        {
          "output_type": "stream",
          "text": [
            "2654\n"
          ],
          "name": "stdout"
        }
      ]
    },
    {
      "cell_type": "code",
      "metadata": {
        "id": "qC9F0zcSa4IU"
      },
      "source": [
        ""
      ],
      "execution_count": 100,
      "outputs": []
    }
  ]
}