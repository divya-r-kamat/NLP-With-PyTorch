{
  "nbformat": 4,
  "nbformat_minor": 0,
  "metadata": {
    "colab": {
      "name": "POS Tagging based on Heuristics.ipynb",
      "provenance": [],
      "collapsed_sections": [],
      "include_colab_link": true
    },
    "kernelspec": {
      "name": "python3",
      "display_name": "Python 3"
    }
  },
  "cells": [
    {
      "cell_type": "markdown",
      "metadata": {
        "id": "view-in-github",
        "colab_type": "text"
      },
      "source": [
        "<a href=\"https://colab.research.google.com/github/divya-r-kamat/END/blob/main/Session1/POS_Tagging_based_on_Heuristics.ipynb\" target=\"_parent\"><img src=\"https://colab.research.google.com/assets/colab-badge.svg\" alt=\"Open In Colab\"/></a>"
      ]
    },
    {
      "cell_type": "markdown",
      "metadata": {
        "id": "mM0Ka5OWjTtn"
      },
      "source": [
        "##Import necessary Libraries"
      ]
    },
    {
      "cell_type": "code",
      "metadata": {
        "id": "HUkH-XafjF18",
        "cellView": "both",
        "outputId": "22877ebd-2297-4e61-d735-a6512948c4ad",
        "colab": {
          "base_uri": "https://localhost:8080/",
          "height": 119
        }
      },
      "source": [
        "import nltk\n",
        "from nltk.tokenize import word_tokenize\n",
        "from nltk.tag import pos_tag\n",
        "from nltk.chunk import ne_chunk\n",
        "nltk.download('punkt')\n",
        "nltk.download('averaged_perceptron_tagger')"
      ],
      "execution_count": 1,
      "outputs": [
        {
          "output_type": "stream",
          "text": [
            "[nltk_data] Downloading package punkt to /root/nltk_data...\n",
            "[nltk_data]   Unzipping tokenizers/punkt.zip.\n",
            "[nltk_data] Downloading package averaged_perceptron_tagger to\n",
            "[nltk_data]     /root/nltk_data...\n",
            "[nltk_data]   Unzipping taggers/averaged_perceptron_tagger.zip.\n"
          ],
          "name": "stdout"
        },
        {
          "output_type": "execute_result",
          "data": {
            "text/plain": [
              "True"
            ]
          },
          "metadata": {
            "tags": []
          },
          "execution_count": 1
        }
      ]
    },
    {
      "cell_type": "markdown",
      "metadata": {
        "id": "CnfJWQfEjn89"
      },
      "source": [
        "## A sentence under consideration for Information Extraction (NER)"
      ]
    },
    {
      "cell_type": "code",
      "metadata": {
        "id": "1nOjV-QMjlBF"
      },
      "source": [
        "sentence = 'Virat Kohli is an Indian cricketer who currently captains the India national team. A right-handed top-order batsman, Kohli is regarded as one of the best batsmen in the world'"
      ],
      "execution_count": 2,
      "outputs": []
    },
    {
      "cell_type": "markdown",
      "metadata": {
        "id": "wwc64Wajjv95"
      },
      "source": [
        "## Apply word tokenization and part-of-speech tagging to the sentence"
      ]
    },
    {
      "cell_type": "code",
      "metadata": {
        "id": "rrJPkc2MjtwW"
      },
      "source": [
        "def preprocess(sent):\n",
        "    sent =  word_tokenize(sent)\n",
        "    sent =  nltk.pos_tag(sent)\n",
        "    return sent"
      ],
      "execution_count": 3,
      "outputs": []
    },
    {
      "cell_type": "code",
      "metadata": {
        "id": "xKv51GotjyZU",
        "outputId": "c32a1e2d-9ced-4d9d-d95c-8e84b8be8ad6",
        "colab": {
          "base_uri": "https://localhost:8080/",
          "height": 546
        }
      },
      "source": [
        "sent = preprocess(sentence)\n",
        "sent"
      ],
      "execution_count": 4,
      "outputs": [
        {
          "output_type": "execute_result",
          "data": {
            "text/plain": [
              "[('Virat', 'NNP'),\n",
              " ('Kohli', 'NNP'),\n",
              " ('is', 'VBZ'),\n",
              " ('an', 'DT'),\n",
              " ('Indian', 'JJ'),\n",
              " ('cricketer', 'NN'),\n",
              " ('who', 'WP'),\n",
              " ('currently', 'RB'),\n",
              " ('captains', 'VBZ'),\n",
              " ('the', 'DT'),\n",
              " ('India', 'NNP'),\n",
              " ('national', 'JJ'),\n",
              " ('team', 'NN'),\n",
              " ('.', '.'),\n",
              " ('A', 'DT'),\n",
              " ('right-handed', 'JJ'),\n",
              " ('top-order', 'NN'),\n",
              " ('batsman', 'NN'),\n",
              " (',', ','),\n",
              " ('Kohli', 'NNP'),\n",
              " ('is', 'VBZ'),\n",
              " ('regarded', 'VBN'),\n",
              " ('as', 'IN'),\n",
              " ('one', 'CD'),\n",
              " ('of', 'IN'),\n",
              " ('the', 'DT'),\n",
              " ('best', 'JJS'),\n",
              " ('batsmen', 'NNS'),\n",
              " ('in', 'IN'),\n",
              " ('the', 'DT'),\n",
              " ('world', 'NN')]"
            ]
          },
          "metadata": {
            "tags": []
          },
          "execution_count": 4
        }
      ]
    },
    {
      "cell_type": "markdown",
      "metadata": {
        "id": "5ZfnCIBOlP32"
      },
      "source": [
        "## Plot a Parse Tree"
      ]
    },
    {
      "cell_type": "code",
      "metadata": {
        "id": "3SFMBOJhj0kD",
        "outputId": "2307825a-92dd-4ded-b330-b25b439dd057",
        "colab": {
          "base_uri": "https://localhost:8080/",
          "height": 460
        }
      },
      "source": [
        "pattern = 'NP: {<DT>?<JJ>*<NN>}'\n",
        "NPChunker =  nltk.RegexpParser(pattern)\n",
        "result = NPChunker.parse(sent)\n",
        "print(result)\n",
        "#result.draw()"
      ],
      "execution_count": 5,
      "outputs": [
        {
          "output_type": "stream",
          "text": [
            "(S\n",
            "  Virat/NNP\n",
            "  Kohli/NNP\n",
            "  is/VBZ\n",
            "  (NP an/DT Indian/JJ cricketer/NN)\n",
            "  who/WP\n",
            "  currently/RB\n",
            "  captains/VBZ\n",
            "  the/DT\n",
            "  India/NNP\n",
            "  (NP national/JJ team/NN)\n",
            "  ./.\n",
            "  (NP A/DT right-handed/JJ top-order/NN)\n",
            "  (NP batsman/NN)\n",
            "  ,/,\n",
            "  Kohli/NNP\n",
            "  is/VBZ\n",
            "  regarded/VBN\n",
            "  as/IN\n",
            "  one/CD\n",
            "  of/IN\n",
            "  the/DT\n",
            "  best/JJS\n",
            "  batsmen/NNS\n",
            "  in/IN\n",
            "  (NP the/DT world/NN))\n"
          ],
          "name": "stdout"
        }
      ]
    },
    {
      "cell_type": "code",
      "metadata": {
        "id": "rjtcSHwHVg6c",
        "outputId": "6301e745-7438-4c22-b4e2-fdd2aba8a003",
        "colab": {
          "base_uri": "https://localhost:8080/",
          "height": 139
        }
      },
      "source": [
        "from nltk.tree import Tree\n",
        "Tree.fromstring(str(result)).pretty_print()"
      ],
      "execution_count": 6,
      "outputs": [
        {
          "output_type": "stream",
          "text": [
            "                                                                                                                                  S                                                                                                                                                          \n",
            "     _____________________________________________________________________________________________________________________________|_______________________________________________________________________________________________________________________________________________            \n",
            "    |         |       |      |         |            |         |        |      |   |      |       |         |         |     |      |     |       |          |        |             NP                              NP                     NP                        NP             NP         \n",
            "    |         |       |      |         |            |         |        |      |   |      |       |         |         |     |      |     |       |          |        |      _______|__________              _______|_____       __________|_____________            |         _____|_____      \n",
            "Virat/NNP Kohli/NNP is/VBZ who/WP currently/RB captains/VBZ the/DT India/NNP ./. ,/, Kohli/NNP is/VBZ regarded/VBN as/IN one/CD of/IN the/DT best/JJS batsmen/NNS in/IN an/DT Indian/JJ cricketer/NN national/JJ     team/NN A/DT right-handed/JJ top-order/NN batsman/NN the/DT     world/NN\n",
            "\n"
          ],
          "name": "stdout"
        }
      ]
    },
    {
      "cell_type": "markdown",
      "metadata": {
        "id": "mzfWmM0s3qLQ"
      },
      "source": [
        "## POS Tags"
      ]
    },
    {
      "cell_type": "code",
      "metadata": {
        "id": "6lUv0-IX0V-v",
        "outputId": "4b81bdcd-b045-413c-84b6-cc2142743d84",
        "colab": {
          "base_uri": "https://localhost:8080/",
          "height": 546
        }
      },
      "source": [
        "from nltk.chunk import conlltags2tree, tree2conlltags\n",
        "from pprint import pprint\n",
        "iob_tagged = tree2conlltags(result)\n",
        "pprint(iob_tagged)"
      ],
      "execution_count": 7,
      "outputs": [
        {
          "output_type": "stream",
          "text": [
            "[('Virat', 'NNP', 'O'),\n",
            " ('Kohli', 'NNP', 'O'),\n",
            " ('is', 'VBZ', 'O'),\n",
            " ('an', 'DT', 'B-NP'),\n",
            " ('Indian', 'JJ', 'I-NP'),\n",
            " ('cricketer', 'NN', 'I-NP'),\n",
            " ('who', 'WP', 'O'),\n",
            " ('currently', 'RB', 'O'),\n",
            " ('captains', 'VBZ', 'O'),\n",
            " ('the', 'DT', 'O'),\n",
            " ('India', 'NNP', 'O'),\n",
            " ('national', 'JJ', 'B-NP'),\n",
            " ('team', 'NN', 'I-NP'),\n",
            " ('.', '.', 'O'),\n",
            " ('A', 'DT', 'B-NP'),\n",
            " ('right-handed', 'JJ', 'I-NP'),\n",
            " ('top-order', 'NN', 'I-NP'),\n",
            " ('batsman', 'NN', 'B-NP'),\n",
            " (',', ',', 'O'),\n",
            " ('Kohli', 'NNP', 'O'),\n",
            " ('is', 'VBZ', 'O'),\n",
            " ('regarded', 'VBN', 'O'),\n",
            " ('as', 'IN', 'O'),\n",
            " ('one', 'CD', 'O'),\n",
            " ('of', 'IN', 'O'),\n",
            " ('the', 'DT', 'O'),\n",
            " ('best', 'JJS', 'O'),\n",
            " ('batsmen', 'NNS', 'O'),\n",
            " ('in', 'IN', 'O'),\n",
            " ('the', 'DT', 'B-NP'),\n",
            " ('world', 'NN', 'I-NP')]\n"
          ],
          "name": "stdout"
        }
      ]
    },
    {
      "cell_type": "code",
      "metadata": {
        "id": "KV5Jwi2XlCny",
        "outputId": "f697207b-8357-4b55-bf25-a1c3680251f5",
        "colab": {
          "base_uri": "https://localhost:8080/",
          "height": 460
        }
      },
      "source": [
        "tree=conlltags2tree(iob_tagged)\n",
        "print(tree)"
      ],
      "execution_count": 8,
      "outputs": [
        {
          "output_type": "stream",
          "text": [
            "(S\n",
            "  Virat/NNP\n",
            "  Kohli/NNP\n",
            "  is/VBZ\n",
            "  (NP an/DT Indian/JJ cricketer/NN)\n",
            "  who/WP\n",
            "  currently/RB\n",
            "  captains/VBZ\n",
            "  the/DT\n",
            "  India/NNP\n",
            "  (NP national/JJ team/NN)\n",
            "  ./.\n",
            "  (NP A/DT right-handed/JJ top-order/NN)\n",
            "  (NP batsman/NN)\n",
            "  ,/,\n",
            "  Kohli/NNP\n",
            "  is/VBZ\n",
            "  regarded/VBN\n",
            "  as/IN\n",
            "  one/CD\n",
            "  of/IN\n",
            "  the/DT\n",
            "  best/JJS\n",
            "  batsmen/NNS\n",
            "  in/IN\n",
            "  (NP the/DT world/NN))\n"
          ],
          "name": "stdout"
        }
      ]
    },
    {
      "cell_type": "markdown",
      "metadata": {
        "id": "GsWTk0dX4DN8"
      },
      "source": [
        "**This is how Information is extracted using heuristics based techniques. Try using another pattern.**"
      ]
    },
    {
      "cell_type": "code",
      "metadata": {
        "id": "1t0zE8oDKZEE",
        "outputId": "ae15adf3-df46-45aa-c599-9d61678c2d6c",
        "colab": {
          "base_uri": "https://localhost:8080/",
          "height": 436
        }
      },
      "source": [
        "import pandas as pd\n",
        "sentence='No new emoji may be released in 2021 due to COVID-19 pandemic word'\n",
        "nltk_pos_tagged=nltk.pos_tag(sentence.split())\n",
        "pd.DataFrame(nltk_pos_tagged,columns=['word','POS tag'])"
      ],
      "execution_count": 9,
      "outputs": [
        {
          "output_type": "execute_result",
          "data": {
            "text/html": [
              "<div>\n",
              "<style scoped>\n",
              "    .dataframe tbody tr th:only-of-type {\n",
              "        vertical-align: middle;\n",
              "    }\n",
              "\n",
              "    .dataframe tbody tr th {\n",
              "        vertical-align: top;\n",
              "    }\n",
              "\n",
              "    .dataframe thead th {\n",
              "        text-align: right;\n",
              "    }\n",
              "</style>\n",
              "<table border=\"1\" class=\"dataframe\">\n",
              "  <thead>\n",
              "    <tr style=\"text-align: right;\">\n",
              "      <th></th>\n",
              "      <th>word</th>\n",
              "      <th>POS tag</th>\n",
              "    </tr>\n",
              "  </thead>\n",
              "  <tbody>\n",
              "    <tr>\n",
              "      <th>0</th>\n",
              "      <td>No</td>\n",
              "      <td>DT</td>\n",
              "    </tr>\n",
              "    <tr>\n",
              "      <th>1</th>\n",
              "      <td>new</td>\n",
              "      <td>JJ</td>\n",
              "    </tr>\n",
              "    <tr>\n",
              "      <th>2</th>\n",
              "      <td>emoji</td>\n",
              "      <td>NN</td>\n",
              "    </tr>\n",
              "    <tr>\n",
              "      <th>3</th>\n",
              "      <td>may</td>\n",
              "      <td>MD</td>\n",
              "    </tr>\n",
              "    <tr>\n",
              "      <th>4</th>\n",
              "      <td>be</td>\n",
              "      <td>VB</td>\n",
              "    </tr>\n",
              "    <tr>\n",
              "      <th>5</th>\n",
              "      <td>released</td>\n",
              "      <td>VBN</td>\n",
              "    </tr>\n",
              "    <tr>\n",
              "      <th>6</th>\n",
              "      <td>in</td>\n",
              "      <td>IN</td>\n",
              "    </tr>\n",
              "    <tr>\n",
              "      <th>7</th>\n",
              "      <td>2021</td>\n",
              "      <td>CD</td>\n",
              "    </tr>\n",
              "    <tr>\n",
              "      <th>8</th>\n",
              "      <td>due</td>\n",
              "      <td>JJ</td>\n",
              "    </tr>\n",
              "    <tr>\n",
              "      <th>9</th>\n",
              "      <td>to</td>\n",
              "      <td>TO</td>\n",
              "    </tr>\n",
              "    <tr>\n",
              "      <th>10</th>\n",
              "      <td>COVID-19</td>\n",
              "      <td>JJ</td>\n",
              "    </tr>\n",
              "    <tr>\n",
              "      <th>11</th>\n",
              "      <td>pandemic</td>\n",
              "      <td>JJ</td>\n",
              "    </tr>\n",
              "    <tr>\n",
              "      <th>12</th>\n",
              "      <td>word</td>\n",
              "      <td>NN</td>\n",
              "    </tr>\n",
              "  </tbody>\n",
              "</table>\n",
              "</div>"
            ],
            "text/plain": [
              "        word POS tag\n",
              "0         No      DT\n",
              "1        new      JJ\n",
              "2      emoji      NN\n",
              "3        may      MD\n",
              "4         be      VB\n",
              "5   released     VBN\n",
              "6         in      IN\n",
              "7       2021      CD\n",
              "8        due      JJ\n",
              "9         to      TO\n",
              "10  COVID-19      JJ\n",
              "11  pandemic      JJ\n",
              "12      word      NN"
            ]
          },
          "metadata": {
            "tags": []
          },
          "execution_count": 9
        }
      ]
    },
    {
      "cell_type": "code",
      "metadata": {
        "id": "_Ac3sHRLlq4Z",
        "outputId": "8bc33d84-cf07-489d-f55d-2e9ad22f4718",
        "colab": {
          "base_uri": "https://localhost:8080/",
          "height": 187
        }
      },
      "source": [
        "chunk_tree=NPChunker.parse(nltk_pos_tagged)\n",
        "print(chunk_tree)"
      ],
      "execution_count": 10,
      "outputs": [
        {
          "output_type": "stream",
          "text": [
            "(S\n",
            "  (NP No/DT new/JJ emoji/NN)\n",
            "  may/MD\n",
            "  be/VB\n",
            "  released/VBN\n",
            "  in/IN\n",
            "  2021/CD\n",
            "  due/JJ\n",
            "  to/TO\n",
            "  (NP COVID-19/JJ pandemic/JJ word/NN))\n"
          ],
          "name": "stdout"
        }
      ]
    },
    {
      "cell_type": "code",
      "metadata": {
        "id": "rlWIXTSml32Y",
        "outputId": "66b92ded-a6fe-4211-9d94-ccdd85ed1501",
        "colab": {
          "base_uri": "https://localhost:8080/",
          "height": 119
        }
      },
      "source": [
        "Tree.fromstring(str(chunk_tree)).pretty_print()"
      ],
      "execution_count": 11,
      "outputs": [
        {
          "output_type": "stream",
          "text": [
            "                                                 S                                                        \n",
            "   ______________________________________________|__________________________________________               \n",
            "  |      |        |         |      |      |      |           NP                             NP            \n",
            "  |      |        |         |      |      |      |      _____|_______            ___________|_________     \n",
            "may/MD be/VB released/VBN in/IN 2021/CD due/JJ to/TO No/DT new/JJ emoji/NN COVID-19/JJ pandemic/JJ word/NN\n",
            "\n"
          ],
          "name": "stdout"
        }
      ]
    }
  ]
}
