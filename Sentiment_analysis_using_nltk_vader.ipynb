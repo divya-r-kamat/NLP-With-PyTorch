{
  "nbformat": 4,
  "nbformat_minor": 0,
  "metadata": {
    "colab": {
      "name": "Sentiment_analysis_using_nltk_vader.ipynb",
      "provenance": [],
      "authorship_tag": "ABX9TyPtHZrtORGjKjddFCUJVESC",
      "include_colab_link": true
    },
    "kernelspec": {
      "name": "python3",
      "display_name": "Python 3"
    },
    "language_info": {
      "name": "python"
    }
  },
  "cells": [
    {
      "cell_type": "markdown",
      "metadata": {
        "id": "view-in-github",
        "colab_type": "text"
      },
      "source": [
        "<a href=\"https://colab.research.google.com/github/divya-r-kamat/NLP-With-PyTorch/blob/master/Sentiment_analysis_using_nltk_vader.ipynb\" target=\"_parent\"><img src=\"https://colab.research.google.com/assets/colab-badge.svg\" alt=\"Open In Colab\"/></a>"
      ]
    },
    {
      "cell_type": "code",
      "metadata": {
        "colab": {
          "base_uri": "https://localhost:8080/"
        },
        "id": "CYeDZRxDHzNW",
        "outputId": "164aab18-312d-43b1-a739-48d63afb7627"
      },
      "source": [
        "import nltk\n",
        "nltk.download('vader_lexicon')"
      ],
      "execution_count": 1,
      "outputs": [
        {
          "output_type": "stream",
          "text": [
            "[nltk_data] Downloading package vader_lexicon to /root/nltk_data...\n"
          ],
          "name": "stdout"
        },
        {
          "output_type": "execute_result",
          "data": {
            "text/plain": [
              "True"
            ]
          },
          "metadata": {
            "tags": []
          },
          "execution_count": 1
        }
      ]
    },
    {
      "cell_type": "code",
      "metadata": {
        "id": "skKSH4XEIK_y"
      },
      "source": [
        "import pandas as pd"
      ],
      "execution_count": 5,
      "outputs": []
    },
    {
      "cell_type": "code",
      "metadata": {
        "id": "5x8D3vvDIH1R"
      },
      "source": [
        "dataset = [\"I have lot of emails on my inbox but not sure if all these are logged into the servicenow \",\n",
        "           \"I bought this for my son who plays the piano.  He is having a wonderful time playing these old hymns.  The music  is at times hard to read because we think the book was published for singing from more than playing from.  Great purchase though!\"\n",
        "           \"Used to be good. Chicken soup was below average, bbq used to be good.\",\n",
        "           \"Food was good, standouts were the spicy beef soup and seafood pancake! \",\n",
        "           \"Good office lunch or after work place to go to with a big group as they have a lot of private areas with large tables\",\n",
        "           \"As a Korean person, it was very disappointing food quality and very pricey for what you get. I won't go back there again. \",\n",
        "           \"Not great quality food for the price. Average food at premium prices really.\",\n",
        "           \"Fast service. Prices are reasonable and food is decent.\",\n",
        "           \"Extremely long waiting time. Food is decent but definitely not worth the wait.\",\n",
        "           \"Clean premises, tasty food. My family favourites are the clear Tom yum soup, stuffed chicken wings, chargrilled squid.\",\n",
        "           \"really good and authentic Thai food! in particular, we loved their tom yup clear soup with sliced fish. it's so well balanced that we can have it just on its own. \"\n",
        "           ]"
      ],
      "execution_count": 12,
      "outputs": []
    },
    {
      "cell_type": "code",
      "metadata": {
        "id": "d6qtUJypH1Ol"
      },
      "source": [
        "def nltk_sentiment(sentence):\n",
        "    from nltk.sentiment.vader import SentimentIntensityAnalyzer\n",
        "    \n",
        "    nltk_sentiment = SentimentIntensityAnalyzer()\n",
        "    score = nltk_sentiment.polarity_scores(sentence)\n",
        "    return score"
      ],
      "execution_count": 13,
      "outputs": []
    },
    {
      "cell_type": "code",
      "metadata": {
        "id": "AHlG5cYzH4TN"
      },
      "source": [
        "nltk_results = [nltk_sentiment(row) for row in dataset]\n",
        "results_df = pd.DataFrame(nltk_results)\n",
        "text_df = pd.DataFrame(dataset, columns = ['text'])\n",
        "nltk_df = text_df.join(results_df)"
      ],
      "execution_count": 14,
      "outputs": []
    },
    {
      "cell_type": "code",
      "metadata": {
        "colab": {
          "base_uri": "https://localhost:8080/",
          "height": 346
        },
        "id": "6-i8VJMeIJHz",
        "outputId": "339b1a75-fcad-4cdb-d17d-e49af7b05c62"
      },
      "source": [
        "nltk_df"
      ],
      "execution_count": 15,
      "outputs": [
        {
          "output_type": "execute_result",
          "data": {
            "text/html": [
              "<div>\n",
              "<style scoped>\n",
              "    .dataframe tbody tr th:only-of-type {\n",
              "        vertical-align: middle;\n",
              "    }\n",
              "\n",
              "    .dataframe tbody tr th {\n",
              "        vertical-align: top;\n",
              "    }\n",
              "\n",
              "    .dataframe thead th {\n",
              "        text-align: right;\n",
              "    }\n",
              "</style>\n",
              "<table border=\"1\" class=\"dataframe\">\n",
              "  <thead>\n",
              "    <tr style=\"text-align: right;\">\n",
              "      <th></th>\n",
              "      <th>text</th>\n",
              "      <th>neg</th>\n",
              "      <th>neu</th>\n",
              "      <th>pos</th>\n",
              "      <th>compound</th>\n",
              "    </tr>\n",
              "  </thead>\n",
              "  <tbody>\n",
              "    <tr>\n",
              "      <th>0</th>\n",
              "      <td>I have lot of emails on my inbox but not sure ...</td>\n",
              "      <td>0.126</td>\n",
              "      <td>0.874</td>\n",
              "      <td>0.000</td>\n",
              "      <td>-0.3491</td>\n",
              "    </tr>\n",
              "    <tr>\n",
              "      <th>1</th>\n",
              "      <td>I bought this for my son who plays the piano. ...</td>\n",
              "      <td>0.020</td>\n",
              "      <td>0.697</td>\n",
              "      <td>0.283</td>\n",
              "      <td>0.9523</td>\n",
              "    </tr>\n",
              "    <tr>\n",
              "      <th>2</th>\n",
              "      <td>Food was good, standouts were the spicy beef s...</td>\n",
              "      <td>0.000</td>\n",
              "      <td>0.775</td>\n",
              "      <td>0.225</td>\n",
              "      <td>0.4926</td>\n",
              "    </tr>\n",
              "    <tr>\n",
              "      <th>3</th>\n",
              "      <td>Good office lunch or after work place to go to...</td>\n",
              "      <td>0.000</td>\n",
              "      <td>0.884</td>\n",
              "      <td>0.116</td>\n",
              "      <td>0.4404</td>\n",
              "    </tr>\n",
              "    <tr>\n",
              "      <th>4</th>\n",
              "      <td>As a Korean person, it was very disappointing ...</td>\n",
              "      <td>0.149</td>\n",
              "      <td>0.851</td>\n",
              "      <td>0.000</td>\n",
              "      <td>-0.5413</td>\n",
              "    </tr>\n",
              "    <tr>\n",
              "      <th>5</th>\n",
              "      <td>Not great quality food for the price. Average ...</td>\n",
              "      <td>0.215</td>\n",
              "      <td>0.785</td>\n",
              "      <td>0.000</td>\n",
              "      <td>-0.5096</td>\n",
              "    </tr>\n",
              "    <tr>\n",
              "      <th>6</th>\n",
              "      <td>Fast service. Prices are reasonable and food i...</td>\n",
              "      <td>0.000</td>\n",
              "      <td>1.000</td>\n",
              "      <td>0.000</td>\n",
              "      <td>0.0000</td>\n",
              "    </tr>\n",
              "    <tr>\n",
              "      <th>7</th>\n",
              "      <td>Extremely long waiting time. Food is decent bu...</td>\n",
              "      <td>0.121</td>\n",
              "      <td>0.665</td>\n",
              "      <td>0.215</td>\n",
              "      <td>0.3718</td>\n",
              "    </tr>\n",
              "    <tr>\n",
              "      <th>8</th>\n",
              "      <td>Clean premises, tasty food. My family favourit...</td>\n",
              "      <td>0.000</td>\n",
              "      <td>0.751</td>\n",
              "      <td>0.249</td>\n",
              "      <td>0.6486</td>\n",
              "    </tr>\n",
              "    <tr>\n",
              "      <th>9</th>\n",
              "      <td>really good and authentic Thai food! in partic...</td>\n",
              "      <td>0.000</td>\n",
              "      <td>0.680</td>\n",
              "      <td>0.320</td>\n",
              "      <td>0.9140</td>\n",
              "    </tr>\n",
              "  </tbody>\n",
              "</table>\n",
              "</div>"
            ],
            "text/plain": [
              "                                                text    neg  ...    pos  compound\n",
              "0  I have lot of emails on my inbox but not sure ...  0.126  ...  0.000   -0.3491\n",
              "1  I bought this for my son who plays the piano. ...  0.020  ...  0.283    0.9523\n",
              "2  Food was good, standouts were the spicy beef s...  0.000  ...  0.225    0.4926\n",
              "3  Good office lunch or after work place to go to...  0.000  ...  0.116    0.4404\n",
              "4  As a Korean person, it was very disappointing ...  0.149  ...  0.000   -0.5413\n",
              "5  Not great quality food for the price. Average ...  0.215  ...  0.000   -0.5096\n",
              "6  Fast service. Prices are reasonable and food i...  0.000  ...  0.000    0.0000\n",
              "7  Extremely long waiting time. Food is decent bu...  0.121  ...  0.215    0.3718\n",
              "8  Clean premises, tasty food. My family favourit...  0.000  ...  0.249    0.6486\n",
              "9  really good and authentic Thai food! in partic...  0.000  ...  0.320    0.9140\n",
              "\n",
              "[10 rows x 5 columns]"
            ]
          },
          "metadata": {
            "tags": []
          },
          "execution_count": 15
        }
      ]
    },
    {
      "cell_type": "code",
      "metadata": {
        "id": "PTcCDZBZIPLI"
      },
      "source": [
        ""
      ],
      "execution_count": null,
      "outputs": []
    }
  ]
}