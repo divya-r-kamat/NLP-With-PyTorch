{
  "nbformat": 4,
  "nbformat_minor": 0,
  "metadata": {
    "colab": {
      "name": "Fake_News_Classification_BERT.ipynb",
      "provenance": [],
      "collapsed_sections": [],
      "toc_visible": true,
      "mount_file_id": "1QksVJzZexvulT8x5imxThaiie2A-17-W",
      "authorship_tag": "ABX9TyPbGdbyaE2bYYvXUKzRQ5sA",
      "include_colab_link": true
    },
    "kernelspec": {
      "name": "python3",
      "display_name": "Python 3"
    },
    "language_info": {
      "name": "python"
    },
    "accelerator": "GPU",
    "widgets": {
      "application/vnd.jupyter.widget-state+json": {
        "49fa7f4d1e104e19b56c71962547b4f9": {
          "model_module": "@jupyter-widgets/controls",
          "model_name": "HBoxModel",
          "state": {
            "_view_name": "HBoxView",
            "_dom_classes": [],
            "_model_name": "HBoxModel",
            "_view_module": "@jupyter-widgets/controls",
            "_model_module_version": "1.5.0",
            "_view_count": null,
            "_view_module_version": "1.5.0",
            "box_style": "",
            "layout": "IPY_MODEL_f95be8d8a4014a9590dab9c650f1801b",
            "_model_module": "@jupyter-widgets/controls",
            "children": [
              "IPY_MODEL_19db7b8b87ba488ca68a9d6e3070dbbb",
              "IPY_MODEL_e854e74e9fb14b99918986a3355b2117"
            ]
          }
        },
        "f95be8d8a4014a9590dab9c650f1801b": {
          "model_module": "@jupyter-widgets/base",
          "model_name": "LayoutModel",
          "state": {
            "_view_name": "LayoutView",
            "grid_template_rows": null,
            "right": null,
            "justify_content": null,
            "_view_module": "@jupyter-widgets/base",
            "overflow": null,
            "_model_module_version": "1.2.0",
            "_view_count": null,
            "flex_flow": null,
            "width": null,
            "min_width": null,
            "border": null,
            "align_items": null,
            "bottom": null,
            "_model_module": "@jupyter-widgets/base",
            "top": null,
            "grid_column": null,
            "overflow_y": null,
            "overflow_x": null,
            "grid_auto_flow": null,
            "grid_area": null,
            "grid_template_columns": null,
            "flex": null,
            "_model_name": "LayoutModel",
            "justify_items": null,
            "grid_row": null,
            "max_height": null,
            "align_content": null,
            "visibility": null,
            "align_self": null,
            "height": null,
            "min_height": null,
            "padding": null,
            "grid_auto_rows": null,
            "grid_gap": null,
            "max_width": null,
            "order": null,
            "_view_module_version": "1.2.0",
            "grid_template_areas": null,
            "object_position": null,
            "object_fit": null,
            "grid_auto_columns": null,
            "margin": null,
            "display": null,
            "left": null
          }
        },
        "19db7b8b87ba488ca68a9d6e3070dbbb": {
          "model_module": "@jupyter-widgets/controls",
          "model_name": "FloatProgressModel",
          "state": {
            "_view_name": "ProgressView",
            "style": "IPY_MODEL_e77ce47caa4044de92269fb32496f5fe",
            "_dom_classes": [],
            "description": "Downloading: 100%",
            "_model_name": "FloatProgressModel",
            "bar_style": "success",
            "max": 231508,
            "_view_module": "@jupyter-widgets/controls",
            "_model_module_version": "1.5.0",
            "value": 231508,
            "_view_count": null,
            "_view_module_version": "1.5.0",
            "orientation": "horizontal",
            "min": 0,
            "description_tooltip": null,
            "_model_module": "@jupyter-widgets/controls",
            "layout": "IPY_MODEL_df057082e21e4b58b691b0dfcade20f1"
          }
        },
        "e854e74e9fb14b99918986a3355b2117": {
          "model_module": "@jupyter-widgets/controls",
          "model_name": "HTMLModel",
          "state": {
            "_view_name": "HTMLView",
            "style": "IPY_MODEL_104ea147999248608c7f22251e8d2e2a",
            "_dom_classes": [],
            "description": "",
            "_model_name": "HTMLModel",
            "placeholder": "​",
            "_view_module": "@jupyter-widgets/controls",
            "_model_module_version": "1.5.0",
            "value": " 232k/232k [00:00&lt;00:00, 553kB/s]",
            "_view_count": null,
            "_view_module_version": "1.5.0",
            "description_tooltip": null,
            "_model_module": "@jupyter-widgets/controls",
            "layout": "IPY_MODEL_edd432fa500b4837ac749ae18d0d6534"
          }
        },
        "e77ce47caa4044de92269fb32496f5fe": {
          "model_module": "@jupyter-widgets/controls",
          "model_name": "ProgressStyleModel",
          "state": {
            "_view_name": "StyleView",
            "_model_name": "ProgressStyleModel",
            "description_width": "initial",
            "_view_module": "@jupyter-widgets/base",
            "_model_module_version": "1.5.0",
            "_view_count": null,
            "_view_module_version": "1.2.0",
            "bar_color": null,
            "_model_module": "@jupyter-widgets/controls"
          }
        },
        "df057082e21e4b58b691b0dfcade20f1": {
          "model_module": "@jupyter-widgets/base",
          "model_name": "LayoutModel",
          "state": {
            "_view_name": "LayoutView",
            "grid_template_rows": null,
            "right": null,
            "justify_content": null,
            "_view_module": "@jupyter-widgets/base",
            "overflow": null,
            "_model_module_version": "1.2.0",
            "_view_count": null,
            "flex_flow": null,
            "width": null,
            "min_width": null,
            "border": null,
            "align_items": null,
            "bottom": null,
            "_model_module": "@jupyter-widgets/base",
            "top": null,
            "grid_column": null,
            "overflow_y": null,
            "overflow_x": null,
            "grid_auto_flow": null,
            "grid_area": null,
            "grid_template_columns": null,
            "flex": null,
            "_model_name": "LayoutModel",
            "justify_items": null,
            "grid_row": null,
            "max_height": null,
            "align_content": null,
            "visibility": null,
            "align_self": null,
            "height": null,
            "min_height": null,
            "padding": null,
            "grid_auto_rows": null,
            "grid_gap": null,
            "max_width": null,
            "order": null,
            "_view_module_version": "1.2.0",
            "grid_template_areas": null,
            "object_position": null,
            "object_fit": null,
            "grid_auto_columns": null,
            "margin": null,
            "display": null,
            "left": null
          }
        },
        "104ea147999248608c7f22251e8d2e2a": {
          "model_module": "@jupyter-widgets/controls",
          "model_name": "DescriptionStyleModel",
          "state": {
            "_view_name": "StyleView",
            "_model_name": "DescriptionStyleModel",
            "description_width": "",
            "_view_module": "@jupyter-widgets/base",
            "_model_module_version": "1.5.0",
            "_view_count": null,
            "_view_module_version": "1.2.0",
            "_model_module": "@jupyter-widgets/controls"
          }
        },
        "edd432fa500b4837ac749ae18d0d6534": {
          "model_module": "@jupyter-widgets/base",
          "model_name": "LayoutModel",
          "state": {
            "_view_name": "LayoutView",
            "grid_template_rows": null,
            "right": null,
            "justify_content": null,
            "_view_module": "@jupyter-widgets/base",
            "overflow": null,
            "_model_module_version": "1.2.0",
            "_view_count": null,
            "flex_flow": null,
            "width": null,
            "min_width": null,
            "border": null,
            "align_items": null,
            "bottom": null,
            "_model_module": "@jupyter-widgets/base",
            "top": null,
            "grid_column": null,
            "overflow_y": null,
            "overflow_x": null,
            "grid_auto_flow": null,
            "grid_area": null,
            "grid_template_columns": null,
            "flex": null,
            "_model_name": "LayoutModel",
            "justify_items": null,
            "grid_row": null,
            "max_height": null,
            "align_content": null,
            "visibility": null,
            "align_self": null,
            "height": null,
            "min_height": null,
            "padding": null,
            "grid_auto_rows": null,
            "grid_gap": null,
            "max_width": null,
            "order": null,
            "_view_module_version": "1.2.0",
            "grid_template_areas": null,
            "object_position": null,
            "object_fit": null,
            "grid_auto_columns": null,
            "margin": null,
            "display": null,
            "left": null
          }
        },
        "8a2d496605a9412c81f7c37373da0d7c": {
          "model_module": "@jupyter-widgets/controls",
          "model_name": "HBoxModel",
          "state": {
            "_view_name": "HBoxView",
            "_dom_classes": [],
            "_model_name": "HBoxModel",
            "_view_module": "@jupyter-widgets/controls",
            "_model_module_version": "1.5.0",
            "_view_count": null,
            "_view_module_version": "1.5.0",
            "box_style": "",
            "layout": "IPY_MODEL_777fb461b0474fd0ba924b5609bf2177",
            "_model_module": "@jupyter-widgets/controls",
            "children": [
              "IPY_MODEL_3f05574c23f94e048676ae5a840f8d77",
              "IPY_MODEL_5bf37a1f0aa44ffe9593675d1be0643c"
            ]
          }
        },
        "777fb461b0474fd0ba924b5609bf2177": {
          "model_module": "@jupyter-widgets/base",
          "model_name": "LayoutModel",
          "state": {
            "_view_name": "LayoutView",
            "grid_template_rows": null,
            "right": null,
            "justify_content": null,
            "_view_module": "@jupyter-widgets/base",
            "overflow": null,
            "_model_module_version": "1.2.0",
            "_view_count": null,
            "flex_flow": null,
            "width": null,
            "min_width": null,
            "border": null,
            "align_items": null,
            "bottom": null,
            "_model_module": "@jupyter-widgets/base",
            "top": null,
            "grid_column": null,
            "overflow_y": null,
            "overflow_x": null,
            "grid_auto_flow": null,
            "grid_area": null,
            "grid_template_columns": null,
            "flex": null,
            "_model_name": "LayoutModel",
            "justify_items": null,
            "grid_row": null,
            "max_height": null,
            "align_content": null,
            "visibility": null,
            "align_self": null,
            "height": null,
            "min_height": null,
            "padding": null,
            "grid_auto_rows": null,
            "grid_gap": null,
            "max_width": null,
            "order": null,
            "_view_module_version": "1.2.0",
            "grid_template_areas": null,
            "object_position": null,
            "object_fit": null,
            "grid_auto_columns": null,
            "margin": null,
            "display": null,
            "left": null
          }
        },
        "3f05574c23f94e048676ae5a840f8d77": {
          "model_module": "@jupyter-widgets/controls",
          "model_name": "FloatProgressModel",
          "state": {
            "_view_name": "ProgressView",
            "style": "IPY_MODEL_eafd2f76adfc4607abb05a52c75137e4",
            "_dom_classes": [],
            "description": "Downloading: 100%",
            "_model_name": "FloatProgressModel",
            "bar_style": "success",
            "max": 28,
            "_view_module": "@jupyter-widgets/controls",
            "_model_module_version": "1.5.0",
            "value": 28,
            "_view_count": null,
            "_view_module_version": "1.5.0",
            "orientation": "horizontal",
            "min": 0,
            "description_tooltip": null,
            "_model_module": "@jupyter-widgets/controls",
            "layout": "IPY_MODEL_b048b3bbd1954078b6837d8ffd337209"
          }
        },
        "5bf37a1f0aa44ffe9593675d1be0643c": {
          "model_module": "@jupyter-widgets/controls",
          "model_name": "HTMLModel",
          "state": {
            "_view_name": "HTMLView",
            "style": "IPY_MODEL_91d9d15aa2f44112bf10120cbcaca898",
            "_dom_classes": [],
            "description": "",
            "_model_name": "HTMLModel",
            "placeholder": "​",
            "_view_module": "@jupyter-widgets/controls",
            "_model_module_version": "1.5.0",
            "value": " 28.0/28.0 [00:00&lt;00:00, 142B/s]",
            "_view_count": null,
            "_view_module_version": "1.5.0",
            "description_tooltip": null,
            "_model_module": "@jupyter-widgets/controls",
            "layout": "IPY_MODEL_3273e4baa0b4447d96adf698f32d5a59"
          }
        },
        "eafd2f76adfc4607abb05a52c75137e4": {
          "model_module": "@jupyter-widgets/controls",
          "model_name": "ProgressStyleModel",
          "state": {
            "_view_name": "StyleView",
            "_model_name": "ProgressStyleModel",
            "description_width": "initial",
            "_view_module": "@jupyter-widgets/base",
            "_model_module_version": "1.5.0",
            "_view_count": null,
            "_view_module_version": "1.2.0",
            "bar_color": null,
            "_model_module": "@jupyter-widgets/controls"
          }
        },
        "b048b3bbd1954078b6837d8ffd337209": {
          "model_module": "@jupyter-widgets/base",
          "model_name": "LayoutModel",
          "state": {
            "_view_name": "LayoutView",
            "grid_template_rows": null,
            "right": null,
            "justify_content": null,
            "_view_module": "@jupyter-widgets/base",
            "overflow": null,
            "_model_module_version": "1.2.0",
            "_view_count": null,
            "flex_flow": null,
            "width": null,
            "min_width": null,
            "border": null,
            "align_items": null,
            "bottom": null,
            "_model_module": "@jupyter-widgets/base",
            "top": null,
            "grid_column": null,
            "overflow_y": null,
            "overflow_x": null,
            "grid_auto_flow": null,
            "grid_area": null,
            "grid_template_columns": null,
            "flex": null,
            "_model_name": "LayoutModel",
            "justify_items": null,
            "grid_row": null,
            "max_height": null,
            "align_content": null,
            "visibility": null,
            "align_self": null,
            "height": null,
            "min_height": null,
            "padding": null,
            "grid_auto_rows": null,
            "grid_gap": null,
            "max_width": null,
            "order": null,
            "_view_module_version": "1.2.0",
            "grid_template_areas": null,
            "object_position": null,
            "object_fit": null,
            "grid_auto_columns": null,
            "margin": null,
            "display": null,
            "left": null
          }
        },
        "91d9d15aa2f44112bf10120cbcaca898": {
          "model_module": "@jupyter-widgets/controls",
          "model_name": "DescriptionStyleModel",
          "state": {
            "_view_name": "StyleView",
            "_model_name": "DescriptionStyleModel",
            "description_width": "",
            "_view_module": "@jupyter-widgets/base",
            "_model_module_version": "1.5.0",
            "_view_count": null,
            "_view_module_version": "1.2.0",
            "_model_module": "@jupyter-widgets/controls"
          }
        },
        "3273e4baa0b4447d96adf698f32d5a59": {
          "model_module": "@jupyter-widgets/base",
          "model_name": "LayoutModel",
          "state": {
            "_view_name": "LayoutView",
            "grid_template_rows": null,
            "right": null,
            "justify_content": null,
            "_view_module": "@jupyter-widgets/base",
            "overflow": null,
            "_model_module_version": "1.2.0",
            "_view_count": null,
            "flex_flow": null,
            "width": null,
            "min_width": null,
            "border": null,
            "align_items": null,
            "bottom": null,
            "_model_module": "@jupyter-widgets/base",
            "top": null,
            "grid_column": null,
            "overflow_y": null,
            "overflow_x": null,
            "grid_auto_flow": null,
            "grid_area": null,
            "grid_template_columns": null,
            "flex": null,
            "_model_name": "LayoutModel",
            "justify_items": null,
            "grid_row": null,
            "max_height": null,
            "align_content": null,
            "visibility": null,
            "align_self": null,
            "height": null,
            "min_height": null,
            "padding": null,
            "grid_auto_rows": null,
            "grid_gap": null,
            "max_width": null,
            "order": null,
            "_view_module_version": "1.2.0",
            "grid_template_areas": null,
            "object_position": null,
            "object_fit": null,
            "grid_auto_columns": null,
            "margin": null,
            "display": null,
            "left": null
          }
        },
        "ccd3103b11844e22824c732f7d205f44": {
          "model_module": "@jupyter-widgets/controls",
          "model_name": "HBoxModel",
          "state": {
            "_view_name": "HBoxView",
            "_dom_classes": [],
            "_model_name": "HBoxModel",
            "_view_module": "@jupyter-widgets/controls",
            "_model_module_version": "1.5.0",
            "_view_count": null,
            "_view_module_version": "1.5.0",
            "box_style": "",
            "layout": "IPY_MODEL_b45eed84050748e58d533732259c87ce",
            "_model_module": "@jupyter-widgets/controls",
            "children": [
              "IPY_MODEL_9ab3e5a44f564c1c9832c33ab99c5e2e",
              "IPY_MODEL_881a8f53d7fe469c85caee24138caed3"
            ]
          }
        },
        "b45eed84050748e58d533732259c87ce": {
          "model_module": "@jupyter-widgets/base",
          "model_name": "LayoutModel",
          "state": {
            "_view_name": "LayoutView",
            "grid_template_rows": null,
            "right": null,
            "justify_content": null,
            "_view_module": "@jupyter-widgets/base",
            "overflow": null,
            "_model_module_version": "1.2.0",
            "_view_count": null,
            "flex_flow": null,
            "width": null,
            "min_width": null,
            "border": null,
            "align_items": null,
            "bottom": null,
            "_model_module": "@jupyter-widgets/base",
            "top": null,
            "grid_column": null,
            "overflow_y": null,
            "overflow_x": null,
            "grid_auto_flow": null,
            "grid_area": null,
            "grid_template_columns": null,
            "flex": null,
            "_model_name": "LayoutModel",
            "justify_items": null,
            "grid_row": null,
            "max_height": null,
            "align_content": null,
            "visibility": null,
            "align_self": null,
            "height": null,
            "min_height": null,
            "padding": null,
            "grid_auto_rows": null,
            "grid_gap": null,
            "max_width": null,
            "order": null,
            "_view_module_version": "1.2.0",
            "grid_template_areas": null,
            "object_position": null,
            "object_fit": null,
            "grid_auto_columns": null,
            "margin": null,
            "display": null,
            "left": null
          }
        },
        "9ab3e5a44f564c1c9832c33ab99c5e2e": {
          "model_module": "@jupyter-widgets/controls",
          "model_name": "FloatProgressModel",
          "state": {
            "_view_name": "ProgressView",
            "style": "IPY_MODEL_821c33cabb9b4aee9b9d0974fd395a84",
            "_dom_classes": [],
            "description": "Downloading: 100%",
            "_model_name": "FloatProgressModel",
            "bar_style": "success",
            "max": 466062,
            "_view_module": "@jupyter-widgets/controls",
            "_model_module_version": "1.5.0",
            "value": 466062,
            "_view_count": null,
            "_view_module_version": "1.5.0",
            "orientation": "horizontal",
            "min": 0,
            "description_tooltip": null,
            "_model_module": "@jupyter-widgets/controls",
            "layout": "IPY_MODEL_f1edc739f9444ba49c77066e32a0df66"
          }
        },
        "881a8f53d7fe469c85caee24138caed3": {
          "model_module": "@jupyter-widgets/controls",
          "model_name": "HTMLModel",
          "state": {
            "_view_name": "HTMLView",
            "style": "IPY_MODEL_662119541bf948cca181e23ecb0a0b18",
            "_dom_classes": [],
            "description": "",
            "_model_name": "HTMLModel",
            "placeholder": "​",
            "_view_module": "@jupyter-widgets/controls",
            "_model_module_version": "1.5.0",
            "value": " 466k/466k [00:00&lt;00:00, 4.41MB/s]",
            "_view_count": null,
            "_view_module_version": "1.5.0",
            "description_tooltip": null,
            "_model_module": "@jupyter-widgets/controls",
            "layout": "IPY_MODEL_9e66a51531894755bae6356bac620a80"
          }
        },
        "821c33cabb9b4aee9b9d0974fd395a84": {
          "model_module": "@jupyter-widgets/controls",
          "model_name": "ProgressStyleModel",
          "state": {
            "_view_name": "StyleView",
            "_model_name": "ProgressStyleModel",
            "description_width": "initial",
            "_view_module": "@jupyter-widgets/base",
            "_model_module_version": "1.5.0",
            "_view_count": null,
            "_view_module_version": "1.2.0",
            "bar_color": null,
            "_model_module": "@jupyter-widgets/controls"
          }
        },
        "f1edc739f9444ba49c77066e32a0df66": {
          "model_module": "@jupyter-widgets/base",
          "model_name": "LayoutModel",
          "state": {
            "_view_name": "LayoutView",
            "grid_template_rows": null,
            "right": null,
            "justify_content": null,
            "_view_module": "@jupyter-widgets/base",
            "overflow": null,
            "_model_module_version": "1.2.0",
            "_view_count": null,
            "flex_flow": null,
            "width": null,
            "min_width": null,
            "border": null,
            "align_items": null,
            "bottom": null,
            "_model_module": "@jupyter-widgets/base",
            "top": null,
            "grid_column": null,
            "overflow_y": null,
            "overflow_x": null,
            "grid_auto_flow": null,
            "grid_area": null,
            "grid_template_columns": null,
            "flex": null,
            "_model_name": "LayoutModel",
            "justify_items": null,
            "grid_row": null,
            "max_height": null,
            "align_content": null,
            "visibility": null,
            "align_self": null,
            "height": null,
            "min_height": null,
            "padding": null,
            "grid_auto_rows": null,
            "grid_gap": null,
            "max_width": null,
            "order": null,
            "_view_module_version": "1.2.0",
            "grid_template_areas": null,
            "object_position": null,
            "object_fit": null,
            "grid_auto_columns": null,
            "margin": null,
            "display": null,
            "left": null
          }
        },
        "662119541bf948cca181e23ecb0a0b18": {
          "model_module": "@jupyter-widgets/controls",
          "model_name": "DescriptionStyleModel",
          "state": {
            "_view_name": "StyleView",
            "_model_name": "DescriptionStyleModel",
            "description_width": "",
            "_view_module": "@jupyter-widgets/base",
            "_model_module_version": "1.5.0",
            "_view_count": null,
            "_view_module_version": "1.2.0",
            "_model_module": "@jupyter-widgets/controls"
          }
        },
        "9e66a51531894755bae6356bac620a80": {
          "model_module": "@jupyter-widgets/base",
          "model_name": "LayoutModel",
          "state": {
            "_view_name": "LayoutView",
            "grid_template_rows": null,
            "right": null,
            "justify_content": null,
            "_view_module": "@jupyter-widgets/base",
            "overflow": null,
            "_model_module_version": "1.2.0",
            "_view_count": null,
            "flex_flow": null,
            "width": null,
            "min_width": null,
            "border": null,
            "align_items": null,
            "bottom": null,
            "_model_module": "@jupyter-widgets/base",
            "top": null,
            "grid_column": null,
            "overflow_y": null,
            "overflow_x": null,
            "grid_auto_flow": null,
            "grid_area": null,
            "grid_template_columns": null,
            "flex": null,
            "_model_name": "LayoutModel",
            "justify_items": null,
            "grid_row": null,
            "max_height": null,
            "align_content": null,
            "visibility": null,
            "align_self": null,
            "height": null,
            "min_height": null,
            "padding": null,
            "grid_auto_rows": null,
            "grid_gap": null,
            "max_width": null,
            "order": null,
            "_view_module_version": "1.2.0",
            "grid_template_areas": null,
            "object_position": null,
            "object_fit": null,
            "grid_auto_columns": null,
            "margin": null,
            "display": null,
            "left": null
          }
        },
        "b4b08834d19f4deab5de8156b51836fc": {
          "model_module": "@jupyter-widgets/controls",
          "model_name": "HBoxModel",
          "state": {
            "_view_name": "HBoxView",
            "_dom_classes": [],
            "_model_name": "HBoxModel",
            "_view_module": "@jupyter-widgets/controls",
            "_model_module_version": "1.5.0",
            "_view_count": null,
            "_view_module_version": "1.5.0",
            "box_style": "",
            "layout": "IPY_MODEL_e98e9ed290c241b39803fb6a164165de",
            "_model_module": "@jupyter-widgets/controls",
            "children": [
              "IPY_MODEL_24ec85369f2b483bb5d075ebef01d80f",
              "IPY_MODEL_c2324e80c7c14d15b3b463de902a6ca1"
            ]
          }
        },
        "e98e9ed290c241b39803fb6a164165de": {
          "model_module": "@jupyter-widgets/base",
          "model_name": "LayoutModel",
          "state": {
            "_view_name": "LayoutView",
            "grid_template_rows": null,
            "right": null,
            "justify_content": null,
            "_view_module": "@jupyter-widgets/base",
            "overflow": null,
            "_model_module_version": "1.2.0",
            "_view_count": null,
            "flex_flow": null,
            "width": null,
            "min_width": null,
            "border": null,
            "align_items": null,
            "bottom": null,
            "_model_module": "@jupyter-widgets/base",
            "top": null,
            "grid_column": null,
            "overflow_y": null,
            "overflow_x": null,
            "grid_auto_flow": null,
            "grid_area": null,
            "grid_template_columns": null,
            "flex": null,
            "_model_name": "LayoutModel",
            "justify_items": null,
            "grid_row": null,
            "max_height": null,
            "align_content": null,
            "visibility": null,
            "align_self": null,
            "height": null,
            "min_height": null,
            "padding": null,
            "grid_auto_rows": null,
            "grid_gap": null,
            "max_width": null,
            "order": null,
            "_view_module_version": "1.2.0",
            "grid_template_areas": null,
            "object_position": null,
            "object_fit": null,
            "grid_auto_columns": null,
            "margin": null,
            "display": null,
            "left": null
          }
        },
        "24ec85369f2b483bb5d075ebef01d80f": {
          "model_module": "@jupyter-widgets/controls",
          "model_name": "FloatProgressModel",
          "state": {
            "_view_name": "ProgressView",
            "style": "IPY_MODEL_68028a7ffa5a4f4cb043305791b522a6",
            "_dom_classes": [],
            "description": "Downloading: 100%",
            "_model_name": "FloatProgressModel",
            "bar_style": "success",
            "max": 433,
            "_view_module": "@jupyter-widgets/controls",
            "_model_module_version": "1.5.0",
            "value": 433,
            "_view_count": null,
            "_view_module_version": "1.5.0",
            "orientation": "horizontal",
            "min": 0,
            "description_tooltip": null,
            "_model_module": "@jupyter-widgets/controls",
            "layout": "IPY_MODEL_61db4d31a81a4e219bb66d238558e3ad"
          }
        },
        "c2324e80c7c14d15b3b463de902a6ca1": {
          "model_module": "@jupyter-widgets/controls",
          "model_name": "HTMLModel",
          "state": {
            "_view_name": "HTMLView",
            "style": "IPY_MODEL_c6f98dc2549742dba36eb3af8af4074d",
            "_dom_classes": [],
            "description": "",
            "_model_name": "HTMLModel",
            "placeholder": "​",
            "_view_module": "@jupyter-widgets/controls",
            "_model_module_version": "1.5.0",
            "value": " 433/433 [00:10&lt;00:00, 43.0B/s]",
            "_view_count": null,
            "_view_module_version": "1.5.0",
            "description_tooltip": null,
            "_model_module": "@jupyter-widgets/controls",
            "layout": "IPY_MODEL_b83436afbce34eae8bba88641e29da88"
          }
        },
        "68028a7ffa5a4f4cb043305791b522a6": {
          "model_module": "@jupyter-widgets/controls",
          "model_name": "ProgressStyleModel",
          "state": {
            "_view_name": "StyleView",
            "_model_name": "ProgressStyleModel",
            "description_width": "initial",
            "_view_module": "@jupyter-widgets/base",
            "_model_module_version": "1.5.0",
            "_view_count": null,
            "_view_module_version": "1.2.0",
            "bar_color": null,
            "_model_module": "@jupyter-widgets/controls"
          }
        },
        "61db4d31a81a4e219bb66d238558e3ad": {
          "model_module": "@jupyter-widgets/base",
          "model_name": "LayoutModel",
          "state": {
            "_view_name": "LayoutView",
            "grid_template_rows": null,
            "right": null,
            "justify_content": null,
            "_view_module": "@jupyter-widgets/base",
            "overflow": null,
            "_model_module_version": "1.2.0",
            "_view_count": null,
            "flex_flow": null,
            "width": null,
            "min_width": null,
            "border": null,
            "align_items": null,
            "bottom": null,
            "_model_module": "@jupyter-widgets/base",
            "top": null,
            "grid_column": null,
            "overflow_y": null,
            "overflow_x": null,
            "grid_auto_flow": null,
            "grid_area": null,
            "grid_template_columns": null,
            "flex": null,
            "_model_name": "LayoutModel",
            "justify_items": null,
            "grid_row": null,
            "max_height": null,
            "align_content": null,
            "visibility": null,
            "align_self": null,
            "height": null,
            "min_height": null,
            "padding": null,
            "grid_auto_rows": null,
            "grid_gap": null,
            "max_width": null,
            "order": null,
            "_view_module_version": "1.2.0",
            "grid_template_areas": null,
            "object_position": null,
            "object_fit": null,
            "grid_auto_columns": null,
            "margin": null,
            "display": null,
            "left": null
          }
        },
        "c6f98dc2549742dba36eb3af8af4074d": {
          "model_module": "@jupyter-widgets/controls",
          "model_name": "DescriptionStyleModel",
          "state": {
            "_view_name": "StyleView",
            "_model_name": "DescriptionStyleModel",
            "description_width": "",
            "_view_module": "@jupyter-widgets/base",
            "_model_module_version": "1.5.0",
            "_view_count": null,
            "_view_module_version": "1.2.0",
            "_model_module": "@jupyter-widgets/controls"
          }
        },
        "b83436afbce34eae8bba88641e29da88": {
          "model_module": "@jupyter-widgets/base",
          "model_name": "LayoutModel",
          "state": {
            "_view_name": "LayoutView",
            "grid_template_rows": null,
            "right": null,
            "justify_content": null,
            "_view_module": "@jupyter-widgets/base",
            "overflow": null,
            "_model_module_version": "1.2.0",
            "_view_count": null,
            "flex_flow": null,
            "width": null,
            "min_width": null,
            "border": null,
            "align_items": null,
            "bottom": null,
            "_model_module": "@jupyter-widgets/base",
            "top": null,
            "grid_column": null,
            "overflow_y": null,
            "overflow_x": null,
            "grid_auto_flow": null,
            "grid_area": null,
            "grid_template_columns": null,
            "flex": null,
            "_model_name": "LayoutModel",
            "justify_items": null,
            "grid_row": null,
            "max_height": null,
            "align_content": null,
            "visibility": null,
            "align_self": null,
            "height": null,
            "min_height": null,
            "padding": null,
            "grid_auto_rows": null,
            "grid_gap": null,
            "max_width": null,
            "order": null,
            "_view_module_version": "1.2.0",
            "grid_template_areas": null,
            "object_position": null,
            "object_fit": null,
            "grid_auto_columns": null,
            "margin": null,
            "display": null,
            "left": null
          }
        },
        "c74d6a6d7c1242a0a26654a3ec74970d": {
          "model_module": "@jupyter-widgets/controls",
          "model_name": "HBoxModel",
          "state": {
            "_view_name": "HBoxView",
            "_dom_classes": [],
            "_model_name": "HBoxModel",
            "_view_module": "@jupyter-widgets/controls",
            "_model_module_version": "1.5.0",
            "_view_count": null,
            "_view_module_version": "1.5.0",
            "box_style": "",
            "layout": "IPY_MODEL_ae5f7d672907443784a74cc70d959085",
            "_model_module": "@jupyter-widgets/controls",
            "children": [
              "IPY_MODEL_b41d1e5a1dcd4a6fb2d74d1cf21ccdfa",
              "IPY_MODEL_ed1df53eeaf44ab0afac4cd10b93959b"
            ]
          }
        },
        "ae5f7d672907443784a74cc70d959085": {
          "model_module": "@jupyter-widgets/base",
          "model_name": "LayoutModel",
          "state": {
            "_view_name": "LayoutView",
            "grid_template_rows": null,
            "right": null,
            "justify_content": null,
            "_view_module": "@jupyter-widgets/base",
            "overflow": null,
            "_model_module_version": "1.2.0",
            "_view_count": null,
            "flex_flow": null,
            "width": null,
            "min_width": null,
            "border": null,
            "align_items": null,
            "bottom": null,
            "_model_module": "@jupyter-widgets/base",
            "top": null,
            "grid_column": null,
            "overflow_y": null,
            "overflow_x": null,
            "grid_auto_flow": null,
            "grid_area": null,
            "grid_template_columns": null,
            "flex": null,
            "_model_name": "LayoutModel",
            "justify_items": null,
            "grid_row": null,
            "max_height": null,
            "align_content": null,
            "visibility": null,
            "align_self": null,
            "height": null,
            "min_height": null,
            "padding": null,
            "grid_auto_rows": null,
            "grid_gap": null,
            "max_width": null,
            "order": null,
            "_view_module_version": "1.2.0",
            "grid_template_areas": null,
            "object_position": null,
            "object_fit": null,
            "grid_auto_columns": null,
            "margin": null,
            "display": null,
            "left": null
          }
        },
        "b41d1e5a1dcd4a6fb2d74d1cf21ccdfa": {
          "model_module": "@jupyter-widgets/controls",
          "model_name": "FloatProgressModel",
          "state": {
            "_view_name": "ProgressView",
            "style": "IPY_MODEL_ca5fe2a04c9d41d1a774b58576973c0d",
            "_dom_classes": [],
            "description": "Downloading: 100%",
            "_model_name": "FloatProgressModel",
            "bar_style": "success",
            "max": 440473133,
            "_view_module": "@jupyter-widgets/controls",
            "_model_module_version": "1.5.0",
            "value": 440473133,
            "_view_count": null,
            "_view_module_version": "1.5.0",
            "orientation": "horizontal",
            "min": 0,
            "description_tooltip": null,
            "_model_module": "@jupyter-widgets/controls",
            "layout": "IPY_MODEL_9a3a1a76d73541bdaaeec0b4e743f0a6"
          }
        },
        "ed1df53eeaf44ab0afac4cd10b93959b": {
          "model_module": "@jupyter-widgets/controls",
          "model_name": "HTMLModel",
          "state": {
            "_view_name": "HTMLView",
            "style": "IPY_MODEL_bbb98c57aee64d4594e48bf83d4ebad4",
            "_dom_classes": [],
            "description": "",
            "_model_name": "HTMLModel",
            "placeholder": "​",
            "_view_module": "@jupyter-widgets/controls",
            "_model_module_version": "1.5.0",
            "value": " 440M/440M [00:09&lt;00:00, 44.5MB/s]",
            "_view_count": null,
            "_view_module_version": "1.5.0",
            "description_tooltip": null,
            "_model_module": "@jupyter-widgets/controls",
            "layout": "IPY_MODEL_04c9771bcab64c48a02729056a9bc032"
          }
        },
        "ca5fe2a04c9d41d1a774b58576973c0d": {
          "model_module": "@jupyter-widgets/controls",
          "model_name": "ProgressStyleModel",
          "state": {
            "_view_name": "StyleView",
            "_model_name": "ProgressStyleModel",
            "description_width": "initial",
            "_view_module": "@jupyter-widgets/base",
            "_model_module_version": "1.5.0",
            "_view_count": null,
            "_view_module_version": "1.2.0",
            "bar_color": null,
            "_model_module": "@jupyter-widgets/controls"
          }
        },
        "9a3a1a76d73541bdaaeec0b4e743f0a6": {
          "model_module": "@jupyter-widgets/base",
          "model_name": "LayoutModel",
          "state": {
            "_view_name": "LayoutView",
            "grid_template_rows": null,
            "right": null,
            "justify_content": null,
            "_view_module": "@jupyter-widgets/base",
            "overflow": null,
            "_model_module_version": "1.2.0",
            "_view_count": null,
            "flex_flow": null,
            "width": null,
            "min_width": null,
            "border": null,
            "align_items": null,
            "bottom": null,
            "_model_module": "@jupyter-widgets/base",
            "top": null,
            "grid_column": null,
            "overflow_y": null,
            "overflow_x": null,
            "grid_auto_flow": null,
            "grid_area": null,
            "grid_template_columns": null,
            "flex": null,
            "_model_name": "LayoutModel",
            "justify_items": null,
            "grid_row": null,
            "max_height": null,
            "align_content": null,
            "visibility": null,
            "align_self": null,
            "height": null,
            "min_height": null,
            "padding": null,
            "grid_auto_rows": null,
            "grid_gap": null,
            "max_width": null,
            "order": null,
            "_view_module_version": "1.2.0",
            "grid_template_areas": null,
            "object_position": null,
            "object_fit": null,
            "grid_auto_columns": null,
            "margin": null,
            "display": null,
            "left": null
          }
        },
        "bbb98c57aee64d4594e48bf83d4ebad4": {
          "model_module": "@jupyter-widgets/controls",
          "model_name": "DescriptionStyleModel",
          "state": {
            "_view_name": "StyleView",
            "_model_name": "DescriptionStyleModel",
            "description_width": "",
            "_view_module": "@jupyter-widgets/base",
            "_model_module_version": "1.5.0",
            "_view_count": null,
            "_view_module_version": "1.2.0",
            "_model_module": "@jupyter-widgets/controls"
          }
        },
        "04c9771bcab64c48a02729056a9bc032": {
          "model_module": "@jupyter-widgets/base",
          "model_name": "LayoutModel",
          "state": {
            "_view_name": "LayoutView",
            "grid_template_rows": null,
            "right": null,
            "justify_content": null,
            "_view_module": "@jupyter-widgets/base",
            "overflow": null,
            "_model_module_version": "1.2.0",
            "_view_count": null,
            "flex_flow": null,
            "width": null,
            "min_width": null,
            "border": null,
            "align_items": null,
            "bottom": null,
            "_model_module": "@jupyter-widgets/base",
            "top": null,
            "grid_column": null,
            "overflow_y": null,
            "overflow_x": null,
            "grid_auto_flow": null,
            "grid_area": null,
            "grid_template_columns": null,
            "flex": null,
            "_model_name": "LayoutModel",
            "justify_items": null,
            "grid_row": null,
            "max_height": null,
            "align_content": null,
            "visibility": null,
            "align_self": null,
            "height": null,
            "min_height": null,
            "padding": null,
            "grid_auto_rows": null,
            "grid_gap": null,
            "max_width": null,
            "order": null,
            "_view_module_version": "1.2.0",
            "grid_template_areas": null,
            "object_position": null,
            "object_fit": null,
            "grid_auto_columns": null,
            "margin": null,
            "display": null,
            "left": null
          }
        }
      }
    }
  },
  "cells": [
    {
      "cell_type": "markdown",
      "metadata": {
        "id": "view-in-github",
        "colab_type": "text"
      },
      "source": [
        "<a href=\"https://colab.research.google.com/github/divya-r-kamat/NLP-With-PyTorch/blob/master/BERT/FakeNewsClassification/Fake_News_Classification_BERT.ipynb\" target=\"_parent\"><img src=\"https://colab.research.google.com/assets/colab-badge.svg\" alt=\"Open In Colab\"/></a>"
      ]
    },
    {
      "cell_type": "markdown",
      "metadata": {
        "id": "t4rEZAjCEEcA"
      },
      "source": [
        "# Spam Classification using BERT"
      ]
    },
    {
      "cell_type": "markdown",
      "metadata": {
        "id": "zwBn_MZCDtf5"
      },
      "source": [
        "Google Colab offers free GPUs and TPUs! Since we'll be training a large neural network it's best to take advantage of this (in this case we'll attach a GPU), otherwise training will take a very long time.\n",
        "\n",
        "A GPU can be added by going to the menu and selecting:\n",
        "\n",
        "Edit 🡒 Notebook Settings 🡒 Hardware accelerator 🡒 (GPU)\n",
        "\n",
        "Then run the following cell to confirm that the GPU is detected."
      ]
    },
    {
      "cell_type": "code",
      "metadata": {
        "colab": {
          "base_uri": "https://localhost:8080/"
        },
        "id": "Hh1oQA6mDXRu",
        "outputId": "65b97420-f79d-41bd-aa9e-6bc04ba4c5c8"
      },
      "source": [
        "import tensorflow as tf\n",
        "\n",
        "# Get the GPU device name.\n",
        "device_name = tf.test.gpu_device_name()\n",
        "\n",
        "# The device name should look like the following:\n",
        "if device_name == '/device:GPU:0':\n",
        "    print('Found GPU at: {}'.format(device_name))\n",
        "else:\n",
        "    raise SystemError('GPU device not found')"
      ],
      "execution_count": 1,
      "outputs": [
        {
          "output_type": "stream",
          "text": [
            "Found GPU at: /device:GPU:0\n"
          ],
          "name": "stdout"
        }
      ]
    },
    {
      "cell_type": "markdown",
      "metadata": {
        "id": "p_xxNV_RD59N"
      },
      "source": [
        "In order for torch to use the GPU, we need to identify and specify the GPU as the device. Later, in our training loop, we will load data onto the device."
      ]
    },
    {
      "cell_type": "code",
      "metadata": {
        "colab": {
          "base_uri": "https://localhost:8080/"
        },
        "id": "LwsTtUywDwjO",
        "outputId": "986c8df9-1733-4dd2-adbf-4fd0acbaaea3"
      },
      "source": [
        "import torch\n",
        "\n",
        "# If there's a GPU available...\n",
        "if torch.cuda.is_available():    \n",
        "\n",
        "    # Tell PyTorch to use the GPU.    \n",
        "    device = torch.device(\"cuda\")\n",
        "    torch.backends.cudnn.deterministic = True\n",
        "    torch.backends.cudnn.benchmark = False\n",
        "\n",
        "    print('There are %d GPU(s) available.' % torch.cuda.device_count())\n",
        "\n",
        "    print('We will use the GPU:', torch.cuda.get_device_name(0))\n",
        "\n",
        "# If not...\n",
        "else:\n",
        "    print('No GPU available, using the CPU instead.')\n",
        "    device = torch.device(\"cpu\")"
      ],
      "execution_count": 2,
      "outputs": [
        {
          "output_type": "stream",
          "text": [
            "There are 1 GPU(s) available.\n",
            "We will use the GPU: Tesla T4\n"
          ],
          "name": "stdout"
        }
      ]
    },
    {
      "cell_type": "markdown",
      "metadata": {
        "id": "jPk9WF36EZFK"
      },
      "source": [
        "## Installing the Hugging Face Library\n",
        "\n",
        "Next, let's install the transformers package from Hugging Face which will give us a pytorch interface for working with BERT. (This library contains interfaces for other pretrained language models like OpenAI's GPT and GPT-2.) \n",
        "The library also includes task-specific classes for token classification, question answering, next sentence prediciton, etc. Using these pre-built classes simplifies the process of modifying BERT for your purposes."
      ]
    },
    {
      "cell_type": "code",
      "metadata": {
        "colab": {
          "base_uri": "https://localhost:8080/"
        },
        "id": "Loqd3aLsC670",
        "outputId": "5fb0c9c2-a12f-4e16-8457-39b512cd334e"
      },
      "source": [
        "!pip install transformers"
      ],
      "execution_count": 3,
      "outputs": [
        {
          "output_type": "stream",
          "text": [
            "Collecting transformers\n",
            "\u001b[?25l  Downloading https://files.pythonhosted.org/packages/81/91/61d69d58a1af1bd81d9ca9d62c90a6de3ab80d77f27c5df65d9a2c1f5626/transformers-4.5.0-py3-none-any.whl (2.1MB)\n",
            "\r\u001b[K     |▏                               | 10kB 23.5MB/s eta 0:00:01\r\u001b[K     |▎                               | 20kB 29.2MB/s eta 0:00:01\r\u001b[K     |▌                               | 30kB 22.2MB/s eta 0:00:01\r\u001b[K     |▋                               | 40kB 25.3MB/s eta 0:00:01\r\u001b[K     |▊                               | 51kB 24.8MB/s eta 0:00:01\r\u001b[K     |█                               | 61kB 27.2MB/s eta 0:00:01\r\u001b[K     |█                               | 71kB 18.3MB/s eta 0:00:01\r\u001b[K     |█▏                              | 81kB 19.3MB/s eta 0:00:01\r\u001b[K     |█▍                              | 92kB 18.2MB/s eta 0:00:01\r\u001b[K     |█▌                              | 102kB 18.4MB/s eta 0:00:01\r\u001b[K     |█▊                              | 112kB 18.4MB/s eta 0:00:01\r\u001b[K     |█▉                              | 122kB 18.4MB/s eta 0:00:01\r\u001b[K     |██                              | 133kB 18.4MB/s eta 0:00:01\r\u001b[K     |██▏                             | 143kB 18.4MB/s eta 0:00:01\r\u001b[K     |██▎                             | 153kB 18.4MB/s eta 0:00:01\r\u001b[K     |██▍                             | 163kB 18.4MB/s eta 0:00:01\r\u001b[K     |██▋                             | 174kB 18.4MB/s eta 0:00:01\r\u001b[K     |██▊                             | 184kB 18.4MB/s eta 0:00:01\r\u001b[K     |███                             | 194kB 18.4MB/s eta 0:00:01\r\u001b[K     |███                             | 204kB 18.4MB/s eta 0:00:01\r\u001b[K     |███▏                            | 215kB 18.4MB/s eta 0:00:01\r\u001b[K     |███▍                            | 225kB 18.4MB/s eta 0:00:01\r\u001b[K     |███▌                            | 235kB 18.4MB/s eta 0:00:01\r\u001b[K     |███▋                            | 245kB 18.4MB/s eta 0:00:01\r\u001b[K     |███▉                            | 256kB 18.4MB/s eta 0:00:01\r\u001b[K     |████                            | 266kB 18.4MB/s eta 0:00:01\r\u001b[K     |████▏                           | 276kB 18.4MB/s eta 0:00:01\r\u001b[K     |████▎                           | 286kB 18.4MB/s eta 0:00:01\r\u001b[K     |████▍                           | 296kB 18.4MB/s eta 0:00:01\r\u001b[K     |████▋                           | 307kB 18.4MB/s eta 0:00:01\r\u001b[K     |████▊                           | 317kB 18.4MB/s eta 0:00:01\r\u001b[K     |████▉                           | 327kB 18.4MB/s eta 0:00:01\r\u001b[K     |█████                           | 337kB 18.4MB/s eta 0:00:01\r\u001b[K     |█████▏                          | 348kB 18.4MB/s eta 0:00:01\r\u001b[K     |█████▍                          | 358kB 18.4MB/s eta 0:00:01\r\u001b[K     |█████▌                          | 368kB 18.4MB/s eta 0:00:01\r\u001b[K     |█████▋                          | 378kB 18.4MB/s eta 0:00:01\r\u001b[K     |█████▉                          | 389kB 18.4MB/s eta 0:00:01\r\u001b[K     |██████                          | 399kB 18.4MB/s eta 0:00:01\r\u001b[K     |██████                          | 409kB 18.4MB/s eta 0:00:01\r\u001b[K     |██████▎                         | 419kB 18.4MB/s eta 0:00:01\r\u001b[K     |██████▍                         | 430kB 18.4MB/s eta 0:00:01\r\u001b[K     |██████▋                         | 440kB 18.4MB/s eta 0:00:01\r\u001b[K     |██████▊                         | 450kB 18.4MB/s eta 0:00:01\r\u001b[K     |██████▉                         | 460kB 18.4MB/s eta 0:00:01\r\u001b[K     |███████                         | 471kB 18.4MB/s eta 0:00:01\r\u001b[K     |███████▏                        | 481kB 18.4MB/s eta 0:00:01\r\u001b[K     |███████▎                        | 491kB 18.4MB/s eta 0:00:01\r\u001b[K     |███████▌                        | 501kB 18.4MB/s eta 0:00:01\r\u001b[K     |███████▋                        | 512kB 18.4MB/s eta 0:00:01\r\u001b[K     |███████▉                        | 522kB 18.4MB/s eta 0:00:01\r\u001b[K     |████████                        | 532kB 18.4MB/s eta 0:00:01\r\u001b[K     |████████                        | 542kB 18.4MB/s eta 0:00:01\r\u001b[K     |████████▎                       | 552kB 18.4MB/s eta 0:00:01\r\u001b[K     |████████▍                       | 563kB 18.4MB/s eta 0:00:01\r\u001b[K     |████████▌                       | 573kB 18.4MB/s eta 0:00:01\r\u001b[K     |████████▊                       | 583kB 18.4MB/s eta 0:00:01\r\u001b[K     |████████▉                       | 593kB 18.4MB/s eta 0:00:01\r\u001b[K     |█████████                       | 604kB 18.4MB/s eta 0:00:01\r\u001b[K     |█████████▏                      | 614kB 18.4MB/s eta 0:00:01\r\u001b[K     |█████████▎                      | 624kB 18.4MB/s eta 0:00:01\r\u001b[K     |█████████▌                      | 634kB 18.4MB/s eta 0:00:01\r\u001b[K     |█████████▋                      | 645kB 18.4MB/s eta 0:00:01\r\u001b[K     |█████████▊                      | 655kB 18.4MB/s eta 0:00:01\r\u001b[K     |██████████                      | 665kB 18.4MB/s eta 0:00:01\r\u001b[K     |██████████                      | 675kB 18.4MB/s eta 0:00:01\r\u001b[K     |██████████▎                     | 686kB 18.4MB/s eta 0:00:01\r\u001b[K     |██████████▍                     | 696kB 18.4MB/s eta 0:00:01\r\u001b[K     |██████████▌                     | 706kB 18.4MB/s eta 0:00:01\r\u001b[K     |██████████▊                     | 716kB 18.4MB/s eta 0:00:01\r\u001b[K     |██████████▉                     | 727kB 18.4MB/s eta 0:00:01\r\u001b[K     |███████████                     | 737kB 18.4MB/s eta 0:00:01\r\u001b[K     |███████████▏                    | 747kB 18.4MB/s eta 0:00:01\r\u001b[K     |███████████▎                    | 757kB 18.4MB/s eta 0:00:01\r\u001b[K     |███████████▌                    | 768kB 18.4MB/s eta 0:00:01\r\u001b[K     |███████████▋                    | 778kB 18.4MB/s eta 0:00:01\r\u001b[K     |███████████▊                    | 788kB 18.4MB/s eta 0:00:01\r\u001b[K     |████████████                    | 798kB 18.4MB/s eta 0:00:01\r\u001b[K     |████████████                    | 808kB 18.4MB/s eta 0:00:01\r\u001b[K     |████████████▏                   | 819kB 18.4MB/s eta 0:00:01\r\u001b[K     |████████████▍                   | 829kB 18.4MB/s eta 0:00:01\r\u001b[K     |████████████▌                   | 839kB 18.4MB/s eta 0:00:01\r\u001b[K     |████████████▊                   | 849kB 18.4MB/s eta 0:00:01\r\u001b[K     |████████████▉                   | 860kB 18.4MB/s eta 0:00:01\r\u001b[K     |█████████████                   | 870kB 18.4MB/s eta 0:00:01\r\u001b[K     |█████████████▏                  | 880kB 18.4MB/s eta 0:00:01\r\u001b[K     |█████████████▎                  | 890kB 18.4MB/s eta 0:00:01\r\u001b[K     |█████████████▍                  | 901kB 18.4MB/s eta 0:00:01\r\u001b[K     |█████████████▋                  | 911kB 18.4MB/s eta 0:00:01\r\u001b[K     |█████████████▊                  | 921kB 18.4MB/s eta 0:00:01\r\u001b[K     |██████████████                  | 931kB 18.4MB/s eta 0:00:01\r\u001b[K     |██████████████                  | 942kB 18.4MB/s eta 0:00:01\r\u001b[K     |██████████████▏                 | 952kB 18.4MB/s eta 0:00:01\r\u001b[K     |██████████████▍                 | 962kB 18.4MB/s eta 0:00:01\r\u001b[K     |██████████████▌                 | 972kB 18.4MB/s eta 0:00:01\r\u001b[K     |██████████████▋                 | 983kB 18.4MB/s eta 0:00:01\r\u001b[K     |██████████████▉                 | 993kB 18.4MB/s eta 0:00:01\r\u001b[K     |███████████████                 | 1.0MB 18.4MB/s eta 0:00:01\r\u001b[K     |███████████████▏                | 1.0MB 18.4MB/s eta 0:00:01\r\u001b[K     |███████████████▎                | 1.0MB 18.4MB/s eta 0:00:01\r\u001b[K     |███████████████▍                | 1.0MB 18.4MB/s eta 0:00:01\r\u001b[K     |███████████████▋                | 1.0MB 18.4MB/s eta 0:00:01\r\u001b[K     |███████████████▊                | 1.1MB 18.4MB/s eta 0:00:01\r\u001b[K     |███████████████▉                | 1.1MB 18.4MB/s eta 0:00:01\r\u001b[K     |████████████████                | 1.1MB 18.4MB/s eta 0:00:01\r\u001b[K     |████████████████▏               | 1.1MB 18.4MB/s eta 0:00:01\r\u001b[K     |████████████████▍               | 1.1MB 18.4MB/s eta 0:00:01\r\u001b[K     |████████████████▌               | 1.1MB 18.4MB/s eta 0:00:01\r\u001b[K     |████████████████▋               | 1.1MB 18.4MB/s eta 0:00:01\r\u001b[K     |████████████████▉               | 1.1MB 18.4MB/s eta 0:00:01\r\u001b[K     |█████████████████               | 1.1MB 18.4MB/s eta 0:00:01\r\u001b[K     |█████████████████               | 1.1MB 18.4MB/s eta 0:00:01\r\u001b[K     |█████████████████▎              | 1.2MB 18.4MB/s eta 0:00:01\r\u001b[K     |█████████████████▍              | 1.2MB 18.4MB/s eta 0:00:01\r\u001b[K     |█████████████████▌              | 1.2MB 18.4MB/s eta 0:00:01\r\u001b[K     |█████████████████▊              | 1.2MB 18.4MB/s eta 0:00:01\r\u001b[K     |█████████████████▉              | 1.2MB 18.4MB/s eta 0:00:01\r\u001b[K     |██████████████████              | 1.2MB 18.4MB/s eta 0:00:01\r\u001b[K     |██████████████████▏             | 1.2MB 18.4MB/s eta 0:00:01\r\u001b[K     |██████████████████▎             | 1.2MB 18.4MB/s eta 0:00:01\r\u001b[K     |██████████████████▌             | 1.2MB 18.4MB/s eta 0:00:01\r\u001b[K     |██████████████████▋             | 1.2MB 18.4MB/s eta 0:00:01\r\u001b[K     |██████████████████▊             | 1.3MB 18.4MB/s eta 0:00:01\r\u001b[K     |███████████████████             | 1.3MB 18.4MB/s eta 0:00:01\r\u001b[K     |███████████████████             | 1.3MB 18.4MB/s eta 0:00:01\r\u001b[K     |███████████████████▎            | 1.3MB 18.4MB/s eta 0:00:01\r\u001b[K     |███████████████████▍            | 1.3MB 18.4MB/s eta 0:00:01\r\u001b[K     |███████████████████▌            | 1.3MB 18.4MB/s eta 0:00:01\r\u001b[K     |███████████████████▊            | 1.3MB 18.4MB/s eta 0:00:01\r\u001b[K     |███████████████████▉            | 1.3MB 18.4MB/s eta 0:00:01\r\u001b[K     |████████████████████            | 1.3MB 18.4MB/s eta 0:00:01\r\u001b[K     |████████████████████▏           | 1.4MB 18.4MB/s eta 0:00:01\r\u001b[K     |████████████████████▎           | 1.4MB 18.4MB/s eta 0:00:01\r\u001b[K     |████████████████████▌           | 1.4MB 18.4MB/s eta 0:00:01\r\u001b[K     |████████████████████▋           | 1.4MB 18.4MB/s eta 0:00:01\r\u001b[K     |████████████████████▊           | 1.4MB 18.4MB/s eta 0:00:01\r\u001b[K     |█████████████████████           | 1.4MB 18.4MB/s eta 0:00:01\r\u001b[K     |█████████████████████           | 1.4MB 18.4MB/s eta 0:00:01\r\u001b[K     |█████████████████████▏          | 1.4MB 18.4MB/s eta 0:00:01\r\u001b[K     |█████████████████████▍          | 1.4MB 18.4MB/s eta 0:00:01\r\u001b[K     |█████████████████████▌          | 1.4MB 18.4MB/s eta 0:00:01\r\u001b[K     |█████████████████████▊          | 1.5MB 18.4MB/s eta 0:00:01\r\u001b[K     |█████████████████████▉          | 1.5MB 18.4MB/s eta 0:00:01\r\u001b[K     |██████████████████████          | 1.5MB 18.4MB/s eta 0:00:01\r\u001b[K     |██████████████████████▏         | 1.5MB 18.4MB/s eta 0:00:01\r\u001b[K     |██████████████████████▎         | 1.5MB 18.4MB/s eta 0:00:01\r\u001b[K     |██████████████████████▍         | 1.5MB 18.4MB/s eta 0:00:01\r\u001b[K     |██████████████████████▋         | 1.5MB 18.4MB/s eta 0:00:01\r\u001b[K     |██████████████████████▊         | 1.5MB 18.4MB/s eta 0:00:01\r\u001b[K     |███████████████████████         | 1.5MB 18.4MB/s eta 0:00:01\r\u001b[K     |███████████████████████         | 1.5MB 18.4MB/s eta 0:00:01\r\u001b[K     |███████████████████████▏        | 1.6MB 18.4MB/s eta 0:00:01\r\u001b[K     |███████████████████████▍        | 1.6MB 18.4MB/s eta 0:00:01\r\u001b[K     |███████████████████████▌        | 1.6MB 18.4MB/s eta 0:00:01\r\u001b[K     |███████████████████████▋        | 1.6MB 18.4MB/s eta 0:00:01\r\u001b[K     |███████████████████████▉        | 1.6MB 18.4MB/s eta 0:00:01\r\u001b[K     |████████████████████████        | 1.6MB 18.4MB/s eta 0:00:01\r\u001b[K     |████████████████████████▏       | 1.6MB 18.4MB/s eta 0:00:01\r\u001b[K     |████████████████████████▎       | 1.6MB 18.4MB/s eta 0:00:01\r\u001b[K     |████████████████████████▍       | 1.6MB 18.4MB/s eta 0:00:01\r\u001b[K     |████████████████████████▋       | 1.6MB 18.4MB/s eta 0:00:01\r\u001b[K     |████████████████████████▊       | 1.7MB 18.4MB/s eta 0:00:01\r\u001b[K     |████████████████████████▉       | 1.7MB 18.4MB/s eta 0:00:01\r\u001b[K     |█████████████████████████       | 1.7MB 18.4MB/s eta 0:00:01\r\u001b[K     |█████████████████████████▏      | 1.7MB 18.4MB/s eta 0:00:01\r\u001b[K     |█████████████████████████▍      | 1.7MB 18.4MB/s eta 0:00:01\r\u001b[K     |█████████████████████████▌      | 1.7MB 18.4MB/s eta 0:00:01\r\u001b[K     |█████████████████████████▋      | 1.7MB 18.4MB/s eta 0:00:01\r\u001b[K     |█████████████████████████▉      | 1.7MB 18.4MB/s eta 0:00:01\r\u001b[K     |██████████████████████████      | 1.7MB 18.4MB/s eta 0:00:01\r\u001b[K     |██████████████████████████      | 1.8MB 18.4MB/s eta 0:00:01\r\u001b[K     |██████████████████████████▎     | 1.8MB 18.4MB/s eta 0:00:01\r\u001b[K     |██████████████████████████▍     | 1.8MB 18.4MB/s eta 0:00:01\r\u001b[K     |██████████████████████████▋     | 1.8MB 18.4MB/s eta 0:00:01\r\u001b[K     |██████████████████████████▊     | 1.8MB 18.4MB/s eta 0:00:01\r\u001b[K     |██████████████████████████▉     | 1.8MB 18.4MB/s eta 0:00:01\r\u001b[K     |███████████████████████████     | 1.8MB 18.4MB/s eta 0:00:01\r\u001b[K     |███████████████████████████▏    | 1.8MB 18.4MB/s eta 0:00:01\r\u001b[K     |███████████████████████████▎    | 1.8MB 18.4MB/s eta 0:00:01\r\u001b[K     |███████████████████████████▌    | 1.8MB 18.4MB/s eta 0:00:01\r\u001b[K     |███████████████████████████▋    | 1.9MB 18.4MB/s eta 0:00:01\r\u001b[K     |███████████████████████████▉    | 1.9MB 18.4MB/s eta 0:00:01\r\u001b[K     |████████████████████████████    | 1.9MB 18.4MB/s eta 0:00:01\r\u001b[K     |████████████████████████████    | 1.9MB 18.4MB/s eta 0:00:01\r\u001b[K     |████████████████████████████▎   | 1.9MB 18.4MB/s eta 0:00:01\r\u001b[K     |████████████████████████████▍   | 1.9MB 18.4MB/s eta 0:00:01\r\u001b[K     |████████████████████████████▌   | 1.9MB 18.4MB/s eta 0:00:01\r\u001b[K     |████████████████████████████▊   | 1.9MB 18.4MB/s eta 0:00:01\r\u001b[K     |████████████████████████████▉   | 1.9MB 18.4MB/s eta 0:00:01\r\u001b[K     |█████████████████████████████   | 1.9MB 18.4MB/s eta 0:00:01\r\u001b[K     |█████████████████████████████▏  | 2.0MB 18.4MB/s eta 0:00:01\r\u001b[K     |█████████████████████████████▎  | 2.0MB 18.4MB/s eta 0:00:01\r\u001b[K     |█████████████████████████████▌  | 2.0MB 18.4MB/s eta 0:00:01\r\u001b[K     |█████████████████████████████▋  | 2.0MB 18.4MB/s eta 0:00:01\r\u001b[K     |█████████████████████████████▊  | 2.0MB 18.4MB/s eta 0:00:01\r\u001b[K     |██████████████████████████████  | 2.0MB 18.4MB/s eta 0:00:01\r\u001b[K     |██████████████████████████████  | 2.0MB 18.4MB/s eta 0:00:01\r\u001b[K     |██████████████████████████████▎ | 2.0MB 18.4MB/s eta 0:00:01\r\u001b[K     |██████████████████████████████▍ | 2.0MB 18.4MB/s eta 0:00:01\r\u001b[K     |██████████████████████████████▌ | 2.0MB 18.4MB/s eta 0:00:01\r\u001b[K     |██████████████████████████████▊ | 2.1MB 18.4MB/s eta 0:00:01\r\u001b[K     |██████████████████████████████▉ | 2.1MB 18.4MB/s eta 0:00:01\r\u001b[K     |███████████████████████████████ | 2.1MB 18.4MB/s eta 0:00:01\r\u001b[K     |███████████████████████████████▏| 2.1MB 18.4MB/s eta 0:00:01\r\u001b[K     |███████████████████████████████▎| 2.1MB 18.4MB/s eta 0:00:01\r\u001b[K     |███████████████████████████████▌| 2.1MB 18.4MB/s eta 0:00:01\r\u001b[K     |███████████████████████████████▋| 2.1MB 18.4MB/s eta 0:00:01\r\u001b[K     |███████████████████████████████▊| 2.1MB 18.4MB/s eta 0:00:01\r\u001b[K     |████████████████████████████████| 2.1MB 18.4MB/s eta 0:00:01\r\u001b[K     |████████████████████████████████| 2.2MB 18.4MB/s \n",
            "\u001b[?25hRequirement already satisfied: packaging in /usr/local/lib/python3.7/dist-packages (from transformers) (20.9)\n",
            "Requirement already satisfied: filelock in /usr/local/lib/python3.7/dist-packages (from transformers) (3.0.12)\n",
            "Requirement already satisfied: requests in /usr/local/lib/python3.7/dist-packages (from transformers) (2.23.0)\n",
            "Requirement already satisfied: regex!=2019.12.17 in /usr/local/lib/python3.7/dist-packages (from transformers) (2019.12.20)\n",
            "Collecting tokenizers<0.11,>=0.10.1\n",
            "\u001b[?25l  Downloading https://files.pythonhosted.org/packages/ae/04/5b870f26a858552025a62f1649c20d29d2672c02ff3c3fb4c688ca46467a/tokenizers-0.10.2-cp37-cp37m-manylinux2010_x86_64.whl (3.3MB)\n",
            "\u001b[K     |████████████████████████████████| 3.3MB 56.6MB/s \n",
            "\u001b[?25hCollecting sacremoses\n",
            "\u001b[?25l  Downloading https://files.pythonhosted.org/packages/08/cd/342e584ee544d044fb573ae697404ce22ede086c9e87ce5960772084cad0/sacremoses-0.0.44.tar.gz (862kB)\n",
            "\u001b[K     |████████████████████████████████| 870kB 56.5MB/s \n",
            "\u001b[?25hRequirement already satisfied: tqdm>=4.27 in /usr/local/lib/python3.7/dist-packages (from transformers) (4.41.1)\n",
            "Requirement already satisfied: numpy>=1.17 in /usr/local/lib/python3.7/dist-packages (from transformers) (1.19.5)\n",
            "Requirement already satisfied: importlib-metadata; python_version < \"3.8\" in /usr/local/lib/python3.7/dist-packages (from transformers) (3.8.1)\n",
            "Requirement already satisfied: pyparsing>=2.0.2 in /usr/local/lib/python3.7/dist-packages (from packaging->transformers) (2.4.7)\n",
            "Requirement already satisfied: certifi>=2017.4.17 in /usr/local/lib/python3.7/dist-packages (from requests->transformers) (2020.12.5)\n",
            "Requirement already satisfied: idna<3,>=2.5 in /usr/local/lib/python3.7/dist-packages (from requests->transformers) (2.10)\n",
            "Requirement already satisfied: chardet<4,>=3.0.2 in /usr/local/lib/python3.7/dist-packages (from requests->transformers) (3.0.4)\n",
            "Requirement already satisfied: urllib3!=1.25.0,!=1.25.1,<1.26,>=1.21.1 in /usr/local/lib/python3.7/dist-packages (from requests->transformers) (1.24.3)\n",
            "Requirement already satisfied: six in /usr/local/lib/python3.7/dist-packages (from sacremoses->transformers) (1.15.0)\n",
            "Requirement already satisfied: click in /usr/local/lib/python3.7/dist-packages (from sacremoses->transformers) (7.1.2)\n",
            "Requirement already satisfied: joblib in /usr/local/lib/python3.7/dist-packages (from sacremoses->transformers) (1.0.1)\n",
            "Requirement already satisfied: zipp>=0.5 in /usr/local/lib/python3.7/dist-packages (from importlib-metadata; python_version < \"3.8\"->transformers) (3.4.1)\n",
            "Requirement already satisfied: typing-extensions>=3.6.4; python_version < \"3.8\" in /usr/local/lib/python3.7/dist-packages (from importlib-metadata; python_version < \"3.8\"->transformers) (3.7.4.3)\n",
            "Building wheels for collected packages: sacremoses\n",
            "  Building wheel for sacremoses (setup.py) ... \u001b[?25l\u001b[?25hdone\n",
            "  Created wheel for sacremoses: filename=sacremoses-0.0.44-cp37-none-any.whl size=886084 sha256=ef327e7c0927b5c41d9d111928d1e7e2e881bded1998e85428e12db64456c1c8\n",
            "  Stored in directory: /root/.cache/pip/wheels/3e/fb/c0/13ab4d63d537658f448366744654323077c4d90069b6512f3c\n",
            "Successfully built sacremoses\n",
            "Installing collected packages: tokenizers, sacremoses, transformers\n",
            "Successfully installed sacremoses-0.0.44 tokenizers-0.10.2 transformers-4.5.0\n"
          ],
          "name": "stdout"
        }
      ]
    },
    {
      "cell_type": "markdown",
      "metadata": {
        "id": "CCgw3_t3E49T"
      },
      "source": [
        "## Import Libraries"
      ]
    },
    {
      "cell_type": "code",
      "metadata": {
        "id": "DNkOQHHmE8KW"
      },
      "source": [
        "import pandas as pd\n",
        "\n",
        "import matplotlib.pyplot as plt\n",
        "import seaborn as sns\n",
        "from torchtext.legacy.data import Field, TabularDataset, BucketIterator, Iterator\n",
        "from sklearn.metrics import accuracy_score, classification_report, confusion_matrix\n",
        "import torch.nn as nn\n",
        "import time\n",
        "import math"
      ],
      "execution_count": 4,
      "outputs": []
    },
    {
      "cell_type": "markdown",
      "metadata": {
        "id": "TBUWTU3DEnBs"
      },
      "source": [
        "## Load Dataset"
      ]
    },
    {
      "cell_type": "code",
      "metadata": {
        "colab": {
          "base_uri": "https://localhost:8080/",
          "height": 380
        },
        "id": "b3o2QH3KEokg",
        "outputId": "1e0c88a9-5e94-4c2f-f730-3e6b7c6bdec7"
      },
      "source": [
        "df = pd.read_csv(\"/content/drive/MyDrive/BERT/FakeNews_Classification/news.csv\")\n",
        "\n",
        "# Report the number of sentences.\n",
        "print('Number of training sentences: {:,}\\n'.format(df.shape[0]))\n",
        "\n",
        "# Display 10 random rows from the data.\n",
        "df.sample(10)"
      ],
      "execution_count": 5,
      "outputs": [
        {
          "output_type": "stream",
          "text": [
            "Number of training sentences: 6,335\n",
            "\n"
          ],
          "name": "stdout"
        },
        {
          "output_type": "execute_result",
          "data": {
            "text/html": [
              "<div>\n",
              "<style scoped>\n",
              "    .dataframe tbody tr th:only-of-type {\n",
              "        vertical-align: middle;\n",
              "    }\n",
              "\n",
              "    .dataframe tbody tr th {\n",
              "        vertical-align: top;\n",
              "    }\n",
              "\n",
              "    .dataframe thead th {\n",
              "        text-align: right;\n",
              "    }\n",
              "</style>\n",
              "<table border=\"1\" class=\"dataframe\">\n",
              "  <thead>\n",
              "    <tr style=\"text-align: right;\">\n",
              "      <th></th>\n",
              "      <th>Unnamed: 0</th>\n",
              "      <th>title</th>\n",
              "      <th>text</th>\n",
              "      <th>label</th>\n",
              "    </tr>\n",
              "  </thead>\n",
              "  <tbody>\n",
              "    <tr>\n",
              "      <th>2971</th>\n",
              "      <td>4473</td>\n",
              "      <td>Republicans Target Senate Democrats Over Menen...</td>\n",
              "      <td>Republicans are making clear they will do what...</td>\n",
              "      <td>REAL</td>\n",
              "    </tr>\n",
              "    <tr>\n",
              "      <th>6110</th>\n",
              "      <td>7188</td>\n",
              "      <td>BREAKING : Sources Inside the FBI Say Hillary ...</td>\n",
              "      <td>BREAKING : Sources Inside the FBI Say Hillary ...</td>\n",
              "      <td>FAKE</td>\n",
              "    </tr>\n",
              "    <tr>\n",
              "      <th>3036</th>\n",
              "      <td>4900</td>\n",
              "      <td>Why did Mexico invite Donald Trump for a visit...</td>\n",
              "      <td>President Enrique Peña Nieto has invited both ...</td>\n",
              "      <td>REAL</td>\n",
              "    </tr>\n",
              "    <tr>\n",
              "      <th>2431</th>\n",
              "      <td>637</td>\n",
              "      <td>Elizabeth Warren declares herself ready to be ...</td>\n",
              "      <td>Senator Elizabeth Warren has declared herself ...</td>\n",
              "      <td>REAL</td>\n",
              "    </tr>\n",
              "    <tr>\n",
              "      <th>90</th>\n",
              "      <td>1661</td>\n",
              "      <td>Exclusive: GOP campaigns plot revolt against RNC</td>\n",
              "      <td>Killing Obama administration rules, dismantlin...</td>\n",
              "      <td>REAL</td>\n",
              "    </tr>\n",
              "    <tr>\n",
              "      <th>496</th>\n",
              "      <td>8696</td>\n",
              "      <td>Unprecedented Surge In Election Fraud Incident...</td>\n",
              "      <td>Unprecedented Surge In Election Fraud Incident...</td>\n",
              "      <td>FAKE</td>\n",
              "    </tr>\n",
              "    <tr>\n",
              "      <th>3074</th>\n",
              "      <td>3689</td>\n",
              "      <td>Ore. Gunman Asked Victims If They Were Christians</td>\n",
              "      <td>Witnesses are saying the gunman in Thursday's ...</td>\n",
              "      <td>REAL</td>\n",
              "    </tr>\n",
              "    <tr>\n",
              "      <th>3815</th>\n",
              "      <td>6363</td>\n",
              "      <td>Canada and EU sign ‘thoroughly undemocratic’ C...</td>\n",
              "      <td>Canada and EU sign ‘thoroughly undemocratic’ C...</td>\n",
              "      <td>FAKE</td>\n",
              "    </tr>\n",
              "    <tr>\n",
              "      <th>3107</th>\n",
              "      <td>7208</td>\n",
              "      <td>Bill Clinton Inc: Billions for the Foundation,...</td>\n",
              "      <td>Bill Clinton Inc: Billions for the Foundation,...</td>\n",
              "      <td>FAKE</td>\n",
              "    </tr>\n",
              "    <tr>\n",
              "      <th>5434</th>\n",
              "      <td>8793</td>\n",
              "      <td>The Destruction of Reason in West</td>\n",
              "      <td>Dublin, Ireland.\\nThe West is feeling more and...</td>\n",
              "      <td>FAKE</td>\n",
              "    </tr>\n",
              "  </tbody>\n",
              "</table>\n",
              "</div>"
            ],
            "text/plain": [
              "      Unnamed: 0  ... label\n",
              "2971        4473  ...  REAL\n",
              "6110        7188  ...  FAKE\n",
              "3036        4900  ...  REAL\n",
              "2431         637  ...  REAL\n",
              "90          1661  ...  REAL\n",
              "496         8696  ...  FAKE\n",
              "3074        3689  ...  REAL\n",
              "3815        6363  ...  FAKE\n",
              "3107        7208  ...  FAKE\n",
              "5434        8793  ...  FAKE\n",
              "\n",
              "[10 rows x 4 columns]"
            ]
          },
          "metadata": {
            "tags": []
          },
          "execution_count": 5
        }
      ]
    },
    {
      "cell_type": "code",
      "metadata": {
        "colab": {
          "base_uri": "https://localhost:8080/"
        },
        "id": "60G_nJDWExPB",
        "outputId": "d1040246-fb3e-4f01-c0d1-cc0934a1ea0c"
      },
      "source": [
        "# check class distribution\n",
        "df['label'].value_counts(normalize = True)"
      ],
      "execution_count": 6,
      "outputs": [
        {
          "output_type": "execute_result",
          "data": {
            "text/plain": [
              "REAL    0.500552\n",
              "FAKE    0.499448\n",
              "Name: label, dtype: float64"
            ]
          },
          "metadata": {
            "tags": []
          },
          "execution_count": 6
        }
      ]
    },
    {
      "cell_type": "code",
      "metadata": {
        "id": "YCsfpx3p4Ovu"
      },
      "source": [
        "df = df.drop(['Unnamed: 0'], axis=1)\n",
        "encode_label = {'FAKE' : 0, 'REAL' : 1}\n",
        "\n",
        "# Discard items with less than 5 words in text.\n",
        "df = df[df.text.str.len() >= 5]\n",
        "\n",
        "df['label'] = df['label'].map(encode_label)\n",
        "df['titletext'] = df['title'] + \". \" + df['text']"
      ],
      "execution_count": 7,
      "outputs": []
    },
    {
      "cell_type": "code",
      "metadata": {
        "colab": {
          "base_uri": "https://localhost:8080/",
          "height": 572
        },
        "id": "-r6ApTayHhmO",
        "outputId": "ee0b7abc-8eea-48a2-ce96-1b0ee89624a8"
      },
      "source": [
        "\n",
        "# Plot histogram with the length. Truncate max length to 5000 tokens.\n",
        "plt.style.use(\"ggplot\")\n",
        "\n",
        "plt.figure(figsize=(10, 8))\n",
        "df['length'] = (df['titletext']).apply(lambda x: len(x.split()))\n",
        "sns.distplot(df[df['length'] < 5000]['length'])\n",
        "plt.title('Frequence of documents of a given length', fontsize=14)\n",
        "plt.xlabel('length', fontsize=14)\n",
        "None"
      ],
      "execution_count": 8,
      "outputs": [
        {
          "output_type": "stream",
          "text": [
            "/usr/local/lib/python3.7/dist-packages/seaborn/distributions.py:2557: FutureWarning: `distplot` is a deprecated function and will be removed in a future version. Please adapt your code to use either `displot` (a figure-level function with similar flexibility) or `histplot` (an axes-level function for histograms).\n",
            "  warnings.warn(msg, FutureWarning)\n"
          ],
          "name": "stderr"
        },
        {
          "output_type": "display_data",
          "data": {
            "image/png": "[encoded data removed]",
            "text/plain": [
              "<Figure size 720x576 with 1 Axes>"
            ]
          },
          "metadata": {
            "tags": []
          }
        }
      ]
    },
    {
      "cell_type": "code",
      "metadata": {
        "id": "y41w3Bpz4_ss"
      },
      "source": [
        "df['titletext'] = df['titletext'].apply(lambda x: \" \".join(x.split()[:512]))\n",
        "df.to_csv(f\"/content/prep_news.csv\")\n"
      ],
      "execution_count": 9,
      "outputs": []
    },
    {
      "cell_type": "markdown",
      "metadata": {
        "id": "LvVOEDF3GbZv"
      },
      "source": [
        "## Tokenization & Input Formatting\n",
        "In this  we'll transform our dataset into the format that BERT can be trained on.\n",
        "\n",
        "To feed our text to BERT, it must be split into tokens, and then these tokens must be mapped to their index in the tokenizer vocabulary.\n",
        "\n",
        "The tokenization must be performed by the tokenizer included with BERT--the below cell will download this for us. We'll be using the \"uncased\" version here."
      ]
    },
    {
      "cell_type": "code",
      "metadata": {
        "colab": {
          "base_uri": "https://localhost:8080/",
          "height": 181,
          "referenced_widgets": [
            "49fa7f4d1e104e19b56c71962547b4f9",
            "f95be8d8a4014a9590dab9c650f1801b",
            "19db7b8b87ba488ca68a9d6e3070dbbb",
            "e854e74e9fb14b99918986a3355b2117",
            "e77ce47caa4044de92269fb32496f5fe",
            "df057082e21e4b58b691b0dfcade20f1",
            "104ea147999248608c7f22251e8d2e2a",
            "edd432fa500b4837ac749ae18d0d6534",
            "8a2d496605a9412c81f7c37373da0d7c",
            "777fb461b0474fd0ba924b5609bf2177",
            "3f05574c23f94e048676ae5a840f8d77",
            "5bf37a1f0aa44ffe9593675d1be0643c",
            "eafd2f76adfc4607abb05a52c75137e4",
            "b048b3bbd1954078b6837d8ffd337209",
            "91d9d15aa2f44112bf10120cbcaca898",
            "3273e4baa0b4447d96adf698f32d5a59",
            "ccd3103b11844e22824c732f7d205f44",
            "b45eed84050748e58d533732259c87ce",
            "9ab3e5a44f564c1c9832c33ab99c5e2e",
            "881a8f53d7fe469c85caee24138caed3",
            "821c33cabb9b4aee9b9d0974fd395a84",
            "f1edc739f9444ba49c77066e32a0df66",
            "662119541bf948cca181e23ecb0a0b18",
            "9e66a51531894755bae6356bac620a80"
          ]
        },
        "id": "tTsag5anF4d_",
        "outputId": "881ddb1d-e2f9-426a-b743-f7ed8c6ca7a3"
      },
      "source": [
        "from transformers import BertTokenizer,AutoModel, AdamW, get_linear_schedule_with_warmup\n",
        "\n",
        "# Load the BERT tokenizer.\n",
        "print('Loading BERT tokenizer...')\n",
        "tokenizer = BertTokenizer.from_pretrained('bert-base-uncased', do_lower_case=True)"
      ],
      "execution_count": 10,
      "outputs": [
        {
          "output_type": "stream",
          "text": [
            "Loading BERT tokenizer...\n"
          ],
          "name": "stdout"
        },
        {
          "output_type": "display_data",
          "data": {
            "application/vnd.jupyter.widget-view+json": {
              "model_id": "49fa7f4d1e104e19b56c71962547b4f9",
              "version_minor": 0,
              "version_major": 2
            },
            "text/plain": [
              "HBox(children=(FloatProgress(value=0.0, description='Downloading', max=231508.0, style=ProgressStyle(descripti…"
            ]
          },
          "metadata": {
            "tags": []
          }
        },
        {
          "output_type": "stream",
          "text": [
            "\n"
          ],
          "name": "stdout"
        },
        {
          "output_type": "display_data",
          "data": {
            "application/vnd.jupyter.widget-view+json": {
              "model_id": "8a2d496605a9412c81f7c37373da0d7c",
              "version_minor": 0,
              "version_major": 2
            },
            "text/plain": [
              "HBox(children=(FloatProgress(value=0.0, description='Downloading', max=28.0, style=ProgressStyle(description_w…"
            ]
          },
          "metadata": {
            "tags": []
          }
        },
        {
          "output_type": "stream",
          "text": [
            "\n"
          ],
          "name": "stdout"
        },
        {
          "output_type": "display_data",
          "data": {
            "application/vnd.jupyter.widget-view+json": {
              "model_id": "ccd3103b11844e22824c732f7d205f44",
              "version_minor": 0,
              "version_major": 2
            },
            "text/plain": [
              "HBox(children=(FloatProgress(value=0.0, description='Downloading', max=466062.0, style=ProgressStyle(descripti…"
            ]
          },
          "metadata": {
            "tags": []
          }
        },
        {
          "output_type": "stream",
          "text": [
            "\n"
          ],
          "name": "stdout"
        }
      ]
    },
    {
      "cell_type": "markdown",
      "metadata": {
        "id": "d5fkeC7yGqKr"
      },
      "source": [
        "Let's apply the tokenizer to one sentence just to see the output."
      ]
    },
    {
      "cell_type": "code",
      "metadata": {
        "colab": {
          "base_uri": "https://localhost:8080/"
        },
        "id": "2McpBDTdGimN",
        "outputId": "8f26bf27-0bcc-4012-e40b-457004732b30"
      },
      "source": [
        "# Print the original sentence.\n",
        "print(' Original: ', df['titletext'][0])\n",
        "\n",
        "# Print the sentence split into tokens.\n",
        "print('Tokenized: ', tokenizer.tokenize(df['titletext'][0]))\n",
        "\n",
        "# Print the sentence mapped to token ids.\n",
        "print('Token IDs: ', tokenizer.convert_tokens_to_ids(tokenizer.tokenize(df['titletext'][0])))"
      ],
      "execution_count": 11,
      "outputs": [
        {
          "output_type": "stream",
          "text": [
            " Original:  You Can Smell Hillary’s Fear. Daniel Greenfield, a Shillman Journalism Fellow at the Freedom Center, is a New York writer focusing on radical Islam. In the final stretch of the election, Hillary Rodham Clinton has gone to war with the FBI. The word “unprecedented” has been thrown around so often this election that it ought to be retired. But it’s still unprecedented for the nominee of a major political party to go war with the FBI. But that’s exactly what Hillary and her people have done. Coma patients just waking up now and watching an hour of CNN from their hospital beds would assume that FBI Director James Comey is Hillary’s opponent in this election. The FBI is under attack by everyone from Obama to CNN. Hillary’s people have circulated a letter attacking Comey. There are currently more media hit pieces lambasting him than targeting Trump. It wouldn’t be too surprising if the Clintons or their allies were to start running attack ads against the FBI. The FBI’s leadership is being warned that the entire left-wing establishment will form a lynch mob if they continue going after Hillary. And the FBI’s credibility is being attacked by the media and the Democrats to preemptively head off the results of the investigation of the Clinton Foundation and Hillary Clinton. The covert struggle between FBI agents and Obama’s DOJ people has gone explosively public. The New York Times has compared Comey to J. Edgar Hoover. Its bizarre headline, “James Comey Role Recalls Hoover’s FBI, Fairly or Not” practically admits up front that it’s spouting nonsense. The Boston Globe has published a column calling for Comey’s resignation. Not to be outdone, Time has an editorial claiming that the scandal is really an attack on all women. James Carville appeared on MSNBC to remind everyone that he was still alive and insane. He accused Comey of coordinating with House Republicans and the KGB. And you thought the “vast right wing conspiracy” was a stretch. Countless media stories charge Comey with violating procedure. Do you know what’s a procedural violation? Emailing classified information stored on your bathroom server. Senator Harry Reid has sent Comey a letter accusing him of violating the Hatch Act. The Hatch Act is a nice idea that has as much relevance in the age of Obama as the Tenth Amendment. But the cable news spectrum quickly filled with media hacks glancing at the Wikipedia article on the Hatch Act under the table while accusing the FBI director of one of the most awkward conspiracies against Hillary ever. If James Comey is really out to hurt Hillary, he picked one hell of a strange way to do it. Not too long ago Democrats were breathing a sigh of relief when he gave Hillary Clinton a pass in a prominent public statement. If he really were out to elect Trump by keeping the email scandal going, why did he trash the investigation? Was he on the payroll of House Republicans and the KGB back then and playing it coy or was it a sudden development where\n",
            "Tokenized:  ['you', 'can', 'smell', 'hillary', '’', 's', 'fear', '.', 'daniel', 'greenfield', ',', 'a', 'shi', '##ll', '##man', 'journalism', 'fellow', 'at', 'the', 'freedom', 'center', ',', 'is', 'a', 'new', 'york', 'writer', 'focusing', 'on', 'radical', 'islam', '.', 'in', 'the', 'final', 'stretch', 'of', 'the', 'election', ',', 'hillary', 'rod', '##ham', 'clinton', 'has', 'gone', 'to', 'war', 'with', 'the', 'fbi', '.', 'the', 'word', '“', 'unprecedented', '”', 'has', 'been', 'thrown', 'around', 'so', 'often', 'this', 'election', 'that', 'it', 'ought', 'to', 'be', 'retired', '.', 'but', 'it', '’', 's', 'still', 'unprecedented', 'for', 'the', 'nominee', 'of', 'a', 'major', 'political', 'party', 'to', 'go', 'war', 'with', 'the', 'fbi', '.', 'but', 'that', '’', 's', 'exactly', 'what', 'hillary', 'and', 'her', 'people', 'have', 'done', '.', 'coma', 'patients', 'just', 'waking', 'up', 'now', 'and', 'watching', 'an', 'hour', 'of', 'cnn', 'from', 'their', 'hospital', 'beds', 'would', 'assume', 'that', 'fbi', 'director', 'james', 'come', '##y', 'is', 'hillary', '’', 's', 'opponent', 'in', 'this', 'election', '.', 'the', 'fbi', 'is', 'under', 'attack', 'by', 'everyone', 'from', 'obama', 'to', 'cnn', '.', 'hillary', '’', 's', 'people', 'have', 'circulated', 'a', 'letter', 'attacking', 'come', '##y', '.', 'there', 'are', 'currently', 'more', 'media', 'hit', 'pieces', 'lamb', '##ast', '##ing', 'him', 'than', 'targeting', 'trump', '.', 'it', 'wouldn', '’', 't', 'be', 'too', 'surprising', 'if', 'the', 'clinton', '##s', 'or', 'their', 'allies', 'were', 'to', 'start', 'running', 'attack', 'ads', 'against', 'the', 'fbi', '.', 'the', 'fbi', '’', 's', 'leadership', 'is', 'being', 'warned', 'that', 'the', 'entire', 'left', '-', 'wing', 'establishment', 'will', 'form', 'a', 'lynch', 'mob', 'if', 'they', 'continue', 'going', 'after', 'hillary', '.', 'and', 'the', 'fbi', '’', 's', 'credibility', 'is', 'being', 'attacked', 'by', 'the', 'media', 'and', 'the', 'democrats', 'to', 'pre', '##em', '##ptive', '##ly', 'head', 'off', 'the', 'results', 'of', 'the', 'investigation', 'of', 'the', 'clinton', 'foundation', 'and', 'hillary', 'clinton', '.', 'the', 'covert', 'struggle', 'between', 'fbi', 'agents', 'and', 'obama', '’', 's', 'do', '##j', 'people', 'has', 'gone', 'explosive', '##ly', 'public', '.', 'the', 'new', 'york', 'times', 'has', 'compared', 'come', '##y', 'to', 'j', '.', 'edgar', 'hoover', '.', 'its', 'bizarre', 'headline', ',', '“', 'james', 'come', '##y', 'role', 'recalls', 'hoover', '’', 's', 'fbi', ',', 'fairly', 'or', 'not', '”', 'practically', 'admits', 'up', 'front', 'that', 'it', '’', 's', 'sp', '##out', '##ing', 'nonsense', '.', 'the', 'boston', 'globe', 'has', 'published', 'a', 'column', 'calling', 'for', 'come', '##y', '’', 's', 'resignation', '.', 'not', 'to', 'be', 'out', '##don', '##e', ',', 'time', 'has', 'an', 'editorial', 'claiming', 'that', 'the', 'scandal', 'is', 'really', 'an', 'attack', 'on', 'all', 'women', '.', 'james', 'car', '##ville', 'appeared', 'on', 'ms', '##nbc', 'to', 'remind', 'everyone', 'that', 'he', 'was', 'still', 'alive', 'and', 'insane', '.', 'he', 'accused', 'come', '##y', 'of', 'coordinating', 'with', 'house', 'republicans', 'and', 'the', 'kgb', '.', 'and', 'you', 'thought', 'the', '“', 'vast', 'right', 'wing', 'conspiracy', '”', 'was', 'a', 'stretch', '.', 'countless', 'media', 'stories', 'charge', 'come', '##y', 'with', 'violating', 'procedure', '.', 'do', 'you', 'know', 'what', '’', 's', 'a', 'procedural', 'violation', '?', 'email', '##ing', 'classified', 'information', 'stored', 'on', 'your', 'bathroom', 'server', '.', 'senator', 'harry', 'reid', 'has', 'sent', 'come', '##y', 'a', 'letter', 'accusing', 'him', 'of', 'violating', 'the', 'hatch', 'act', '.', 'the', 'hatch', 'act', 'is', 'a', 'nice', 'idea', 'that', 'has', 'as', 'much', 'relevance', 'in', 'the', 'age', 'of', 'obama', 'as', 'the', 'tenth', 'amendment', '.', 'but', 'the', 'cable', 'news', 'spectrum', 'quickly', 'filled', 'with', 'media', 'hack', '##s', 'glancing', 'at', 'the', 'wikipedia', 'article', 'on', 'the', 'hatch', 'act', 'under', 'the', 'table', 'while', 'accusing', 'the', 'fbi', 'director', 'of', 'one', 'of', 'the', 'most', 'awkward', 'con', '##sp', '##ira', '##cies', 'against', 'hillary', 'ever', '.', 'if', 'james', 'come', '##y', 'is', 'really', 'out', 'to', 'hurt', 'hillary', ',', 'he', 'picked', 'one', 'hell', 'of', 'a', 'strange', 'way', 'to', 'do', 'it', '.', 'not', 'too', 'long', 'ago', 'democrats', 'were', 'breathing', 'a', 'sigh', 'of', 'relief', 'when', 'he', 'gave', 'hillary', 'clinton', 'a', 'pass', 'in', 'a', 'prominent', 'public', 'statement', '.', 'if', 'he', 'really', 'were', 'out', 'to', 'elect', 'trump', 'by', 'keeping', 'the', 'email', 'scandal', 'going', ',', 'why', 'did', 'he', 'trash', 'the', 'investigation', '?', 'was', 'he', 'on', 'the', 'payroll', 'of', 'house', 'republicans', 'and', 'the', 'kgb', 'back', 'then', 'and', 'playing', 'it', 'co', '##y', 'or', 'was', 'it', 'a', 'sudden', 'development', 'where']\n",
            "Token IDs:  [2017, 2064, 5437, 18520, 1521, 1055, 3571, 1012, 3817, 26713, 1010, 1037, 11895, 3363, 2386, 8083, 3507, 2012, 1996, 4071, 2415, 1010, 2003, 1037, 2047, 2259, 3213, 7995, 2006, 7490, 7025, 1012, 1999, 1996, 2345, 7683, 1997, 1996, 2602, 1010, 18520, 8473, 3511, 7207, 2038, 2908, 2000, 2162, 2007, 1996, 8495, 1012, 1996, 2773, 1523, 15741, 1524, 2038, 2042, 6908, 2105, 2061, 2411, 2023, 2602, 2008, 2009, 11276, 2000, 2022, 3394, 1012, 2021, 2009, 1521, 1055, 2145, 15741, 2005, 1996, 9773, 1997, 1037, 2350, 2576, 2283, 2000, 2175, 2162, 2007, 1996, 8495, 1012, 2021, 2008, 1521, 1055, 3599, 2054, 18520, 1998, 2014, 2111, 2031, 2589, 1012, 16571, 5022, 2074, 12447, 2039, 2085, 1998, 3666, 2019, 3178, 1997, 13229, 2013, 2037, 2902, 9705, 2052, 7868, 2008, 8495, 2472, 2508, 2272, 2100, 2003, 18520, 1521, 1055, 7116, 1999, 2023, 2602, 1012, 1996, 8495, 2003, 2104, 2886, 2011, 3071, 2013, 8112, 2000, 13229, 1012, 18520, 1521, 1055, 2111, 2031, 17640, 1037, 3661, 7866, 2272, 2100, 1012, 2045, 2024, 2747, 2062, 2865, 2718, 4109, 12559, 14083, 2075, 2032, 2084, 14126, 8398, 1012, 2009, 2876, 1521, 1056, 2022, 2205, 11341, 2065, 1996, 7207, 2015, 2030, 2037, 6956, 2020, 2000, 2707, 2770, 2886, 14997, 2114, 1996, 8495, 1012, 1996, 8495, 1521, 1055, 4105, 2003, 2108, 7420, 2008, 1996, 2972, 2187, 1011, 3358, 5069, 2097, 2433, 1037, 11404, 11240, 2065, 2027, 3613, 2183, 2044, 18520, 1012, 1998, 1996, 8495, 1521, 1055, 21553, 2003, 2108, 4457, 2011, 1996, 2865, 1998, 1996, 8037, 2000, 3653, 6633, 24971, 2135, 2132, 2125, 1996, 3463, 1997, 1996, 4812, 1997, 1996, 7207, 3192, 1998, 18520, 7207, 1012, 1996, 19813, 5998, 2090, 8495, 6074, 1998, 8112, 1521, 1055, 2079, 3501, 2111, 2038, 2908, 11355, 2135, 2270, 1012, 1996, 2047, 2259, 2335, 2038, 4102, 2272, 2100, 2000, 1046, 1012, 9586, 17443, 1012, 2049, 13576, 17653, 1010, 1523, 2508, 2272, 2100, 2535, 17722, 17443, 1521, 1055, 8495, 1010, 7199, 2030, 2025, 1524, 8134, 14456, 2039, 2392, 2008, 2009, 1521, 1055, 11867, 5833, 2075, 14652, 1012, 1996, 3731, 7595, 2038, 2405, 1037, 5930, 4214, 2005, 2272, 2100, 1521, 1055, 8172, 1012, 2025, 2000, 2022, 2041, 5280, 2063, 1010, 2051, 2038, 2019, 8368, 6815, 2008, 1996, 9446, 2003, 2428, 2019, 2886, 2006, 2035, 2308, 1012, 2508, 2482, 3077, 2596, 2006, 5796, 28957, 2000, 10825, 3071, 2008, 2002, 2001, 2145, 4142, 1998, 9577, 1012, 2002, 5496, 2272, 2100, 1997, 19795, 2007, 2160, 10643, 1998, 1996, 25467, 1012, 1998, 2017, 2245, 1996, 1523, 6565, 2157, 3358, 9714, 1524, 2001, 1037, 7683, 1012, 14518, 2865, 3441, 3715, 2272, 2100, 2007, 20084, 7709, 1012, 2079, 2017, 2113, 2054, 1521, 1055, 1037, 24508, 11371, 1029, 10373, 2075, 6219, 2592, 8250, 2006, 2115, 5723, 8241, 1012, 5205, 4302, 9027, 2038, 2741, 2272, 2100, 1037, 3661, 16723, 2032, 1997, 20084, 1996, 11300, 2552, 1012, 1996, 11300, 2552, 2003, 1037, 3835, 2801, 2008, 2038, 2004, 2172, 21923, 1999, 1996, 2287, 1997, 8112, 2004, 1996, 7891, 7450, 1012, 2021, 1996, 5830, 2739, 8674, 2855, 3561, 2007, 2865, 20578, 2015, 10167, 2012, 1996, 16948, 3720, 2006, 1996, 11300, 2552, 2104, 1996, 2795, 2096, 16723, 1996, 8495, 2472, 1997, 2028, 1997, 1996, 2087, 9596, 9530, 13102, 7895, 9243, 2114, 18520, 2412, 1012, 2065, 2508, 2272, 2100, 2003, 2428, 2041, 2000, 3480, 18520, 1010, 2002, 3856, 2028, 3109, 1997, 1037, 4326, 2126, 2000, 2079, 2009, 1012, 2025, 2205, 2146, 3283, 8037, 2020, 5505, 1037, 6682, 1997, 4335, 2043, 2002, 2435, 18520, 7207, 1037, 3413, 1999, 1037, 4069, 2270, 4861, 1012, 2065, 2002, 2428, 2020, 2041, 2000, 11322, 8398, 2011, 4363, 1996, 10373, 9446, 2183, 1010, 2339, 2106, 2002, 11669, 1996, 4812, 1029, 2001, 2002, 2006, 1996, 26854, 1997, 2160, 10643, 1998, 1996, 25467, 2067, 2059, 1998, 2652, 2009, 2522, 2100, 2030, 2001, 2009, 1037, 5573, 2458, 2073]\n"
          ],
          "name": "stdout"
        }
      ]
    },
    {
      "cell_type": "code",
      "metadata": {
        "id": "KEmWpcWgImJU"
      },
      "source": [
        "# Get the lists of text and their labels.\n",
        "sentences = df.titletext.values\n",
        "labels = df.label.values"
      ],
      "execution_count": 12,
      "outputs": []
    },
    {
      "cell_type": "code",
      "metadata": {
        "colab": {
          "base_uri": "https://localhost:8080/"
        },
        "id": "EX2HZvaYGqm_",
        "outputId": "cbe1d97a-de57-4b19-c2f4-3ebd8519d9b6"
      },
      "source": [
        "max_len = 0\n",
        "\n",
        "# For every sentence...\n",
        "for sent in sentences:\n",
        "\n",
        "    # Tokenize the text and add `[CLS]` and `[SEP]` tokens.\n",
        "    input_ids = tokenizer.encode(sent, add_special_tokens=True)\n",
        "\n",
        "    # Update the maximum sentence length.\n",
        "    max_len = max(max_len, len(input_ids))\n",
        "\n",
        "print('Max sentence length: ', max_len)"
      ],
      "execution_count": 13,
      "outputs": [
        {
          "output_type": "stream",
          "text": [
            "Token indices sequence length is longer than the specified maximum sequence length for this model (619 > 512). Running this sequence through the model will result in indexing errors\n"
          ],
          "name": "stderr"
        },
        {
          "output_type": "stream",
          "text": [
            "Max sentence length:  4262\n"
          ],
          "name": "stdout"
        }
      ]
    },
    {
      "cell_type": "code",
      "metadata": {
        "id": "p_eJ1YcGIpT3"
      },
      "source": [
        "# Set tokenizer hyperparameters.\n",
        "MAX_SEQ_LEN = 256\n",
        "BATCH_SIZE = 16\n",
        "PAD_INDEX = tokenizer.convert_tokens_to_ids(tokenizer.pad_token)\n",
        "UNK_INDEX = tokenizer.convert_tokens_to_ids(tokenizer.unk_token)\n",
        "\n",
        "\n",
        "\n",
        "# Define columns to read.\n",
        "label_field = Field(sequential=False, use_vocab=False, batch_first=True)\n",
        "text_field = Field(use_vocab=False, \n",
        "                   tokenize=tokenizer.encode, \n",
        "                   include_lengths=False, \n",
        "                   batch_first=True,\n",
        "                   fix_length=MAX_SEQ_LEN, \n",
        "                   pad_token=PAD_INDEX, \n",
        "                   unk_token=UNK_INDEX)\n",
        "\n",
        "\n",
        "fields = {'titletext' : ('titletext', text_field), 'label' : ('label', label_field)}\n",
        "\n",
        "\n",
        "# Read preprocessed CSV into TabularDataset and split it into train, test and valid.\n",
        "train_data, valid_data, test_data = TabularDataset(path='/content/prep_news.csv', \n",
        "                                                   format='CSV', \n",
        "                                                   fields=fields, \n",
        "                                                   skip_header=False).split(split_ratio=[0.70, 0.2, 0.1], \n",
        "                                                                            stratified=True, \n",
        "                                                                            strata_field='label')\n",
        "                                                   \n",
        "# Create train and validation iterators.\n",
        "train_iter, valid_iter = BucketIterator.splits((train_data, valid_data),\n",
        "                                               batch_size=BATCH_SIZE,\n",
        "                                               device=device,\n",
        "                                               shuffle=True,\n",
        "                                               sort_key=lambda x: len(x.titletext), \n",
        "                                               sort=True, \n",
        "                                               sort_within_batch=False)\n",
        "\n",
        "\n",
        "# Test iterator, no shuffling or sorting required.\n",
        "test_iter = Iterator(test_data, batch_size=BATCH_SIZE, device=device, train=False, shuffle=False, sort=False)"
      ],
      "execution_count": 14,
      "outputs": []
    },
    {
      "cell_type": "code",
      "metadata": {
        "colab": {
          "base_uri": "https://localhost:8080/"
        },
        "id": "xaGQNi8mVOQZ",
        "outputId": "3c7d9c9c-2eab-4d69-b771-bcf74b29af6d"
      },
      "source": [
        "for i in train_iter:\n",
        "  print(i.titletext)\n",
        "  break"
      ],
      "execution_count": 15,
      "outputs": [
        {
          "output_type": "stream",
          "text": [
            "tensor([[  101,  1996,  2601,  ...,     0,     0,     0],\n",
            "        [  101,  2088,  2162,  ...,     0,     0,     0],\n",
            "        [  101,  3419,  9180,  ...,     0,     0,     0],\n",
            "        ...,\n",
            "        [  101,  2067,  2545,  ...,     0,     0,     0],\n",
            "        [  101, 15333,  2497,  ...,     0,     0,     0],\n",
            "        [  101,  1996, 27788,  ...,     0,     0,     0]], device='cuda:0')\n"
          ],
          "name": "stdout"
        }
      ]
    },
    {
      "cell_type": "code",
      "metadata": {
        "id": "t-XY6nR2OobQ"
      },
      "source": [
        "class BERT_Arch(nn.Module):\n",
        "\n",
        "    def __init__(self):\n",
        "      \n",
        "      super(BERT_Arch, self).__init__()\n",
        "\n",
        "      #smaller model trained on lower-cased English text (with 12-layer, 768-hidden, 12-heads, 110M parameters)\n",
        "\n",
        "      self.bert = AutoModel.from_pretrained('bert-base-uncased',return_dict=False) \n",
        "      \n",
        "      # dropout layer\n",
        "      self.dropout = nn.Dropout(0.1)\n",
        "      \n",
        "      # relu activation function\n",
        "      self.relu =  nn.ReLU()\n",
        "\n",
        "      # dense layer 1\n",
        "      self.fc1 = nn.Linear(768,512)\n",
        "      \n",
        "      # dense layer 2 (Output layer)\n",
        "      self.fc2 = nn.Linear(512,2)\n",
        "\n",
        "      #softmax activation function\n",
        "      self.softmax = nn.LogSoftmax(dim=1)\n",
        "\n",
        "    #define the forward pass\n",
        "    def forward(self, sent_id, mask):\n",
        "\n",
        "      #pass the inputs to the model  \n",
        "      _, cls_hs = self.bert(sent_id, mask)\n",
        "      \n",
        "      x = self.fc1(cls_hs)\n",
        "\n",
        "      x = self.relu(x)\n",
        "\n",
        "      x = self.dropout(x)\n",
        "\n",
        "      # output layer\n",
        "      x = self.fc2(x)\n",
        "      \n",
        "      # apply softmax activation\n",
        "      x = self.softmax(x)\n",
        "\n",
        "      return x"
      ],
      "execution_count": 16,
      "outputs": []
    },
    {
      "cell_type": "code",
      "metadata": {
        "id": "qV16JIRdS6NA"
      },
      "source": [
        "# Functions for saving and loading model parameters and metrics.\n",
        "def save_checkpoint(path, model, valid_loss):\n",
        "    torch.save({'model_state_dict': model.state_dict(),\n",
        "                  'valid_loss': valid_loss}, path)\n",
        "\n",
        "    \n",
        "def load_checkpoint(path, model):    \n",
        "    state_dict = torch.load(path, map_location=device)\n",
        "    model.load_state_dict(state_dict['model_state_dict'])\n",
        "    \n",
        "    return state_dict['valid_loss']\n",
        "\n",
        "\n",
        "def save_metrics(path, train_loss_list, valid_loss_list):   \n",
        "    state_dict = {'train_loss_list': train_loss_list,\n",
        "                  'valid_loss_list': valid_loss_list }\n",
        "    \n",
        "    torch.save(state_dict, path)\n",
        "\n",
        "\n",
        "def load_metrics(path):    \n",
        "    state_dict = torch.load(path, map_location=device)\n",
        "    return state_dict['train_loss_list'], state_dict['valid_loss_list']"
      ],
      "execution_count": 17,
      "outputs": []
    },
    {
      "cell_type": "code",
      "metadata": {
        "id": "7bpsSTT-45Eo"
      },
      "source": [
        "\n",
        "def train(model, iterator, optimizer, criterion, clip,scheduler = None):\n",
        "    \n",
        "    model.train()\n",
        "    \n",
        "    epoch_loss = 0\n",
        "    \n",
        "    for i, batch in enumerate(iterator):\n",
        "        \n",
        "        src = batch.titletext\n",
        "        trg = batch.label\n",
        "        mask = (src != PAD_INDEX).type(torch.uint8)\n",
        "        \n",
        "        optimizer.zero_grad()\n",
        "\n",
        "        output = model(src, mask)\n",
        "            \n",
        "        loss = criterion(output, trg)\n",
        "        \n",
        "        loss.backward()\n",
        "        \n",
        "        torch.nn.utils.clip_grad_norm_(model.parameters(), clip)\n",
        "        \n",
        "        optimizer.step()\n",
        "        scheduler.step()\n",
        "        \n",
        "        epoch_loss += loss.item()\n",
        "        \n",
        "    return epoch_loss / len(iterator)"
      ],
      "execution_count": 18,
      "outputs": []
    },
    {
      "cell_type": "code",
      "metadata": {
        "id": "v-NE1o1h6qQ8"
      },
      "source": [
        "def evaluate(model, iterator, criterion):\n",
        "    \n",
        "    model.eval()\n",
        "    \n",
        "    epoch_loss = 0\n",
        "    \n",
        "    with torch.no_grad():\n",
        "    \n",
        "        for i, batch in enumerate(iterator):\n",
        "\n",
        "            src = batch.titletext\n",
        "            trg = batch.label\n",
        "            mask = (src != PAD_INDEX).type(torch.uint8)\n",
        "\n",
        "            output = model(src, mask)\n",
        "            \n",
        "            loss = criterion(output, trg)\n",
        "\n",
        "            epoch_loss += loss.item()\n",
        "        \n",
        "    return epoch_loss / len(iterator)"
      ],
      "execution_count": 19,
      "outputs": []
    },
    {
      "cell_type": "code",
      "metadata": {
        "id": "0UiCe18US-kb"
      },
      "source": [
        "output_path='/content'"
      ],
      "execution_count": 20,
      "outputs": []
    },
    {
      "cell_type": "code",
      "metadata": {
        "id": "-tJWUTta7PG_"
      },
      "source": [
        "def epoch_time(start_time, end_time):\n",
        "    elapsed_time = end_time - start_time\n",
        "    elapsed_mins = int(elapsed_time / 60)\n",
        "    elapsed_secs = int(elapsed_time - (elapsed_mins * 60))\n",
        "    return elapsed_mins, elapsed_secs"
      ],
      "execution_count": 21,
      "outputs": []
    },
    {
      "cell_type": "code",
      "metadata": {
        "colab": {
          "base_uri": "https://localhost:8080/",
          "height": 115,
          "referenced_widgets": [
            "b4b08834d19f4deab5de8156b51836fc",
            "e98e9ed290c241b39803fb6a164165de",
            "24ec85369f2b483bb5d075ebef01d80f",
            "c2324e80c7c14d15b3b463de902a6ca1",
            "68028a7ffa5a4f4cb043305791b522a6",
            "61db4d31a81a4e219bb66d238558e3ad",
            "c6f98dc2549742dba36eb3af8af4074d",
            "b83436afbce34eae8bba88641e29da88",
            "c74d6a6d7c1242a0a26654a3ec74970d",
            "ae5f7d672907443784a74cc70d959085",
            "b41d1e5a1dcd4a6fb2d74d1cf21ccdfa",
            "ed1df53eeaf44ab0afac4cd10b93959b",
            "ca5fe2a04c9d41d1a774b58576973c0d",
            "9a3a1a76d73541bdaaeec0b4e743f0a6",
            "bbb98c57aee64d4594e48bf83d4ebad4",
            "04c9771bcab64c48a02729056a9bc032"
          ]
        },
        "id": "pD-0oIg6_LP9",
        "outputId": "88987c81-1185-4399-c4fa-c7e804bd4fd1"
      },
      "source": [
        "steps_per_epoch = len(train_iter)\n",
        "CLIP = 1\n",
        "criterion = nn.CrossEntropyLoss()\n",
        "\n",
        "model = BERT_Arch()\n",
        "model = model.to(device)"
      ],
      "execution_count": 22,
      "outputs": [
        {
          "output_type": "display_data",
          "data": {
            "application/vnd.jupyter.widget-view+json": {
              "model_id": "b4b08834d19f4deab5de8156b51836fc",
              "version_minor": 0,
              "version_major": 2
            },
            "text/plain": [
              "HBox(children=(FloatProgress(value=0.0, description='Downloading', max=433.0, style=ProgressStyle(description_…"
            ]
          },
          "metadata": {
            "tags": []
          }
        },
        {
          "output_type": "stream",
          "text": [
            "\n"
          ],
          "name": "stdout"
        },
        {
          "output_type": "display_data",
          "data": {
            "application/vnd.jupyter.widget-view+json": {
              "model_id": "c74d6a6d7c1242a0a26654a3ec74970d",
              "version_minor": 0,
              "version_major": 2
            },
            "text/plain": [
              "HBox(children=(FloatProgress(value=0.0, description='Downloading', max=440473133.0, style=ProgressStyle(descri…"
            ]
          },
          "metadata": {
            "tags": []
          }
        },
        {
          "output_type": "stream",
          "text": [
            "\n"
          ],
          "name": "stdout"
        }
      ]
    },
    {
      "cell_type": "code",
      "metadata": {
        "id": "FU4WIl1f-OWO"
      },
      "source": [
        "# # Main training loop\n",
        "# NUM_EPOCHS = 6\n",
        "\n",
        "# optimizer = AdamW(model.parameters(), lr=1e-4)\n",
        "# scheduler = get_linear_schedule_with_warmup(optimizer, \n",
        "#                                             num_warmup_steps=steps_per_epoch*1, \n",
        "#                                             num_training_steps=steps_per_epoch*NUM_EPOCHS)\n",
        "\n",
        "# print(\"======================= Start Pre-training =================================\")\n",
        "\n",
        "# # Pretrain linear layers, do not train bert\n",
        "# for param in model.bert.parameters():\n",
        "#   param.requires_grad = False\n",
        "# for epoch in range(NUM_EPOCHS):\n",
        "\n",
        "#     start_time = time.time()\n",
        "    \n",
        "#     train_loss = train(model, train_iter, optimizer, criterion, CLIP,scheduler=scheduler)\n",
        "#     valid_loss = evaluate(model, valid_iter, criterion)\n",
        "    \n",
        "#     end_time = time.time()\n",
        "    \n",
        "#     epoch_mins, epoch_secs = epoch_time(start_time, end_time)\n",
        "    \n",
        "#     # if valid_loss < best_valid_loss:\n",
        "#     #     best_valid_loss = valid_loss\n",
        "#     #     save_checkpoint(output_path + '/model.pkl', model, best_valid_loss)\n",
        "#     #     save_metrics(output_path + '/metric.pkl', train_loss_list, valid_loss_list)\n",
        "    \n",
        "#     print(f'Epoch: {epoch+1:02} | Time: {epoch_mins}m {epoch_secs}s')\n",
        "#     print(f'\\tTrain Loss: {train_loss:.3f}')\n",
        "#     print(f'\\t Val. Loss: {valid_loss:.3f}')\n",
        "\n",
        "\n",
        "# # Pretrain linear layers, do not train bert\n",
        "# for param in model.bert.parameters():\n",
        "#   param.requires_grad = True\n",
        "\n",
        "# print('Pre-training done!')"
      ],
      "execution_count": 23,
      "outputs": []
    },
    {
      "cell_type": "code",
      "metadata": {
        "colab": {
          "base_uri": "https://localhost:8080/"
        },
        "id": "ZdRUahPGS0nc",
        "outputId": "99a5eea2-1257-4605-c44c-84f39e759e3b"
      },
      "source": [
        "# Main training loop\n",
        "\n",
        "N_EPOCHS = 5\n",
        "\n",
        "best_valid_loss = float('inf')\n",
        "\n",
        "print(\"======================= Start training =================================\")\n",
        "optimizer = AdamW(model.parameters(), lr=2e-6)\n",
        "scheduler = get_linear_schedule_with_warmup(optimizer, \n",
        "                                            num_warmup_steps=steps_per_epoch*2, \n",
        "                                            num_training_steps=steps_per_epoch*N_EPOCHS)\n",
        "\n",
        "train_loss_list = []\n",
        "valid_loss_list=[]\n",
        "\n",
        "for epoch in range(N_EPOCHS):\n",
        "\n",
        "    start_time = time.time()\n",
        "    \n",
        "    train_loss = train(model, train_iter, optimizer, criterion, CLIP,scheduler=scheduler)\n",
        "    valid_loss = evaluate(model, valid_iter, criterion)\n",
        "    train_loss_list.append(train_loss)\n",
        "    valid_loss_list.append(valid_loss)\n",
        "    \n",
        "    end_time = time.time()\n",
        "    \n",
        "    epoch_mins, epoch_secs = epoch_time(start_time, end_time)\n",
        "    \n",
        "    if valid_loss < best_valid_loss:\n",
        "        best_valid_loss = valid_loss\n",
        "        save_checkpoint(output_path + '/model.pkl', model, best_valid_loss)\n",
        "        save_metrics(output_path + '/metric.pkl', train_loss_list, valid_loss_list)\n",
        "    \n",
        "    print(f'Epoch: {epoch+1:02} | Time: {epoch_mins}m {epoch_secs}s')\n",
        "    print(f'\\tTrain Loss: {train_loss:.3f}  Val. Loss: {valid_loss:.3f}')\n",
        "\n",
        "print('Training done!')"
      ],
      "execution_count": 24,
      "outputs": [
        {
          "output_type": "stream",
          "text": [
            "======================= Start training =================================\n",
            "Epoch: 01 | Time: 3m 54s\n",
            "\tTrain Loss: 0.666  Val. Loss: 0.592\n",
            "Epoch: 02 | Time: 3m 55s\n",
            "\tTrain Loss: 0.423  Val. Loss: 0.260\n",
            "Epoch: 03 | Time: 3m 55s\n",
            "\tTrain Loss: 0.209  Val. Loss: 0.179\n",
            "Epoch: 04 | Time: 3m 55s\n",
            "\tTrain Loss: 0.152  Val. Loss: 0.158\n",
            "Epoch: 05 | Time: 3m 55s\n",
            "\tTrain Loss: 0.137  Val. Loss: 0.145\n",
            "Training done!\n"
          ],
          "name": "stdout"
        }
      ]
    },
    {
      "cell_type": "code",
      "metadata": {
        "colab": {
          "base_uri": "https://localhost:8080/",
          "height": 483
        },
        "id": "a7dxQOZKTKkQ",
        "outputId": "a6040e1b-58ed-49ae-991f-fc3cf9611df0"
      },
      "source": [
        "plt.figure(figsize=(10, 8))\n",
        "train_loss_list, valid_loss_list = load_metrics(output_path + '/metric.pkl')\n",
        "plt.plot( train_loss_list, label='Train')\n",
        "plt.plot( valid_loss_list, label='Valid')\n",
        "# plt.xlabel('Global Steps', fontsize=14)\n",
        "plt.ylabel('Loss', fontsize=14)\n",
        "plt.legend(fontsize=14)\n",
        "plt.show()"
      ],
      "execution_count": 27,
      "outputs": [
        {
          "output_type": "display_data",
          "data": {
            "image/png": "[encoded data removed]",
            "text/plain": [
              "<Figure size 720x576 with 1 Axes>"
            ]
          },
          "metadata": {
            "tags": []
          }
        }
      ]
    },
    {
      "cell_type": "code",
      "metadata": {
        "id": "km36DBeYoZzO"
      },
      "source": [
        "# Evaluation Function\n",
        "\n",
        "def evaluate(model, test_loader):\n",
        "    y_pred = []\n",
        "    y_true = []\n",
        "\n",
        "    model.eval()\n",
        "    with torch.no_grad():\n",
        "        for (source, target), _ in test_loader:\n",
        "                mask = (source != PAD_INDEX).type(torch.uint8)\n",
        "                \n",
        "                output = model(source, mask)\n",
        "\n",
        "                y_pred.extend(torch.argmax(output, axis=-1).tolist())\n",
        "                y_true.extend(target.tolist())\n",
        "    \n",
        "    print('Classification Report:')\n",
        "    print(classification_report(y_true, y_pred, labels=[1,0], digits=4))\n",
        "    \n",
        "    cm = confusion_matrix(y_true, y_pred, labels=[1,0])\n",
        "    ax = plt.subplot()\n",
        "\n",
        "    sns.heatmap(cm, annot=True, ax = ax, cmap='Blues', fmt=\"d\")\n",
        "\n",
        "    ax.set_title('Confusion Matrix')\n",
        "\n",
        "    ax.set_xlabel('Predicted Labels')\n",
        "    ax.set_ylabel('True Labels')\n",
        "\n",
        "    ax.xaxis.set_ticklabels(['FAKE', 'REAL'])\n",
        "    ax.yaxis.set_ticklabels(['FAKE', 'REAL'])"
      ],
      "execution_count": 29,
      "outputs": []
    },
    {
      "cell_type": "code",
      "metadata": {
        "colab": {
          "base_uri": "https://localhost:8080/",
          "height": 469
        },
        "id": "FeXnn4tvojMz",
        "outputId": "6afac54a-4e51-4ee9-f120-b7f414e10c1c"
      },
      "source": [
        "# model = BERT_Arch()\n",
        "# model = model.to(device)\n",
        "\n",
        "load_checkpoint(output_path + '/model.pkl', model)\n",
        "\n",
        "evaluate(model, test_iter)"
      ],
      "execution_count": 30,
      "outputs": [
        {
          "output_type": "stream",
          "text": [
            "Classification Report:\n",
            "              precision    recall  f1-score   support\n",
            "\n",
            "           1     0.9165    0.9700    0.9425       634\n",
            "           0     0.9677    0.9105    0.9383       626\n",
            "\n",
            "    accuracy                         0.9405      1260\n",
            "   macro avg     0.9421    0.9403    0.9404      1260\n",
            "weighted avg     0.9420    0.9405    0.9404      1260\n",
            "\n"
          ],
          "name": "stdout"
        },
        {
          "output_type": "display_data",
          "data": {
            "image/png": "[encoded data removed]",
            "text/plain": [
              "<Figure size 432x288 with 2 Axes>"
            ]
          },
          "metadata": {
            "tags": []
          }
        }
      ]
    },
    {
      "cell_type": "code",
      "metadata": {
        "id": "n93tiGT1opok"
      },
      "source": [
        ""
      ],
      "execution_count": null,
      "outputs": []
    }
  ]
}