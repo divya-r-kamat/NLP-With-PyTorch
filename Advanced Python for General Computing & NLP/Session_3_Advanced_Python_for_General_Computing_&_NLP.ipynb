{
  "nbformat": 4,
  "nbformat_minor": 0,
  "metadata": {
    "colab": {
      "name": "Session 3 - Advanced Python for General Computing & NLP.ipynb",
      "provenance": [],
      "collapsed_sections": [],
      "toc_visible": true,
      "authorship_tag": "ABX9TyOFGWNam+3OxJcRBlHpr87o",
      "include_colab_link": true
    },
    "kernelspec": {
      "name": "python3",
      "display_name": "Python 3"
    }
  },
  "cells": [
    {
      "cell_type": "markdown",
      "metadata": {
        "id": "view-in-github",
        "colab_type": "text"
      },
      "source": [
        "<a href=\"https://colab.research.google.com/github/divya-r-kamat/END/blob/main/Session_3/Session_3_Advanced_Python_for_General_Computing_%26_NLP.ipynb\" target=\"_parent\"><img src=\"https://colab.research.google.com/assets/colab-badge.svg\" alt=\"Open In Colab\"/></a>"
      ]
    },
    {
      "cell_type": "markdown",
      "metadata": {
        "id": "HX-FbbptfykY"
      },
      "source": [
        " # ***Session 3 Assignment*** "
      ]
    },
    {
      "cell_type": "markdown",
      "metadata": {
        "id": "ZbZaA_9tfYep"
      },
      "source": [
        "### **Question 1 :** Write a function using only list filter lambda that can tell whether a number is a Fibonacci number or not. You can use a pre-calculated list/dict to store fab numbers till 10000 "
      ]
    },
    {
      "cell_type": "code",
      "metadata": {
        "id": "mZb0QyLlfJ1p"
      },
      "source": [
        "##Generate Fabonacci numbers till 10000 and stores in a list\n",
        "fibs = [0, 1]\n",
        "for i in range(2,100001):\n",
        "  fibs.append(fibs[-1] + fibs[-2])\n",
        "\n",
        "def is_fibonacci(n):\n",
        "  ''' This function checks if the number is fibonacci number or not\n",
        "  input : A number to check '''\n",
        "  \n",
        "  try: \n",
        "    if isinstance(n, int) and n >=0:\n",
        "      output = bool(list(filter(lambda x: n == x, fibs)))\n",
        "      return output\n",
        "    else:\n",
        "       raise ValueError\n",
        "  except ValueError:\n",
        "    print (\"please enter positive integer!\")\n",
        "    \n"
      ],
      "execution_count": 1,
      "outputs": []
    },
    {
      "cell_type": "code",
      "metadata": {
        "id": "M-v9JyuynUHB",
        "outputId": "29bf2ec7-0d51-468d-fb5f-c111e0d47d3b",
        "colab": {
          "base_uri": "https://localhost:8080/"
        }
      },
      "source": [
        "is_fibonacci(3)"
      ],
      "execution_count": 2,
      "outputs": [
        {
          "output_type": "execute_result",
          "data": {
            "text/plain": [
              "True"
            ]
          },
          "metadata": {
            "tags": []
          },
          "execution_count": 2
        }
      ]
    },
    {
      "cell_type": "markdown",
      "metadata": {
        "id": "LVIlR7DSLGjN"
      },
      "source": [
        "### **Question2 :**  Using list comprehension (and zip/lambda etc if required) write five different expressions that:\n",
        "\n",
        "#### *1.  add 2 iterables a and b such that a is even and b is odd*\n",
        "\n",
        "\n"
      ]
    },
    {
      "cell_type": "code",
      "metadata": {
        "id": "9MZcOwdzk6u0"
      },
      "source": [
        "def fn_add_two_iterables(a,b):\n",
        "  ''' This function accepts two iterables (a,b) and adds such that \n",
        "  a is even and b is odd'''\n",
        "\n",
        "  output = [x + y  for x, y in zip(a,b) if x %2 ==0 and y%2 !=0  ]\n",
        "  return output\n",
        "\n"
      ],
      "execution_count": 3,
      "outputs": []
    },
    {
      "cell_type": "code",
      "metadata": {
        "id": "Fq-O4SXek-zc",
        "outputId": "b90e6e2e-48d0-4d0b-d44f-536062065fea",
        "colab": {
          "base_uri": "https://localhost:8080/"
        }
      },
      "source": [
        "fn_add_two_iterables([2,4,6,5], [1,9,8,2])"
      ],
      "execution_count": 4,
      "outputs": [
        {
          "output_type": "execute_result",
          "data": {
            "text/plain": [
              "[3, 13]"
            ]
          },
          "metadata": {
            "tags": []
          },
          "execution_count": 4
        }
      ]
    },
    {
      "cell_type": "markdown",
      "metadata": {
        "id": "r2KDokqJPx-C"
      },
      "source": [
        "#### 2. strips every vowel from a string provided (tsai>>t s)\n",
        "\n",
        "\n"
      ]
    },
    {
      "cell_type": "code",
      "metadata": {
        "id": "YzHy1EtEQXvr"
      },
      "source": [
        "def fn_vowel_strip(input):\n",
        "  ''' function that strips every vowel from a string provided (tsai>>t s)'''\n",
        "\n",
        "  Vowels = ['a','e','i','o','u']\n",
        "\n",
        "  output = \"\".join([x for x in input if x not in Vowels])\n",
        "  return output"
      ],
      "execution_count": 5,
      "outputs": []
    },
    {
      "cell_type": "code",
      "metadata": {
        "id": "Warjpxc8Ow1g",
        "outputId": "aa1cf6d5-6146-4f28-ca87-4ba983c4760e",
        "colab": {
          "base_uri": "https://localhost:8080/",
          "height": 35
        }
      },
      "source": [
        "fn_vowel_strip(\"Divya Kamat\")"
      ],
      "execution_count": 6,
      "outputs": [
        {
          "output_type": "execute_result",
          "data": {
            "application/vnd.google.colaboratory.intrinsic+json": {
              "type": "string"
            },
            "text/plain": [
              "'Dvy Kmt'"
            ]
          },
          "metadata": {
            "tags": []
          },
          "execution_count": 6
        }
      ]
    },
    {
      "cell_type": "markdown",
      "metadata": {
        "id": "pgk-eAm9RgQz"
      },
      "source": [
        "#### 3. acts like a ReLU function for a 1D array\n",
        "\n",
        "\n",
        "\n"
      ]
    },
    {
      "cell_type": "code",
      "metadata": {
        "id": "VbjwUMfdRIjb"
      },
      "source": [
        "def ReLu(input):\n",
        "  '''function that acts like a ReLU function for a 1D array'''\n",
        "\n",
        "  output = [max(0,x) for x in input]\n",
        "  return output"
      ],
      "execution_count": 7,
      "outputs": []
    },
    {
      "cell_type": "code",
      "metadata": {
        "id": "OKdSiN5aSJzg",
        "outputId": "839d15b2-931d-46d2-98ca-e28da55533dd",
        "colab": {
          "base_uri": "https://localhost:8080/"
        }
      },
      "source": [
        "ReLu([1,-9,0,7,8,-5])"
      ],
      "execution_count": 8,
      "outputs": [
        {
          "output_type": "execute_result",
          "data": {
            "text/plain": [
              "[1, 0, 0, 7, 8, 0]"
            ]
          },
          "metadata": {
            "tags": []
          },
          "execution_count": 8
        }
      ]
    },
    {
      "cell_type": "markdown",
      "metadata": {
        "id": "2MQBynkQTDFP"
      },
      "source": [
        "#### 4. acts like a sigmoid function for a 1D array"
      ]
    },
    {
      "cell_type": "code",
      "metadata": {
        "id": "_dzmeXVwSV1M"
      },
      "source": [
        "import math\n",
        "def sigmoid(input):\n",
        "  '''Function that acts like a sigmoid function for a 1D array'''\n",
        "  output = [1/ (1 + math.exp(-x)) for x in input]\n",
        "  return output\n"
      ],
      "execution_count": 9,
      "outputs": []
    },
    {
      "cell_type": "code",
      "metadata": {
        "id": "wSgJ47YUTmKM",
        "outputId": "2b4a90f9-6749-4268-eb39-35cd0382c816",
        "colab": {
          "base_uri": "https://localhost:8080/"
        }
      },
      "source": [
        "sigmoid([ 0,  3, 50])"
      ],
      "execution_count": 10,
      "outputs": [
        {
          "output_type": "execute_result",
          "data": {
            "text/plain": [
              "[0.5, 0.9525741268224334, 1.0]"
            ]
          },
          "metadata": {
            "tags": []
          },
          "execution_count": 10
        }
      ]
    },
    {
      "cell_type": "markdown",
      "metadata": {
        "id": "C3IMgnebUphu"
      },
      "source": [
        "#### 5. takes a small character string and shifts all characters by 5 (handle boundary conditions) tsai>>yxfn"
      ]
    },
    {
      "cell_type": "code",
      "metadata": {
        "id": "hSprwKlPTz4j"
      },
      "source": [
        "def fn_shift_character(input):\n",
        "\n",
        "  '''function that takes a small character string and shifts all characters by 5 (handle boundary conditions) tsai>>yxfn'''\n",
        "\n",
        "  output =  ''.join(chr((ord(char) - 117 + 96) ) if ord(char)>117 else chr((ord(char) - 97 + 5 ) % 26 + 97) for char in input.lower())\n",
        "  return output"
      ],
      "execution_count": 11,
      "outputs": []
    },
    {
      "cell_type": "code",
      "metadata": {
        "id": "jfJnkGPiWnl1",
        "outputId": "476600d4-fced-42eb-fad1-1a7b8be08f61",
        "colab": {
          "base_uri": "https://localhost:8080/",
          "height": 35
        }
      },
      "source": [
        "fn_shift_character('tsai')"
      ],
      "execution_count": 12,
      "outputs": [
        {
          "output_type": "execute_result",
          "data": {
            "application/vnd.google.colaboratory.intrinsic+json": {
              "type": "string"
            },
            "text/plain": [
              "'yxfn'"
            ]
          },
          "metadata": {
            "tags": []
          },
          "execution_count": 12
        }
      ]
    },
    {
      "cell_type": "code",
      "metadata": {
        "id": "GUEr-VX4XLsi",
        "outputId": "bcb13595-5592-45d5-a8f0-50b1c79b6569",
        "colab": {
          "base_uri": "https://localhost:8080/",
          "height": 35
        }
      },
      "source": [
        "fn_shift_character('uvwxyz')"
      ],
      "execution_count": 13,
      "outputs": [
        {
          "output_type": "execute_result",
          "data": {
            "application/vnd.google.colaboratory.intrinsic+json": {
              "type": "string"
            },
            "text/plain": [
              "'zabcde'"
            ]
          },
          "metadata": {
            "tags": []
          },
          "execution_count": 13
        }
      ]
    },
    {
      "cell_type": "markdown",
      "metadata": {
        "id": "idckH-MXaFpZ"
      },
      "source": [
        "### **Question 3:** A list comprehension expression that takes a ~200 word paragraph (write your own paragraph to check), and checks whether it has any of the swear words mentioned in https://github.com/RobertJGabriel/Google-profanity-words/blob/master/list.txt "
      ]
    },
    {
      "cell_type": "code",
      "metadata": {
        "id": "tJ9SG8-WaN86"
      },
      "source": [
        "import urllib.request\n",
        "def fn_check_swear_words(input):\n",
        "  ''' A list comprehension expression that takes a ~200 word paragraph (write your own paragraph to check), \n",
        "  and checks whether it has any of the swear words mentioned\n",
        "  in https://github.com/RobertJGabriel/Google-profanity-words/blob/master/list.txt'''\n",
        "\n",
        "\n",
        "  content = urllib.request.urlopen('https://raw.githubusercontent.com/RobertJGabriel/Google-profanity-words/master/list.txt')\n",
        "  swear_words = content.read().decode('utf-8').split('\\n')\n",
        "\n",
        "  output = bool([ word for word in input.split(\" \") if word.lower() in swear_words])\n",
        "  return output\n",
        "\n"
      ],
      "execution_count": 14,
      "outputs": []
    },
    {
      "cell_type": "code",
      "metadata": {
        "id": "PTysoH9fbCDS",
        "outputId": "856ab90a-ea81-4b86-dc21-808b3594a3d5",
        "colab": {
          "base_uri": "https://localhost:8080/"
        }
      },
      "source": [
        "fn_check_swear_words('''5hit today is sunday, a55 anal anus ar5e arrse arse ass ass-fucker asses this is very good whether assfucker.\n",
        "                    i am going on a holiday. assfukkad asshole I am not going to office today, \n",
        "                    assholes china created covid asswhole and mad our life a_s_s, US elections are next month b!tch''')"
      ],
      "execution_count": 15,
      "outputs": [
        {
          "output_type": "execute_result",
          "data": {
            "text/plain": [
              "True"
            ]
          },
          "metadata": {
            "tags": []
          },
          "execution_count": 15
        }
      ]
    },
    {
      "cell_type": "code",
      "metadata": {
        "id": "e-N5FIFKcoFx",
        "outputId": "08db3d1b-d1a4-4ded-b6d9-976fe2d457a8",
        "colab": {
          "base_uri": "https://localhost:8080/"
        }
      },
      "source": [
        "fn_check_swear_words('''I am a software engineer''')"
      ],
      "execution_count": 16,
      "outputs": [
        {
          "output_type": "execute_result",
          "data": {
            "text/plain": [
              "False"
            ]
          },
          "metadata": {
            "tags": []
          },
          "execution_count": 16
        }
      ]
    },
    {
      "cell_type": "markdown",
      "metadata": {
        "id": "dkCLOpbzrCqa"
      },
      "source": [
        "### **Question 4:** Using reduce functions: \n",
        "- add only even numbers in a list\n",
        "- find the biggest character in a string (printable ascii characters)\n",
        "- adds every 3rd number in a list"
      ]
    },
    {
      "cell_type": "markdown",
      "metadata": {
        "id": "Wm_9zRI-wndV"
      },
      "source": [
        "#### 1. add only even numbers in a list"
      ]
    },
    {
      "cell_type": "code",
      "metadata": {
        "id": "oClx64gdd6W_"
      },
      "source": [
        "from functools import reduce\n",
        "def add_even(input):\n",
        "  '''function to add only even numbers in a list'''\n",
        "  output = reduce(lambda x, y : x + y if y%2 == 0 else x, input,0)\n",
        "  return output"
      ],
      "execution_count": 17,
      "outputs": []
    },
    {
      "cell_type": "code",
      "metadata": {
        "id": "9J34r5lDs16c",
        "outputId": "586fd9f7-5270-48c4-fd3f-21203a61bc03",
        "colab": {
          "base_uri": "https://localhost:8080/"
        }
      },
      "source": [
        "add_even([1,2,3,4,5,6,7,8]) "
      ],
      "execution_count": 18,
      "outputs": [
        {
          "output_type": "execute_result",
          "data": {
            "text/plain": [
              "20"
            ]
          },
          "metadata": {
            "tags": []
          },
          "execution_count": 18
        }
      ]
    },
    {
      "cell_type": "markdown",
      "metadata": {
        "id": "F7klUQqVwd0y"
      },
      "source": [
        "#### 2. find the biggest character in a string (printable ascii characters)"
      ]
    },
    {
      "cell_type": "code",
      "metadata": {
        "id": "CXkDTyeKw1h2"
      },
      "source": [
        "def fn_biggest_ascii_character(input):\n",
        "  '''Function to find the biggest character in a string (printable ascii characters)'''\n",
        "  output = reduce(lambda x, y : x if ord(x)>ord(y) else y,input)\n",
        "  return output"
      ],
      "execution_count": 19,
      "outputs": []
    },
    {
      "cell_type": "code",
      "metadata": {
        "id": "VnRDkfRMxms-",
        "outputId": "c3fe241b-ee1f-4e9b-9599-13863164ca50",
        "colab": {
          "base_uri": "https://localhost:8080/",
          "height": 35
        }
      },
      "source": [
        "fn_biggest_ascii_character(\"abcdAB123\")"
      ],
      "execution_count": 20,
      "outputs": [
        {
          "output_type": "execute_result",
          "data": {
            "application/vnd.google.colaboratory.intrinsic+json": {
              "type": "string"
            },
            "text/plain": [
              "'d'"
            ]
          },
          "metadata": {
            "tags": []
          },
          "execution_count": 20
        }
      ]
    },
    {
      "cell_type": "code",
      "metadata": {
        "id": "ufFQ2-SzxtN_",
        "outputId": "20164e05-1733-4db1-fbfc-33f703557788",
        "colab": {
          "base_uri": "https://localhost:8080/",
          "height": 35
        }
      },
      "source": [
        "fn_biggest_ascii_character(\"@#)123atg;\")"
      ],
      "execution_count": 21,
      "outputs": [
        {
          "output_type": "execute_result",
          "data": {
            "application/vnd.google.colaboratory.intrinsic+json": {
              "type": "string"
            },
            "text/plain": [
              "'t'"
            ]
          },
          "metadata": {
            "tags": []
          },
          "execution_count": 21
        }
      ]
    },
    {
      "cell_type": "markdown",
      "metadata": {
        "id": "NxTcCX5Nxliq"
      },
      "source": [
        "#### 3. adds every 3rd number in a list"
      ]
    },
    {
      "cell_type": "code",
      "metadata": {
        "id": "-gRM7XPaySNe"
      },
      "source": [
        "def fn_add_third_num(input): \n",
        "  '''Function to add every 3rd number in a list'''\n",
        "  output = reduce(lambda x , y : x + y, input[::3])\n",
        "  return output"
      ],
      "execution_count": 22,
      "outputs": []
    },
    {
      "cell_type": "code",
      "metadata": {
        "id": "loE7RuFL1HOc",
        "outputId": "ac4e839e-5574-46e3-ec1a-aaec9a384f43",
        "colab": {
          "base_uri": "https://localhost:8080/"
        }
      },
      "source": [
        "fn_add_third_num([1,2,3,4,5,6,7, 8, 9, 10]) \n"
      ],
      "execution_count": 23,
      "outputs": [
        {
          "output_type": "execute_result",
          "data": {
            "text/plain": [
              "22"
            ]
          },
          "metadata": {
            "tags": []
          },
          "execution_count": 23
        }
      ]
    },
    {
      "cell_type": "markdown",
      "metadata": {
        "id": "WxGvHRHxN5bp"
      },
      "source": [
        "### **Question 5 :** Using randint, random.choice and list comprehensions, write an expression that generates 15 random KADDAADDDD number plates, where KA is fixed, D stands for a digit, and A stands for Capital alphabets. 10<<DD<<99 & 1000<<DDDD<<9999 "
      ]
    },
    {
      "cell_type": "code",
      "metadata": {
        "id": "D9sfMbSnyXkx"
      },
      "source": [
        "import random\n",
        "def fn_generate_n_number_plates(num):\n",
        "  '''Function that generates 15 random KADDAADDDD number plates, where KA is fixed, \n",
        "  D stands for a digit, and A stands for Capital alphabets. 10<<DD<<99 & 1000<<DDDD<<9999\n",
        "  using using randint, random.choice and list comprehensions'''\n",
        "  output = ['KA' + str(random.randint(10,99)) + chr(random.randint(65,90)) + chr(random.randint(65,90)) + str(random.randint(1000,9999)) for _ in range(num) ]\n",
        "  return output\n"
      ],
      "execution_count": 24,
      "outputs": []
    },
    {
      "cell_type": "code",
      "metadata": {
        "id": "T-bkRFt8OOZ8",
        "outputId": "c9a404d1-1b74-4081-a875-b7939edac224",
        "colab": {
          "base_uri": "https://localhost:8080/"
        }
      },
      "source": [
        "fn_generate_n_number_plates(15)"
      ],
      "execution_count": 25,
      "outputs": [
        {
          "output_type": "execute_result",
          "data": {
            "text/plain": [
              "['KA39CZ5467',\n",
              " 'KA44YX5195',\n",
              " 'KA29ZI5956',\n",
              " 'KA90IP2099',\n",
              " 'KA92ND3790',\n",
              " 'KA29ET2529',\n",
              " 'KA33PL3355',\n",
              " 'KA66GQ6133',\n",
              " 'KA62VP1684',\n",
              " 'KA87KQ4317',\n",
              " 'KA29YX8136',\n",
              " 'KA18IJ6823',\n",
              " 'KA84JR9500',\n",
              " 'KA76QC8127',\n",
              " 'KA23TB2588']"
            ]
          },
          "metadata": {
            "tags": []
          },
          "execution_count": 25
        }
      ]
    },
    {
      "cell_type": "markdown",
      "metadata": {
        "id": "UlCsd-2eTUyV"
      },
      "source": [
        "### **Question 6:** Write the above again from scratch where KA can be changed to DL, and 1000/9999 ranges can be provided"
      ]
    },
    {
      "cell_type": "code",
      "metadata": {
        "id": "vSXqTp8dOpxP"
      },
      "source": [
        "import random\n",
        "def fn_generate_number_plates(state_cd, num, start_range, end_range):\n",
        "  '''Function that generates 15 random KADDAADDDD number plates,where KA can be changed to DL, \n",
        "  D stands for a digit, and A stands for Capital alphabets and 1000/9999 ranges can be provided, \n",
        "  using using randint, random.choice and list comprehensions'''\n",
        "  if len(state_cd)==2 and (start_range>=1000 and start_range<=9999) and (end_range>=1000 and end_range<=9999 and start_range < end_range):\n",
        "     output = [state_cd + str(random.randint(10,99)) + chr(random.randint(65,90)) + chr(random.randint(65,90)) + str(random.randint(start_range,end_range)) for _ in range(num) ]\n",
        "     return output\n",
        "  else:\n",
        "    print(\"Input arguments invalid\")\n",
        "  \n"
      ],
      "execution_count": 26,
      "outputs": []
    },
    {
      "cell_type": "code",
      "metadata": {
        "id": "f-YWeSOyOrFQ",
        "outputId": "bf564080-98a9-451e-bc0c-2144d9da3620",
        "colab": {
          "base_uri": "https://localhost:8080/"
        }
      },
      "source": [
        "fn_generate_number_plates('DL',10, 1000, 2000)"
      ],
      "execution_count": 27,
      "outputs": [
        {
          "output_type": "execute_result",
          "data": {
            "text/plain": [
              "['DL81MM1895',\n",
              " 'DL39EY1412',\n",
              " 'DL77IE1008',\n",
              " 'DL70YC1321',\n",
              " 'DL57NJ1233',\n",
              " 'DL78MY1115',\n",
              " 'DL74YA1549',\n",
              " 'DL49OZ1628',\n",
              " 'DL65ML1895',\n",
              " 'DL29IE1916']"
            ]
          },
          "metadata": {
            "tags": []
          },
          "execution_count": 27
        }
      ]
    }
  ]
}
