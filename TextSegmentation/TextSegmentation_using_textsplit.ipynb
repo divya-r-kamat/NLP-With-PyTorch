{
  "nbformat": 4,
  "nbformat_minor": 0,
  "metadata": {
    "colab": {
      "name": "TextSegmentation_using_textsplit.ipynb",
      "provenance": [],
      "collapsed_sections": [],
      "mount_file_id": "1mRy2zXYFY-NjchwOcKvGYvrv6y3SIERb",
      "authorship_tag": "ABX9TyPUzV8lKhCF7tz6yYqOrnkD",
      "include_colab_link": true
    },
    "kernelspec": {
      "name": "python3",
      "display_name": "Python 3"
    },
    "language_info": {
      "name": "python"
    }
  },
  "cells": [
    {
      "cell_type": "markdown",
      "metadata": {
        "id": "view-in-github",
        "colab_type": "text"
      },
      "source": [
        "<a href=\"https://colab.research.google.com/github/divya-r-kamat/NLP-With-PyTorch/blob/master/TextSegmentation/TextSegmentation_using_textsplit.ipynb\" target=\"_parent\"><img src=\"https://colab.research.google.com/assets/colab-badge.svg\" alt=\"Open In Colab\"/></a>"
      ]
    },
    {
      "cell_type": "code",
      "metadata": {
        "colab": {
          "base_uri": "https://localhost:8080/"
        },
        "id": "UniFpJHbfJm3",
        "outputId": "b0eb3f55-12e5-4e05-9310-87aeed97115f"
      },
      "source": [
        "!pip install textsplit"
      ],
      "execution_count": 2,
      "outputs": [
        {
          "output_type": "stream",
          "text": [
            "Collecting textsplit\n",
            "  Downloading https://files.pythonhosted.org/packages/f8/f8/46e5dfcaac6974d6b13f91d91f9194ffa4eea08129684afb25fac18974af/textsplit-0.5-py3-none-any.whl\n",
            "Requirement already satisfied: numpy>=1.13.1 in /usr/local/lib/python3.7/dist-packages (from textsplit) (1.19.5)\n",
            "Collecting nose>=1.3.7\n",
            "\u001b[?25l  Downloading https://files.pythonhosted.org/packages/15/d8/dd071918c040f50fa1cf80da16423af51ff8ce4a0f2399b7bf8de45ac3d9/nose-1.3.7-py3-none-any.whl (154kB)\n",
            "\u001b[K     |████████████████████████████████| 163kB 20.2MB/s \n",
            "\u001b[?25hInstalling collected packages: nose, textsplit\n",
            "Successfully installed nose-1.3.7 textsplit-0.5\n"
          ],
          "name": "stdout"
        }
      ]
    },
    {
      "cell_type": "code",
      "metadata": {
        "id": "hIMaBAEUge5p"
      },
      "source": [
        "import os\n",
        "# import word2vec\n",
        "import pandas as pd\n",
        "import numpy as np\n",
        "from sklearn.feature_extraction.text import CountVectorizer\n",
        "import gensim\n",
        "import seaborn as sns\n",
        "from textsplit.tools import SimpleSentenceTokenizer\n",
        "sentence_tokenizer = SimpleSentenceTokenizer()"
      ],
      "execution_count": 3,
      "outputs": []
    },
    {
      "cell_type": "markdown",
      "metadata": {
        "id": "-1Uio6NgwxmS"
      },
      "source": [
        "Read the wrangled segments csv file"
      ]
    },
    {
      "cell_type": "code",
      "metadata": {
        "colab": {
          "base_uri": "https://localhost:8080/"
        },
        "id": "u1qrTXKEurKq",
        "outputId": "4b60c719-6379-429f-ff02-847a65a10066"
      },
      "source": [
        "segments = pd.read_csv(\"/content/drive/MyDrive/Omdena/MavinAI/outputs/data_annotated_segments.csv\")\n",
        "segments.info()"
      ],
      "execution_count": 4,
      "outputs": [
        {
          "output_type": "stream",
          "text": [
            "<class 'pandas.core.frame.DataFrame'>\n",
            "RangeIndex: 2936 entries, 0 to 2935\n",
            "Data columns (total 12 columns):\n",
            " #   Column                             Non-Null Count  Dtype \n",
            "---  ------                             --------------  ----- \n",
            " 0   text                               2936 non-null   object\n",
            " 1   article_cluster                    2936 non-null   int64 \n",
            " 2   id                                 2936 non-null   int64 \n",
            " 3   segment_number                     2936 non-null   int64 \n",
            " 4   segments_in_article                2936 non-null   int64 \n",
            " 5   title                              2936 non-null   object\n",
            " 6   Accountablity Score                2741 non-null   object\n",
            " 7   Fact-basedness Score               2920 non-null   object\n",
            " 8   Inaccuracy Score                   2730 non-null   object\n",
            " 9   Influenctial Score                 2753 non-null   object\n",
            " 10  Opinionated Score                  2748 non-null   object\n",
            " 11  Unobjectivity Tone of Voice Score  2735 non-null   object\n",
            "dtypes: int64(4), object(8)\n",
            "memory usage: 275.4+ KB\n"
          ],
          "name": "stdout"
        }
      ]
    },
    {
      "cell_type": "markdown",
      "metadata": {
        "id": "KxPGpiPDw3uI"
      },
      "source": [
        "Calculate the length of the text segment"
      ]
    },
    {
      "cell_type": "code",
      "metadata": {
        "colab": {
          "base_uri": "https://localhost:8080/",
          "height": 367
        },
        "id": "h7XElDKDu6iO",
        "outputId": "ac953422-9edc-4518-cf67-31a53dabf868"
      },
      "source": [
        "segments['text_len'] = segments['text'].astype(str).apply(len)\n",
        "sns.distplot(segments['text_len']).set_title(\"Text Length Distribution in segments\")\n"
      ],
      "execution_count": 5,
      "outputs": [
        {
          "output_type": "stream",
          "text": [
            "/usr/local/lib/python3.7/dist-packages/seaborn/distributions.py:2557: FutureWarning: `distplot` is a deprecated function and will be removed in a future version. Please adapt your code to use either `displot` (a figure-level function with similar flexibility) or `histplot` (an axes-level function for histograms).\n",
            "  warnings.warn(msg, FutureWarning)\n"
          ],
          "name": "stderr"
        },
        {
          "output_type": "execute_result",
          "data": {
            "text/plain": [
              "Text(0.5, 1.0, 'Text Length Distribution in segments')"
            ]
          },
          "metadata": {
            "tags": []
          },
          "execution_count": 5
        },
        {
          "output_type": "display_data",
          "data": {
            "image/png": "[encoded data removed]",
            "text/plain": [
              "<Figure size 432x288 with 1 Axes>"
            ]
          },
          "metadata": {
            "tags": [],
            "needs_background": "light"
          }
        }
      ]
    },
    {
      "cell_type": "code",
      "metadata": {
        "id": "dvfghizFDvHB"
      },
      "source": [
        "def sen_len(text):\n",
        "  number_of_sentences = sentence_tokenizer(text)\n",
        "  return(len(number_of_sentences))"
      ],
      "execution_count": 6,
      "outputs": []
    },
    {
      "cell_type": "code",
      "metadata": {
        "colab": {
          "base_uri": "https://localhost:8080/",
          "height": 286
        },
        "id": "VJilpYdjDEOj",
        "outputId": "f70bd172-632f-4ebf-fa0b-8c1b4800b253"
      },
      "source": [
        "segments['num_sen'] = segments['text'].astype(str).apply(sen_len)\n",
        "segments[['num_sen']].describe()"
      ],
      "execution_count": 7,
      "outputs": [
        {
          "output_type": "execute_result",
          "data": {
            "text/html": [
              "<div>\n",
              "<style scoped>\n",
              "    .dataframe tbody tr th:only-of-type {\n",
              "        vertical-align: middle;\n",
              "    }\n",
              "\n",
              "    .dataframe tbody tr th {\n",
              "        vertical-align: top;\n",
              "    }\n",
              "\n",
              "    .dataframe thead th {\n",
              "        text-align: right;\n",
              "    }\n",
              "</style>\n",
              "<table border=\"1\" class=\"dataframe\">\n",
              "  <thead>\n",
              "    <tr style=\"text-align: right;\">\n",
              "      <th></th>\n",
              "      <th>num_sen</th>\n",
              "    </tr>\n",
              "  </thead>\n",
              "  <tbody>\n",
              "    <tr>\n",
              "      <th>count</th>\n",
              "      <td>2936.000000</td>\n",
              "    </tr>\n",
              "    <tr>\n",
              "      <th>mean</th>\n",
              "      <td>5.715940</td>\n",
              "    </tr>\n",
              "    <tr>\n",
              "      <th>std</th>\n",
              "      <td>4.051336</td>\n",
              "    </tr>\n",
              "    <tr>\n",
              "      <th>min</th>\n",
              "      <td>0.000000</td>\n",
              "    </tr>\n",
              "    <tr>\n",
              "      <th>25%</th>\n",
              "      <td>4.000000</td>\n",
              "    </tr>\n",
              "    <tr>\n",
              "      <th>50%</th>\n",
              "      <td>5.000000</td>\n",
              "    </tr>\n",
              "    <tr>\n",
              "      <th>75%</th>\n",
              "      <td>6.000000</td>\n",
              "    </tr>\n",
              "    <tr>\n",
              "      <th>max</th>\n",
              "      <td>58.000000</td>\n",
              "    </tr>\n",
              "  </tbody>\n",
              "</table>\n",
              "</div>"
            ],
            "text/plain": [
              "           num_sen\n",
              "count  2936.000000\n",
              "mean      5.715940\n",
              "std       4.051336\n",
              "min       0.000000\n",
              "25%       4.000000\n",
              "50%       5.000000\n",
              "75%       6.000000\n",
              "max      58.000000"
            ]
          },
          "metadata": {
            "tags": []
          },
          "execution_count": 7
        }
      ]
    },
    {
      "cell_type": "markdown",
      "metadata": {
        "id": "BcoEjIsAEEja"
      },
      "source": [
        "Maximum number of sentences in a segment is 58, mean is ~5.7 and median sentences in a segment is 5"
      ]
    },
    {
      "cell_type": "code",
      "metadata": {
        "colab": {
          "base_uri": "https://localhost:8080/",
          "height": 286
        },
        "id": "Mi-_YYFHv7yx",
        "outputId": "74807da6-79d6-47b0-a665-8ee7bde6e9d8"
      },
      "source": [
        "segments[['text_len']].describe()"
      ],
      "execution_count": 8,
      "outputs": [
        {
          "output_type": "execute_result",
          "data": {
            "text/html": [
              "<div>\n",
              "<style scoped>\n",
              "    .dataframe tbody tr th:only-of-type {\n",
              "        vertical-align: middle;\n",
              "    }\n",
              "\n",
              "    .dataframe tbody tr th {\n",
              "        vertical-align: top;\n",
              "    }\n",
              "\n",
              "    .dataframe thead th {\n",
              "        text-align: right;\n",
              "    }\n",
              "</style>\n",
              "<table border=\"1\" class=\"dataframe\">\n",
              "  <thead>\n",
              "    <tr style=\"text-align: right;\">\n",
              "      <th></th>\n",
              "      <th>text_len</th>\n",
              "    </tr>\n",
              "  </thead>\n",
              "  <tbody>\n",
              "    <tr>\n",
              "      <th>count</th>\n",
              "      <td>2936.000000</td>\n",
              "    </tr>\n",
              "    <tr>\n",
              "      <th>mean</th>\n",
              "      <td>740.577657</td>\n",
              "    </tr>\n",
              "    <tr>\n",
              "      <th>std</th>\n",
              "      <td>486.323426</td>\n",
              "    </tr>\n",
              "    <tr>\n",
              "      <th>min</th>\n",
              "      <td>11.000000</td>\n",
              "    </tr>\n",
              "    <tr>\n",
              "      <th>25%</th>\n",
              "      <td>520.000000</td>\n",
              "    </tr>\n",
              "    <tr>\n",
              "      <th>50%</th>\n",
              "      <td>639.000000</td>\n",
              "    </tr>\n",
              "    <tr>\n",
              "      <th>75%</th>\n",
              "      <td>792.250000</td>\n",
              "    </tr>\n",
              "    <tr>\n",
              "      <th>max</th>\n",
              "      <td>5305.000000</td>\n",
              "    </tr>\n",
              "  </tbody>\n",
              "</table>\n",
              "</div>"
            ],
            "text/plain": [
              "          text_len\n",
              "count  2936.000000\n",
              "mean    740.577657\n",
              "std     486.323426\n",
              "min      11.000000\n",
              "25%     520.000000\n",
              "50%     639.000000\n",
              "75%     792.250000\n",
              "max    5305.000000"
            ]
          },
          "metadata": {
            "tags": []
          },
          "execution_count": 8
        }
      ]
    },
    {
      "cell_type": "markdown",
      "metadata": {
        "id": "n3BBnZXYw_r1"
      },
      "source": [
        "Majority of the segments are of length ~792 , mean length is 740 and median length is 639. Note: this includes punctuation and stop words as well"
      ]
    },
    {
      "cell_type": "code",
      "metadata": {
        "id": "-W0LT8Z0gTTW"
      },
      "source": [
        "%matplotlib inline\n",
        "from textsplit.tools import get_penalty, get_segments\n",
        "from textsplit.algorithm import split_optimal, split_greedy, get_total"
      ],
      "execution_count": 9,
      "outputs": []
    },
    {
      "cell_type": "markdown",
      "metadata": {
        "id": "QDvoUABuybvE"
      },
      "source": [
        "Load Google News Vector"
      ]
    },
    {
      "cell_type": "code",
      "metadata": {
        "colab": {
          "base_uri": "https://localhost:8080/"
        },
        "id": "PSeqgy_jhAz6",
        "outputId": "7ee0b3bd-7d68-4863-95b0-2c8481abbd9b"
      },
      "source": [
        "word2vec = gensim.models.KeyedVectors.load_word2vec_format(\"/content/drive/My Drive/text-segmentation/data/word2vec/GoogleNews-vectors-negative300.bin\", binary=True)\n",
        "wrdvecs = pd.DataFrame(word2vec.vectors, index=word2vec.vocab)\n",
        "print(wrdvecs.shape)"
      ],
      "execution_count": 10,
      "outputs": [
        {
          "output_type": "stream",
          "text": [
            "(3000000, 300)\n"
          ],
          "name": "stdout"
        }
      ]
    },
    {
      "cell_type": "markdown",
      "metadata": {
        "id": "rrcQOy6y8wQF"
      },
      "source": [
        "## Optimal Segmenatation"
      ]
    },
    {
      "cell_type": "code",
      "metadata": {
        "id": "B7yCRsuMjsgy"
      },
      "source": [
        "len_sen_per_segment = 5 # segment target length in sentences\n",
        "def text_segmentation(text,len_sen_per_segment,wordvec = wrdvecs):\n",
        "      sentenced_text = sentence_tokenizer(text)\n",
        "      vecr = CountVectorizer(vocabulary=wrdvecs.index)\n",
        "\n",
        "      sentence_vectors = vecr.transform(sentenced_text).dot(wordvec)\n",
        "\n",
        "      #Determine penalty for segments having length `sentence_len` per segment on average. \n",
        "      #This is achieved by stochastically rounding the expected number of splits per document `max_splits` \n",
        "      # and taking the minimal split_gain that occurs in split_greedy given `max_splits\n",
        "      penalty = get_penalty([sentence_vectors], len_sen_per_segment)\n",
        "      print('penalty %4.2f' % penalty)\n",
        "\n",
        "\n",
        "      optimal_segmentation = split_optimal(sentence_vectors, penalty, seg_limit=350)\n",
        "      segmented_text = get_segments(sentenced_text, optimal_segmentation)\n",
        "\n",
        "      print('%d sentences, %d segments, avg %4.2f sentences per segment' % (\n",
        "          len(sentenced_text), len(segmented_text), len(sentenced_text) / len(segmented_text)))\n",
        "\n",
        "      print('\\n\\n'+'*' * 30 +'Segmented Text:' + '*' * 30+'\\n\\n')\n",
        "      \n",
        "      for i, segment_sentences in enumerate(segmented_text):\n",
        "        segment_str = ' '.join(segment_sentences) \n",
        "        print(segment_str + '\\n'+'=' * 30 + f'Segment{i+1}' + '=' * 30)"
      ],
      "execution_count": 16,
      "outputs": []
    },
    {
      "cell_type": "markdown",
      "metadata": {
        "id": "nWHwSLGHEykO"
      },
      "source": [
        "## Inference"
      ]
    },
    {
      "cell_type": "code",
      "metadata": {
        "colab": {
          "base_uri": "https://localhost:8080/"
        },
        "id": "xNQOzejdzNrT",
        "outputId": "9ddb1622-ee0f-4b99-c6b4-3ebae58944b5"
      },
      "source": [
        "!pip install newspaper3k"
      ],
      "execution_count": 17,
      "outputs": [
        {
          "output_type": "stream",
          "text": [
            "Requirement already satisfied: newspaper3k in /usr/local/lib/python3.7/dist-packages (0.2.8)\n",
            "Requirement already satisfied: tinysegmenter==0.3 in /usr/local/lib/python3.7/dist-packages (from newspaper3k) (0.3)\n",
            "Requirement already satisfied: nltk>=3.2.1 in /usr/local/lib/python3.7/dist-packages (from newspaper3k) (3.2.5)\n",
            "Requirement already satisfied: Pillow>=3.3.0 in /usr/local/lib/python3.7/dist-packages (from newspaper3k) (7.1.2)\n",
            "Requirement already satisfied: beautifulsoup4>=4.4.1 in /usr/local/lib/python3.7/dist-packages (from newspaper3k) (4.6.3)\n",
            "Requirement already satisfied: python-dateutil>=2.5.3 in /usr/local/lib/python3.7/dist-packages (from newspaper3k) (2.8.1)\n",
            "Requirement already satisfied: PyYAML>=3.11 in /usr/local/lib/python3.7/dist-packages (from newspaper3k) (3.13)\n",
            "Requirement already satisfied: feedparser>=5.2.1 in /usr/local/lib/python3.7/dist-packages (from newspaper3k) (6.0.2)\n",
            "Requirement already satisfied: lxml>=3.6.0 in /usr/local/lib/python3.7/dist-packages (from newspaper3k) (4.2.6)\n",
            "Requirement already satisfied: cssselect>=0.9.2 in /usr/local/lib/python3.7/dist-packages (from newspaper3k) (1.1.0)\n",
            "Requirement already satisfied: jieba3k>=0.35.1 in /usr/local/lib/python3.7/dist-packages (from newspaper3k) (0.35.1)\n",
            "Requirement already satisfied: requests>=2.10.0 in /usr/local/lib/python3.7/dist-packages (from newspaper3k) (2.23.0)\n",
            "Requirement already satisfied: tldextract>=2.0.1 in /usr/local/lib/python3.7/dist-packages (from newspaper3k) (3.1.0)\n",
            "Requirement already satisfied: feedfinder2>=0.0.4 in /usr/local/lib/python3.7/dist-packages (from newspaper3k) (0.0.4)\n",
            "Requirement already satisfied: six in /usr/local/lib/python3.7/dist-packages (from nltk>=3.2.1->newspaper3k) (1.15.0)\n",
            "Requirement already satisfied: sgmllib3k in /usr/local/lib/python3.7/dist-packages (from feedparser>=5.2.1->newspaper3k) (1.0.0)\n",
            "Requirement already satisfied: idna<3,>=2.5 in /usr/local/lib/python3.7/dist-packages (from requests>=2.10.0->newspaper3k) (2.10)\n",
            "Requirement already satisfied: certifi>=2017.4.17 in /usr/local/lib/python3.7/dist-packages (from requests>=2.10.0->newspaper3k) (2020.12.5)\n",
            "Requirement already satisfied: urllib3!=1.25.0,!=1.25.1,<1.26,>=1.21.1 in /usr/local/lib/python3.7/dist-packages (from requests>=2.10.0->newspaper3k) (1.24.3)\n",
            "Requirement already satisfied: chardet<4,>=3.0.2 in /usr/local/lib/python3.7/dist-packages (from requests>=2.10.0->newspaper3k) (3.0.4)\n",
            "Requirement already satisfied: filelock>=3.0.8 in /usr/local/lib/python3.7/dist-packages (from tldextract>=2.0.1->newspaper3k) (3.0.12)\n",
            "Requirement already satisfied: requests-file>=1.4 in /usr/local/lib/python3.7/dist-packages (from tldextract>=2.0.1->newspaper3k) (1.5.1)\n"
          ],
          "name": "stdout"
        }
      ]
    },
    {
      "cell_type": "code",
      "metadata": {
        "id": "BCI1WeejzVD2"
      },
      "source": [
        "from newspaper import Article"
      ],
      "execution_count": 11,
      "outputs": []
    },
    {
      "cell_type": "code",
      "metadata": {
        "id": "hUrzn-OtzhkJ"
      },
      "source": [
        "def get_article_text(url):\n",
        "    article=Article(url)\n",
        "    article.download()\n",
        "    article.parse()\n",
        "    return article.text"
      ],
      "execution_count": 12,
      "outputs": []
    },
    {
      "cell_type": "code",
      "metadata": {
        "colab": {
          "base_uri": "https://localhost:8080/"
        },
        "id": "8Y98f5NV5iZN",
        "outputId": "265a8b5e-813b-4cdf-fa5c-d07d5a390ac4"
      },
      "source": [
        "url='https://www.nytimes.com/2021/04/06/us/politics/vaccine-passports-coronavirus.html'\n",
        "text = get_article_text(url)\n",
        "print(text)"
      ],
      "execution_count": 18,
      "outputs": [
        {
          "output_type": "stream",
          "text": [
            "But as the nation struggles to emerge from the worst public health crisis in a century, the arrival of digital vaccine verification apps — a modern version of the World Health Organization’s “yellow card” that provides international proof of yellow fever vaccination — has generated intense debate over whether proof of vaccination can be required at all.\n",
            "\n",
            "On Tuesday, Gov. Greg Abbott of Texas became the latest Republican governor to issue an executive order barring state agencies and private entities receiving funds from the state from requiring proof of vaccination. The World Health Organization, citing equity concerns, also said on Tuesday that it currently did not support mandatory proof of vaccination for international travel.\n",
            "\n",
            "Others are moving forward. Universities like Rutgers, Brown and Cornell have already said they will require proof of vaccination for students this fall. The Miami Heat this week became the first team in the N.B.A. to open special “vaccinated only” sections.\n",
            "\n",
            "And though businesses have yet to announce outright bans on unvaccinated clientele, some states and technology firms are preparing: At least 17 companies or nonprofits are developing websites or apps that might be used by sporting venues, restaurants and other businesses seeking to keep their customers and employees safe, according to Joel White, the executive director of the Health Innovation Alliance, a broad coalition of health providers, tech companies, employers and insurers.\n",
            "\n",
            "Airlines including JetBlue and United are also testing the “CommonPass” app, developed by The Commons Project, a nonprofit trust dedicated to using technology to help people control their personal information. Airlines for America, the trade group for the nation’s major carriers, opposes making proof of vaccination mandatory for air travel but would like a clean, easy way for travelers to show their status. Other countries may require proof of vaccination, and the apps can also be used to prove negative coronavirus test results, which the United States requires for international travelers.\n",
            "\n",
            "“On the face of things, requiring proof of vaccination seems a lot like, ‘No shoes, no shirt, no service,’” said Mark Tushnet, a law professor at Harvard.\n",
            "\n",
            "The Centers for Disease Control and Prevention already provides everyone who is vaccinated a card that can serve as proof, and people can always carry paper records of negative coronavirus tests. But industry leaders liken digital vaccination apps to security screening services like TSA PreCheck; it is not required, but it might make the travel experience smoother.\n"
          ],
          "name": "stdout"
        }
      ]
    },
    {
      "cell_type": "code",
      "metadata": {
        "colab": {
          "base_uri": "https://localhost:8080/"
        },
        "id": "eAtZBblT78lm",
        "outputId": "312baab2-f0a8-4b96-acd4-476c56119f2b"
      },
      "source": [
        "text_segmentation(text,len_sen_per_segment)"
      ],
      "execution_count": 19,
      "outputs": [
        {
          "output_type": "stream",
          "text": [
            "penalty 6.21\n",
            "14 sentences, 3 segments, avg 4.67 sentences per segment\n",
            "\n",
            "\n",
            "******************************Segmented Text:******************************\n",
            "\n",
            "\n",
            "But as the nation struggles to emerge from the worst public health crisis in a century, the arrival of digital vaccine verification apps — a modern version of the World Health Organization’s “yellow card” that provides international proof of yellow fever vaccination — has generated intense debate over whether proof of vaccination can be required at all.\n",
            "\n",
            " On Tuesday, Gov.  Greg Abbott of Texas became the latest Republican governor to issue an executive order barring state agencies and private entities receiving funds from the state from requiring proof of vaccination.  The World Health Organization, citing equity concerns, also said on Tuesday that it currently did not support mandatory proof of vaccination for international travel.\n",
            "\n",
            " Others are moving forward.  Universities like Rutgers, Brown and Cornell have already said they will require proof of vaccination for students this fall.  The Miami Heat this week became the first team in the N.B.A.  to open special “vaccinated only” sections.\n",
            "\n",
            "\n",
            "==============================Segment1==============================\n",
            "And though businesses have yet to announce outright bans on unvaccinated clientele, some states and technology firms are preparing: At least 17 companies or nonprofits are developing websites or apps that might be used by sporting venues, restaurants and other businesses seeking to keep their customers and employees safe, according to Joel White, the executive director of the Health Innovation Alliance, a broad coalition of health providers, tech companies, employers and insurers.\n",
            "\n",
            " Airlines including JetBlue and United are also testing the “CommonPass” app, developed by The Commons Project, a nonprofit trust dedicated to using technology to help people control their personal information. \n",
            "==============================Segment2==============================\n",
            "Airlines for America, the trade group for the nation’s major carriers, opposes making proof of vaccination mandatory for air travel but would like a clean, easy way for travelers to show their status.  Other countries may require proof of vaccination, and the apps can also be used to prove negative coronavirus test results, which the United States requires for international travelers.\n",
            "\n",
            "“ On the face of things, requiring proof of vaccination seems a lot like, ‘No shoes, no shirt, no service,’” said Mark Tushnet, a law professor at Harvard.\n",
            "\n",
            " The Centers for Disease Control and Prevention already provides everyone who is vaccinated a card that can serve as proof, and people can always carry paper records of negative coronavirus tests. \n",
            "==============================Segment3==============================\n"
          ],
          "name": "stdout"
        }
      ]
    },
    {
      "cell_type": "code",
      "metadata": {
        "id": "iwigYcwqymH6"
      },
      "source": [
        "text = \"\"\"NEW YORK: A New York Times columnist on Thursday sold one of his articles in digital form for $563,000, the latest example of the craze surrounding \"non fungible tokens,\" which collectors are snapping up.Keven Roose's article entitled \"Buy This Column on the Blockchain\" was itself aimed at trying to test the market as to what sort of items would sell in the form of an \"NFT.\"\n",
        "A non-fungible token (NFT) is a digital object, such as a drawing, piece of music, photo, or video, with a certificate of authenticity created by blockchain technology.This authentication by a network of computers is considered inviolable.The virtual object, which is actually a computer file, can be exchanged or sold with its certificate.\n",
        "NFTs have become popular in the past six months, as wealthy collectors turn to the digital market during the pandemic.\n",
        "\n",
        "On Monday, the first message ever posted on Twitter sold for $2.9 million when its sender, Twitter co-founder and chief Jack Dorsey, accepted the winning bid at auction.Earlier this month, a digital collage by American artist Beeple sold for $69.3 million at Christie's, setting a new record for an NFT. \n",
        "\"Why can't a journalist join the NFT party, too?\" asked Roose in his column.At the end of the 24-hour auction, a collector calling himself Farzin won the article with 350 Ethereum, a major cryptocurrency, worth $563,000.\"Fully just staring at my monitor laughing uncontrollably,\" Roose, a tech columnist, wrote on Twitter after the sale.\n",
        "Roose had indicated that the proceeds, after the 15 percent fee deducted by the Foundation platform on which the auction was organized, would go to charities supported by The New York Times.\"\"\"\n"
      ],
      "execution_count": 20,
      "outputs": []
    },
    {
      "cell_type": "code",
      "metadata": {
        "colab": {
          "base_uri": "https://localhost:8080/"
        },
        "id": "3R9qqrV4FSK4",
        "outputId": "fd965b21-14e7-43dd-b7c0-93f0981cbbdd"
      },
      "source": [
        "text_segmentation(text,len_sen_per_segment)"
      ],
      "execution_count": 21,
      "outputs": [
        {
          "output_type": "stream",
          "text": [
            "penalty 6.66\n",
            "7 sentences, 2 segments, avg 3.50 sentences per segment\n",
            "\n",
            "\n",
            "******************************Segmented Text:******************************\n",
            "\n",
            "\n",
            "NEW YORK: A New York Times columnist on Thursday sold one of his articles in digital form for $563,000, the latest example of the craze surrounding \"non fungible tokens,\" which collectors are snapping up.Keven Roose's article entitled \"Buy This Column on the Blockchain\" was itself aimed at trying to test the market as to what sort of items would sell in the form of an \"NFT.\"\n",
            " A non-fungible token (NFT) is a digital object, such as a drawing, piece of music, photo, or video, with a certificate of authenticity created by blockchain technology.This authentication by a network of computers is considered inviolable.The virtual object, which is actually a computer file, can be exchanged or sold with its certificate.\n",
            " NFTs have become popular in the past six months, as wealthy collectors turn to the digital market during the pandemic.\n",
            "\n",
            "\n",
            "==============================Segment1==============================\n",
            "On Monday, the first message ever posted on Twitter sold for $2.9 million when its sender, Twitter co-founder and chief Jack Dorsey, accepted the winning bid at auction.Earlier this month, a digital collage by American artist Beeple sold for $69.3 million at Christie's, setting a new record for an NFT. \n",
            "\" Why can't a journalist join the NFT party, too?\"  asked Roose in his column.At the end of the 24-hour auction, a collector calling himself Farzin won the article with 350 Ethereum, a major cryptocurrency, worth $563,000.\" Fully just staring at my monitor laughing uncontrollably,\" Roose, a tech columnist, wrote on Twitter after the sale.\n",
            "\n",
            "==============================Segment2==============================\n"
          ],
          "name": "stdout"
        }
      ]
    },
    {
      "cell_type": "markdown",
      "metadata": {
        "id": "p8M8zT9Q1kEj"
      },
      "source": [
        "## Output as dictionary"
      ]
    },
    {
      "cell_type": "code",
      "metadata": {
        "id": "Yac_CjmNFSoL"
      },
      "source": [
        "len_sen_per_segment = 5 # segment target length in sentences\n",
        "def text_segmentation_dict(text,len_sen_per_segment,wordvec = wrdvecs):\n",
        "      sentenced_text = sentence_tokenizer(text)\n",
        "      vecr = CountVectorizer(vocabulary=wrdvecs.index)\n",
        "\n",
        "      sentence_vectors = vecr.transform(sentenced_text).dot(wordvec)\n",
        "\n",
        "      #Determine penalty for segments having length `sentence_len` per segment on average. \n",
        "      #This is achieved by stochastically rounding the expected number of splits per document `max_splits` \n",
        "      # and taking the minimal split_gain that occurs in split_greedy given `max_splits\n",
        "      penalty = get_penalty([sentence_vectors], len_sen_per_segment)\n",
        "      print('penalty %4.2f' % penalty)\n",
        "\n",
        "\n",
        "      optimal_segmentation = split_optimal(sentence_vectors, penalty, seg_limit=350)\n",
        "      segmented_text = get_segments(sentenced_text, optimal_segmentation)\n",
        "      \n",
        "\n",
        "      print('%d sentences, %d segments, avg %4.2f sentences per segment' % (\n",
        "          len(sentenced_text), len(segmented_text), len(sentenced_text) / len(segmented_text)))\n",
        "\n",
        "      segments = {}\n",
        "      for i, segment_sentences in enumerate(segmented_text):\n",
        "        segment_str = ' '.join(segment_sentences) \n",
        "        segments['Segment' + str(i+1)] = segment_str\n",
        "        #print(segment_str + '\\n'+'=' * 30 + f'Segment{i+1}' + '=' * 30)\n",
        "      print(segments)"
      ],
      "execution_count": 13,
      "outputs": []
    },
    {
      "cell_type": "code",
      "metadata": {
        "id": "oqJAIcSX40Su"
      },
      "source": [
        "url='https://www.nytimes.com/2021/04/06/us/politics/vaccine-passports-coronavirus.html'\n",
        "text = get_article_text(url)"
      ],
      "execution_count": 14,
      "outputs": []
    },
    {
      "cell_type": "code",
      "metadata": {
        "colab": {
          "base_uri": "https://localhost:8080/"
        },
        "id": "qBtwwRQY2ZSx",
        "outputId": "ef43af27-f242-43ee-9a5e-d0ea768a4bbb"
      },
      "source": [
        "text_segmentation_dict(text,len_sen_per_segment)"
      ],
      "execution_count": 15,
      "outputs": [
        {
          "output_type": "stream",
          "text": [
            "penalty 6.21\n",
            "14 sentences, 3 segments, avg 4.67 sentences per segment\n",
            "{'Segment1': 'But as the nation struggles to emerge from the worst public health crisis in a century, the arrival of digital vaccine verification apps — a modern version of the World Health Organization’s “yellow card” that provides international proof of yellow fever vaccination — has generated intense debate over whether proof of vaccination can be required at all.\\n\\n On Tuesday, Gov.  Greg Abbott of Texas became the latest Republican governor to issue an executive order barring state agencies and private entities receiving funds from the state from requiring proof of vaccination.  The World Health Organization, citing equity concerns, also said on Tuesday that it currently did not support mandatory proof of vaccination for international travel.\\n\\n Others are moving forward.  Universities like Rutgers, Brown and Cornell have already said they will require proof of vaccination for students this fall.  The Miami Heat this week became the first team in the N.B.A.  to open special “vaccinated only” sections.\\n\\n', 'Segment2': 'And though businesses have yet to announce outright bans on unvaccinated clientele, some states and technology firms are preparing: At least 17 companies or nonprofits are developing websites or apps that might be used by sporting venues, restaurants and other businesses seeking to keep their customers and employees safe, according to Joel White, the executive director of the Health Innovation Alliance, a broad coalition of health providers, tech companies, employers and insurers.\\n\\n Airlines including JetBlue and United are also testing the “CommonPass” app, developed by The Commons Project, a nonprofit trust dedicated to using technology to help people control their personal information. ', 'Segment3': 'Airlines for America, the trade group for the nation’s major carriers, opposes making proof of vaccination mandatory for air travel but would like a clean, easy way for travelers to show their status.  Other countries may require proof of vaccination, and the apps can also be used to prove negative coronavirus test results, which the United States requires for international travelers.\\n\\n“ On the face of things, requiring proof of vaccination seems a lot like, ‘No shoes, no shirt, no service,’” said Mark Tushnet, a law professor at Harvard.\\n\\n The Centers for Disease Control and Prevention already provides everyone who is vaccinated a card that can serve as proof, and people can always carry paper records of negative coronavirus tests. '}\n"
          ],
          "name": "stdout"
        }
      ]
    },
    {
      "cell_type": "code",
      "metadata": {
        "id": "d-0JLrkW3SAP"
      },
      "source": [
        ""
      ],
      "execution_count": null,
      "outputs": []
    }
  ]
}