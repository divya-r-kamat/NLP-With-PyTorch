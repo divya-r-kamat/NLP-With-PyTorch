{
  "nbformat": 4,
  "nbformat_minor": 0,
  "metadata": {
    "colab": {
      "name": "text-segmentation-greedyalgorithm.ipynb",
      "provenance": [],
      "collapsed_sections": [],
      "authorship_tag": "ABX9TyNZiDdo+S/ALIHje5DrHFeB",
      "include_colab_link": true
    },
    "kernelspec": {
      "name": "python3",
      "display_name": "Python 3"
    },
    "language_info": {
      "name": "python"
    }
  },
  "cells": [
    {
      "cell_type": "markdown",
      "metadata": {
        "id": "view-in-github",
        "colab_type": "text"
      },
      "source": [
        "<a href=\"https://colab.research.google.com/github/divya-r-kamat/NLP-With-PyTorch/blob/master/TextSegmentation/text_segmentation_greedyalgorithm.ipynb\" target=\"_parent\"><img src=\"https://colab.research.google.com/assets/colab-badge.svg\" alt=\"Open In Colab\"/></a>"
      ]
    },
    {
      "cell_type": "code",
      "metadata": {
        "id": "I_U8EPrKfwtR"
      },
      "source": [
        "import spacy\n",
        "import nltk\n",
        "import os\n",
        "from gensim.models import KeyedVectors\n",
        "import numpy as np\n",
        "from nltk.corpus import stopwords\n",
        "from sklearn.feature_extraction.text import TfidfVectorizer\n",
        "import string\n",
        "import math\n",
        "from scipy import spatial\n",
        "import matplotlib.pyplot as plt"
      ],
      "execution_count": 1,
      "outputs": []
    },
    {
      "cell_type": "code",
      "metadata": {
        "id": "ChwtDJHfjEOm"
      },
      "source": [
        "class text_segmentation_class:\n",
        "\n",
        "    def __init__(self, file_name, glove_file):\n",
        "\n",
        "        self.voc_dict = None\n",
        "        self.model = None\n",
        "        self.emb_sums = None\n",
        "        self.distances= None\n",
        "        self.avg_dist= None\n",
        "        self.seg_text = None\n",
        "\n",
        "        self.stop_words = set(stopwords.words('english'))\n",
        "        self.glove_file = glove_file\n",
        "        self.file_name = file_name\n",
        "        self.doc = self.read_document()\n",
        "        self.all_doc_tokens, self.doc_tokens, self.token_index = self.tokenize_doc()\n",
        "        self.voc_words, self.voc_freqs, self.total_freq = self.get_word_stats()\n",
        "\n",
        "        return;\n",
        "\n",
        "    def read_document(self):\n",
        "        '''\n",
        "        read documents\n",
        "        '''\n",
        "\n",
        "        try:\n",
        "            with open(self.file_name, 'r') as file:\n",
        "                self.doc = file.read()\n",
        "        except IOError:\n",
        "            print(\"Could not read file:\", self.file_name)\n",
        "            self.doc= None\n",
        "\n",
        "        return self.doc\n",
        "\n",
        "    def tokenize_doc(self):\n",
        "        '''\n",
        "        create voc dictionary containing document words\n",
        "        '''\n",
        "        # [To Do: look into n_grams]\n",
        "\n",
        "        all_doc_tokens = nltk.word_tokenize(self.doc)\n",
        "\n",
        "        doc_tokens = []\n",
        "        token_index = []\n",
        "        for i, w in enumerate(all_doc_tokens):\n",
        "            if not((w in self.stop_words) or (w in string.punctuation)):\n",
        "                doc_tokens.append(w.lower())\n",
        "                # keep track of where each word falls in the original text\n",
        "                token_index.append(i)\n",
        "\n",
        "        return all_doc_tokens, doc_tokens, token_index\n",
        "\n",
        "    def get_word_stats(self):\n",
        "        '''\n",
        "        get the frequency of each unique word (lower case, no stemming) and the sum of all frequencies for all words\n",
        "        '''\n",
        "        voc_words = set(self.doc_tokens)\n",
        "        voc_freqs = dict([(i, self.doc_tokens.count(i)) for i in voc_words])\n",
        "        total_freq = sum(voc_freqs.values())\n",
        "\n",
        "        return voc_words, voc_freqs, total_freq\n",
        "\n",
        "    def delete_word_from_stats(self, word):\n",
        "\n",
        "        '''\n",
        "        get the frequency of each unique word (lower case, no stemming) and the sum of all frequencies for all words\n",
        "        '''\n",
        "        print(\"removing \", word, len(self.doc_tokens), len(self.voc_words))\n",
        "        if self.voc_words is not None:\n",
        "            self.doc_tokens =  [w for w in self.doc_tokens if w != word]\n",
        "            self.voc_words.remove(word)\n",
        "            self.total_freq = self.total_freq - self.voc_freqs[word]\n",
        "            self.voc_freqs.pop(word, None)\n",
        "            print(\"deleted\", len(self.doc_tokens), len(self.voc_words))\n",
        "\n",
        "\n",
        "        return ;\n",
        "\n",
        "    def load_language_model(self):\n",
        "\n",
        "        # load the Stanford GloVe model\n",
        "        model = KeyedVectors.load_word2vec_format(self.glove_file, binary=False)\n",
        "\n",
        "        return model\n",
        "\n",
        "    def get_word_embed_and_entropy(self):\n",
        "        '''\n",
        "        Get the embeddings and entropy for each word in the document\n",
        "        note: at this point we are only measuring the entropy of a word from its within document frequency.\n",
        "              Ideally we would use a larger corpus on similar topics as the input documents to get better word entropy measures.\n",
        "        '''\n",
        "\n",
        "        # Load the language model\n",
        "        if self.model is None:\n",
        "            self.model = self.load_language_model();\n",
        "\n",
        "        if self.voc_dict is None:\n",
        "            self.voc_dict = {}\n",
        "\n",
        "        # get word embeddings\n",
        "        id = 0 if (len(self.voc_dict.keys()))==0 else max([self.voc_dict[word]['id'] for word in self.voc_dict.keys()])+1\n",
        "        voc_word_list = self.voc_words.copy()\n",
        "        for word in voc_word_list:\n",
        "            word = word.lower()\n",
        "            if not(word in self.model.vocab):\n",
        "                self.delete_word_from_stats(word)\n",
        "            else:\n",
        "                if not(word in self.voc_dict.keys()):\n",
        "                    self.voc_dict[word]={}\n",
        "                self.voc_dict[word]['id'] = id\n",
        "                self.voc_dict[word]['em'] = self.model[word.lower()]\n",
        "                self.voc_dict[word]['entropy']= (self.voc_freqs[word]/self.total_freq)*(-math.log(self.voc_freqs[word]/self.total_freq))\n",
        "                id = id+1\n",
        "\n",
        "        return ;\n",
        "\n",
        "    def get_embedding_sums(self):\n",
        "\n",
        "        if self.voc_dict is None:\n",
        "            self.get_word_embed_and_entropy()\n",
        "\n",
        "        # calculate embedding vec summs at all points\n",
        "        emb_sums = np.empty([len(self.doc_tokens), len(self.doc_tokens)], object)\n",
        "\n",
        "        # calculate first row\n",
        "        i=0\n",
        "        for j in range(i, len(self.doc_tokens)):\n",
        "            word = self.doc_tokens[j]\n",
        "            if (j-1)>=0:\n",
        "                emb_sums[i, j] = emb_sums[i, j-1] + (self.voc_dict[word]['em'] * self.voc_dict[word]['entropy'])\n",
        "            else:\n",
        "                emb_sums[i, j] = self.voc_dict[word]['em'] * self.voc_dict[word]['entropy']\n",
        "\n",
        "        for i in range(1, len(self.doc_tokens)):\n",
        "            for j in range(i, len(self.doc_tokens)):\n",
        "                emb_sums[i, j] = emb_sums[0, j] - emb_sums[0, i]\n",
        "\n",
        "        self.emb_sums = emb_sums\n",
        "\n",
        "        return self.emb_sums\n",
        "\n",
        "    def get_weighted_dist(self):\n",
        "        '''\n",
        "        calculate the weighted distance between the centroid of a segment and the embeddings in that\n",
        "        segment for all possible segments in the document\n",
        "        distances are weighted by the entropy of the word to give more significance to potentially topical words.\n",
        "        '''\n",
        "\n",
        "        distances = np.empty([len(self.doc_tokens), len(self.doc_tokens)])\n",
        "\n",
        "        if self.emb_sums is None:\n",
        "            self.get_embedding_sums()\n",
        "\n",
        "        # calculate first row\n",
        "        i=0\n",
        "        for j in range(i, len(self.doc_tokens)):\n",
        "            centroid = self.emb_sums[i, j]/(j-i+1)\n",
        "            if (j-1)>=0:\n",
        "                distances[i, j] =  distances[i, j-1] + self.voc_dict[self.doc_tokens[j]]['entropy'] *\\\n",
        "                                   spatial.distance.cosine(centroid, self.voc_dict[self.doc_tokens[j]]['em'])\n",
        "            else:\n",
        "                distances[i, j] =  self.voc_dict[self.doc_tokens[j]]['entropy'] *\\\n",
        "                                   spatial.distance.cosine(centroid, self.voc_dict[self.doc_tokens[j]]['em'])\n",
        "\n",
        "        for i in range(1, len(self.doc_tokens)):\n",
        "            for j in range(i+1, len(self.doc_tokens)):\n",
        "                distances[i, j] = distances[0, j] - distances[0, i]\n",
        "\n",
        "        self.distances = distances\n",
        "\n",
        "        return self.distances\n",
        "\n",
        "    def get_avg_dist(self):\n",
        "        '''\n",
        "        calculate the average distance over a segment from its centroid.\n",
        "        '''\n",
        "\n",
        "        if self.distances is None:\n",
        "            self.get_weighted_dist()\n",
        "\n",
        "        avg_dist=np.zeros((len(self.doc_tokens), len(self.doc_tokens)))\n",
        "        for i in range(0, len(self.doc_tokens)):\n",
        "            for j in range(i, len(self.doc_tokens)):\n",
        "                avg_dist[i, j] = self.distances[i, j]/(j-i+1)\n",
        "\n",
        "        self.avg_dist = avg_dist\n",
        "\n",
        "        return\n",
        "\n",
        "    def greedy_text_segmentation(self, k):\n",
        "        '''\n",
        "        Using the greedy algorithm to segment the document into k segments.\n",
        "        '''\n",
        "\n",
        "        if self.avg_dist is None:\n",
        "            self.get_avg_dist()\n",
        "\n",
        "        seg_boundary = np.empty(k-1, dtype=int)\n",
        "        end=len(self.doc_tokens)-1\n",
        "        i=0\n",
        "        start=0\n",
        "        split_score = 0\n",
        "        for seg_num in range(k-2, -1, -1):\n",
        "            max_cost= None\n",
        "            #for i in range(start, end):\n",
        "            for j in range(start, end):\n",
        "                split_cost = (self.avg_dist[start,j] + self.avg_dist[j+1,end]) - self.avg_dist[start, end]\n",
        "                # We are looking for a segmentation point that creates segments most unlike\n",
        "                # the full section from start to end point.\n",
        "                if (max_cost is None) or ((split_cost) >= max_cost):\n",
        "                    max_cost = split_cost\n",
        "                    split_point= j\n",
        "            seg_boundary[seg_num]=split_point\n",
        "            end = split_point\n",
        "\n",
        "        self.seg_boundary = seg_boundary\n",
        "\n",
        "        return self.seg_boundary\n",
        "\n",
        "    def display_text(self, from_index, to_index):\n",
        "        '''\n",
        "        returns text words starting at word number from_index up to and including word number to_index.\n",
        "        Index values start from 0.\n",
        "        output is a string of text.\n",
        "        '''\n",
        "\n",
        "        if to_index is None:\n",
        "            ret_val = str.join(' ', self.all_doc_tokens[from_index:])\n",
        "        else:\n",
        "            ret_val = str.join(' ', self.all_doc_tokens[from_index:to_index+1])\n",
        "\n",
        "        return ret_val\n",
        "\n",
        "    def get_segment_texts(self):\n",
        "\n",
        "        if self.seg_boundary is None:\n",
        "            print(\"No segment boundaries found!\")\n",
        "        else:\n",
        "            start_index = 0\n",
        "            k = len(self.seg_boundary)\n",
        "            seg_text = np.empty(k+1, object)\n",
        "            for i in range(0, k+1):\n",
        "                if (i < len(self.seg_boundary)):\n",
        "                    seg_text[i]= self.display_text(start_index, self.token_index[self.seg_boundary[i]])\n",
        "                    start_index = self.token_index[self.seg_boundary[i]]+1\n",
        "                else:\n",
        "                    seg_text[i] = self.display_text(start_index, None)\n",
        "\n",
        "            self.seg_text = seg_text;\n",
        "\n",
        "        return self.seg_text\n",
        "\n",
        "    def get_segment(self, i):\n",
        "        '''\n",
        "        returns the text of segment number i\n",
        "        '''\n",
        "        res = None\n",
        "\n",
        "        if (self.seg_text is None):\n",
        "            self.get_segment_texts()\n",
        "        if not(self.seg_text is None) and (len(self.seg_text)< i) and (i>=0):\n",
        "           res =  self.seg_text[i];\n",
        "\n",
        "        return res"
      ],
      "execution_count": 28,
      "outputs": []
    },
    {
      "cell_type": "code",
      "metadata": {
        "colab": {
          "base_uri": "https://localhost:8080/"
        },
        "id": "vgsvJGtvkV2D",
        "outputId": "ab0ede88-7ce9-4d6f-d0d7-9424dc5c1125"
      },
      "source": [
        "!wget http://nlp.stanford.edu/data/glove.6B.zip"
      ],
      "execution_count": 21,
      "outputs": [
        {
          "output_type": "stream",
          "text": [
            "--2021-03-30 05:38:17--  http://nlp.stanford.edu/data/glove.6B.zip\n",
            "Resolving nlp.stanford.edu (nlp.stanford.edu)... 171.64.67.140\n",
            "Connecting to nlp.stanford.edu (nlp.stanford.edu)|171.64.67.140|:80... connected.\n",
            "HTTP request sent, awaiting response... 302 Found\n",
            "Location: https://nlp.stanford.edu/data/glove.6B.zip [following]\n",
            "--2021-03-30 05:38:17--  https://nlp.stanford.edu/data/glove.6B.zip\n",
            "Connecting to nlp.stanford.edu (nlp.stanford.edu)|171.64.67.140|:443... connected.\n",
            "HTTP request sent, awaiting response... 301 Moved Permanently\n",
            "Location: http://downloads.cs.stanford.edu/nlp/data/glove.6B.zip [following]\n",
            "--2021-03-30 05:38:18--  http://downloads.cs.stanford.edu/nlp/data/glove.6B.zip\n",
            "Resolving downloads.cs.stanford.edu (downloads.cs.stanford.edu)... 171.64.64.22\n",
            "Connecting to downloads.cs.stanford.edu (downloads.cs.stanford.edu)|171.64.64.22|:80... connected.\n",
            "HTTP request sent, awaiting response... 200 OK\n",
            "Length: 862182613 (822M) [application/zip]\n",
            "Saving to: ‘glove.6B.zip.2’\n",
            "\n",
            "glove.6B.zip.2        3%[                    ]  25.11M  16.5MB/s               ^C\n"
          ],
          "name": "stdout"
        }
      ]
    },
    {
      "cell_type": "code",
      "metadata": {
        "colab": {
          "base_uri": "https://localhost:8080/"
        },
        "id": "ZTrBiS4ZlIV1",
        "outputId": "b45f4537-f203-4f92-c9fe-3832d70a9786"
      },
      "source": [
        "!ls"
      ],
      "execution_count": 6,
      "outputs": [
        {
          "output_type": "stream",
          "text": [
            "glove.6B.100d.txt  glove.6B.300d.txt  glove.6B.zip\n",
            "glove.6B.200d.txt  glove.6B.50d.txt   sample_data\n"
          ],
          "name": "stdout"
        }
      ]
    },
    {
      "cell_type": "code",
      "metadata": {
        "colab": {
          "base_uri": "https://localhost:8080/"
        },
        "id": "ilIUS3I4l1oC",
        "outputId": "73a95555-cde8-4193-820e-5e1b66bfe008"
      },
      "source": [
        "!unzip glove*.zip"
      ],
      "execution_count": 5,
      "outputs": [
        {
          "output_type": "stream",
          "text": [
            "Archive:  glove.6B.zip\n",
            "  inflating: glove.6B.50d.txt        \n",
            "  inflating: glove.6B.100d.txt       \n",
            "  inflating: glove.6B.200d.txt       \n",
            "  inflating: glove.6B.300d.txt       \n"
          ],
          "name": "stdout"
        }
      ]
    },
    {
      "cell_type": "code",
      "metadata": {
        "colab": {
          "base_uri": "https://localhost:8080/"
        },
        "id": "NQTFCIN9sGmm",
        "outputId": "ceaaab7c-3542-4d2f-f4e6-0959ef4f87c7"
      },
      "source": [
        "# import required methods from gensim package\n",
        "from gensim.test.utils import get_tmpfile\n",
        "from gensim.models import KeyedVectors\n",
        "from gensim.scripts.glove2word2vec import glove2word2vec\n",
        " \n",
        "# create temp file and save converted embedding into it\n",
        "target_file = get_tmpfile('glove.6B.300d.txt.word2vec')\n",
        "glove2word2vec('glove.6B.300d.txt', 'glove.6B.300d.txt.word2vec')"
      ],
      "execution_count": 70,
      "outputs": [
        {
          "output_type": "execute_result",
          "data": {
            "text/plain": [
              "(400000, 300)"
            ]
          },
          "metadata": {
            "tags": []
          },
          "execution_count": 70
        }
      ]
    },
    {
      "cell_type": "code",
      "metadata": {
        "colab": {
          "base_uri": "https://localhost:8080/"
        },
        "id": "NcCPJP0lsXti",
        "outputId": "776c0815-c762-430c-f148-c335b3eabbc3"
      },
      "source": [
        "!ls"
      ],
      "execution_count": 45,
      "outputs": [
        {
          "output_type": "stream",
          "text": [
            "glove.6B.100d.txt\t    glove.6B.300d.txt  sample_data\n",
            "glove.6B.100d.txt.word2vec  glove.6B.50d.txt   sample.txt\n",
            "glove.6B.200d.txt\t    glove.6B.zip       sample.txt.1\n"
          ],
          "name": "stdout"
        }
      ]
    },
    {
      "cell_type": "code",
      "metadata": {
        "id": "9Y_VeVKql5AB"
      },
      "source": [
        "# the directory containing the Stanford GloVe model\n",
        "# Change this to the proper path in your environment\n",
        "glove_file = 'glove.6B.300d.txt.word2vec'"
      ],
      "execution_count": 71,
      "outputs": []
    },
    {
      "cell_type": "code",
      "metadata": {
        "colab": {
          "base_uri": "https://localhost:8080/"
        },
        "id": "seaIi61otwVW",
        "outputId": "8d7a597f-05df-4ced-da49-92cb3ac4ae47"
      },
      "source": [
        "!cat > sample.txt"
      ],
      "execution_count": 54,
      "outputs": [
        {
          "output_type": "stream",
          "text": [
            "The United States failed in its latest bid to qualify for the Olympic men’s soccer tournament on Sunday, falling to Honduras, 2-1, in a regional qualifying tournament in Mexico. A goalkeeping blunder proved to be the difference this time, but the feeling — and the frustration — was all too familiar.  The defeat was a humbling end to yet another Olympic qualifying campaign for the United States men, and it means the Americans will miss their third straight Summer Games. A United States men’s team last appeared in the Olympics in 2008, and now has failed to qualify for the Games in four of the past five cycles.  Goals by Honduras on either side of halftime — a bundled finish by the Brooklyn-born striker Juan Carlos Obregón Jr. in first-half stoppage time and a deflected goal as a disastrous mistake by goalkeeper David Ochoa minutes into the second half — proved decisive, and sent the Hondurans to their fourth straight Olympics. Honduras finished fourth in Rio de Janeiro in 2016, losing to the eventual champion, Brazil, in the semifinals.  “The goal was to qualify for the Olympics, and we didn’t get the job done today,” defender Henry Kessler said.\n",
            "^C\n"
          ],
          "name": "stdout"
        }
      ]
    },
    {
      "cell_type": "code",
      "metadata": {
        "id": "PC-OUIvMmZh9"
      },
      "source": [
        "file_name = \"sample.txt\""
      ],
      "execution_count": 55,
      "outputs": []
    },
    {
      "cell_type": "code",
      "metadata": {
        "colab": {
          "base_uri": "https://localhost:8080/"
        },
        "id": "cvnx59QomULy",
        "outputId": "4d7dc938-12c3-4f96-e387-bf76ce36c742"
      },
      "source": [
        "# Instantiating the text segmetnation class object\n",
        "seg_obj = text_segmentation_class(file_name, glove_file)\n",
        "\n",
        "#seg_boj.doc contains the text of the document to be segmented\n",
        "print(seg_obj.doc)"
      ],
      "execution_count": 72,
      "outputs": [
        {
          "output_type": "stream",
          "text": [
            "The United States failed in its latest bid to qualify for the Olympic men’s soccer tournament on Sunday, falling to Honduras, 2-1, in a regional qualifying tournament in Mexico. A goalkeeping blunder proved to be the difference this time, but the feeling — and the frustration — was all too familiar.  The defeat was a humbling end to yet another Olympic qualifying campaign for the United States men, and it means the Americans will miss their third straight Summer Games. A United States men’s team last appeared in the Olympics in 2008, and now has failed to qualify for the Games in four of the past five cycles.  Goals by Honduras on either side of halftime — a bundled finish by the Brooklyn-born striker Juan Carlos Obregón Jr. in first-half stoppage time and a deflected goal as a disastrous mistake by goalkeeper David Ochoa minutes into the second half — proved decisive, and sent the Hondurans to their fourth straight Olympics. Honduras finished fourth in Rio de Janeiro in 2016, losing to the eventual champion, Brazil, in the semifinals.  “The goal was to qualify for the Olympics, and we didn’t get the job done today,” defender Henry Kessler said.\n",
            "\n"
          ],
          "name": "stdout"
        }
      ]
    },
    {
      "cell_type": "code",
      "metadata": {
        "colab": {
          "base_uri": "https://localhost:8080/"
        },
        "id": "iNZqgbZknQpF",
        "outputId": "54cacea4-2019-4ab2-da98-1764e4e55d66"
      },
      "source": [
        "import nltk\n",
        "nltk.download('stopwords')\n",
        "nltk.download('punkt')"
      ],
      "execution_count": 57,
      "outputs": [
        {
          "output_type": "stream",
          "text": [
            "[nltk_data] Downloading package stopwords to /root/nltk_data...\n",
            "[nltk_data]   Package stopwords is already up-to-date!\n",
            "[nltk_data] Downloading package punkt to /root/nltk_data...\n",
            "[nltk_data]   Package punkt is already up-to-date!\n"
          ],
          "name": "stdout"
        },
        {
          "output_type": "execute_result",
          "data": {
            "text/plain": [
              "True"
            ]
          },
          "metadata": {
            "tags": []
          },
          "execution_count": 57
        }
      ]
    },
    {
      "cell_type": "code",
      "metadata": {
        "colab": {
          "base_uri": "https://localhost:8080/"
        },
        "id": "jVECTLjCnZCX",
        "outputId": "092a6b82-ad59-45bf-9579-dd75011903aa"
      },
      "source": [
        "\n",
        "# Find best segmentation boundaries to create n segments, for a given k\n",
        "k=3\n",
        "\n",
        "# Segment text into k segments using the greedy method\n",
        "seg_obj.greedy_text_segmentation(k);"
      ],
      "execution_count": 73,
      "outputs": [
        {
          "output_type": "stream",
          "text": [
            "removing  brooklyn-born 129 99\n",
            "deleted 128 98\n"
          ],
          "name": "stdout"
        }
      ]
    },
    {
      "cell_type": "code",
      "metadata": {
        "colab": {
          "base_uri": "https://localhost:8080/",
          "height": 295
        },
        "id": "liFiEAm7tDxy",
        "outputId": "738912ed-3239-42e4-ec3f-2795720f9719"
      },
      "source": [
        "plt.plot(1-seg_obj.avg_dist[0,:])\n",
        "plt.ylabel('Homogeniouty (higher is better)')\n",
        "plt.xlabel('word position')\n",
        "plt.title('Homogeniouty of segment from first word to \\'word position\\' ')\n",
        "plt.plot(1-seg_obj.avg_dist[50,:])\n",
        "plt.plot(1-seg_obj.avg_dist[23,:])\n",
        "plt.show()"
      ],
      "execution_count": 74,
      "outputs": [
        {
          "output_type": "display_data",
          "data": {
            "image/png": "[encoded data removed]",
            "text/plain": [
              "<Figure size 432x288 with 1 Axes>"
            ]
          },
          "metadata": {
            "tags": [],
            "needs_background": "light"
          }
        }
      ]
    },
    {
      "cell_type": "code",
      "metadata": {
        "id": "uQdKn7SptGKe"
      },
      "source": [
        "segments= seg_obj.get_segment_texts()"
      ],
      "execution_count": 75,
      "outputs": []
    },
    {
      "cell_type": "code",
      "metadata": {
        "colab": {
          "base_uri": "https://localhost:8080/"
        },
        "id": "c2ODqZcntSIg",
        "outputId": "42829cd1-c77c-42fa-a680-4ee2210a50a5"
      },
      "source": [
        "\n",
        "for i, seg in enumerate(segments):\n",
        "    print(\"segment {}:\\n{}\\n====\".format(i+1, seg))"
      ],
      "execution_count": 76,
      "outputs": [
        {
          "output_type": "stream",
          "text": [
            "segment 1:\n",
            "The United States failed in its latest bid to qualify for the Olympic men ’ s soccer tournament on Sunday , falling to Honduras , 2-1 , in a regional qualifying tournament in Mexico . A goalkeeping blunder proved to be the difference this time , but the feeling — and the frustration — was all too familiar . The defeat was a humbling end to yet another Olympic qualifying campaign for the United States men , and it means the Americans will miss their third straight Summer Games . A United States men ’ s team last appeared in the Olympics in 2008 , and now has failed to qualify for the Games in four of the past five cycles . Goals by Honduras on either side of halftime — a bundled finish by the Brooklyn-born striker Juan Carlos Obregón Jr. in first-half stoppage time and a deflected goal as a disastrous mistake by goalkeeper David Ochoa minutes\n",
            "====\n",
            "segment 2:\n",
            "into the second half — proved decisive , and sent the Hondurans to their fourth straight Olympics . Honduras finished fourth in Rio de Janeiro in 2016 , losing to the eventual champion , Brazil , in the semifinals . “ The goal was to qualify for the Olympics , and we didn ’ t get the job done today , ” defender Henry\n",
            "====\n",
            "segment 3:\n",
            "Kessler said .\n",
            "====\n"
          ],
          "name": "stdout"
        }
      ]
    },
    {
      "cell_type": "code",
      "metadata": {
        "colab": {
          "base_uri": "https://localhost:8080/"
        },
        "id": "HTYj-IaUnltt",
        "outputId": "c01091db-f76e-4354-b352-94b656d827dc"
      },
      "source": [
        "!cp https://raw.githubusercontent.com/ReemHal/Semantic-Text-Segmentation-with-Embeddings/master/sample.txt sample.txt"
      ],
      "execution_count": 26,
      "outputs": [
        {
          "output_type": "stream",
          "text": [
            "cp: cannot stat 'https://raw.githubusercontent.com/ReemHal/Semantic-Text-Segmentation-with-Embeddings/master/sample.txt': No such file or directory\n"
          ],
          "name": "stdout"
        }
      ]
    },
    {
      "cell_type": "code",
      "metadata": {
        "colab": {
          "base_uri": "https://localhost:8080/"
        },
        "id": "YBqNzlKfplpk",
        "outputId": "36936504-dcb5-4dbf-9862-eaf7294ab98d"
      },
      "source": [
        "!wget https://raw.githubusercontent.com/ReemHal/Semantic-Text-Segmentation-with-Embeddings/master/sample.txt"
      ],
      "execution_count": 27,
      "outputs": [
        {
          "output_type": "stream",
          "text": [
            "--2021-03-30 05:45:03--  https://raw.githubusercontent.com/ReemHal/Semantic-Text-Segmentation-with-Embeddings/master/sample.txt\n",
            "Resolving raw.githubusercontent.com (raw.githubusercontent.com)... 185.199.108.133, 185.199.110.133, 185.199.109.133, ...\n",
            "Connecting to raw.githubusercontent.com (raw.githubusercontent.com)|185.199.108.133|:443... connected.\n",
            "HTTP request sent, awaiting response... 200 OK\n",
            "Length: 1487 (1.5K) [text/plain]\n",
            "Saving to: ‘sample.txt.1’\n",
            "\n",
            "\rsample.txt.1          0%[                    ]       0  --.-KB/s               \rsample.txt.1        100%[===================>]   1.45K  --.-KB/s    in 0s      \n",
            "\n",
            "2021-03-30 05:45:03 (27.1 MB/s) - ‘sample.txt.1’ saved [1487/1487]\n",
            "\n"
          ],
          "name": "stdout"
        }
      ]
    },
    {
      "cell_type": "code",
      "metadata": {
        "id": "xC0HLGk7qfY5"
      },
      "source": [
        ""
      ],
      "execution_count": null,
      "outputs": []
    }
  ]
}